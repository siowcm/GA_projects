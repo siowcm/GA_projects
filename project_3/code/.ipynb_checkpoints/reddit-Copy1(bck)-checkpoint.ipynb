{
 "cells": [
  {
   "cell_type": "markdown",
   "id": "6072fafa",
   "metadata": {},
   "source": [
    "# Project 3:  Web APIs & NLP\n",
    "---\n",
    "## Table of Contents\n",
    "\n",
    "1. [Introduction and Problem Statement](#1.-Introduction-and-Problem-Statement)\n",
    "2. [Web scraping](#2.-Web-scraping)\n",
    "3. [EDA](#3.-EDA)\n",
    "4. [Pre-processing](#4.-Pre-processing)\n",
    "5. [Modeling](#5.-Modeling)\n",
    "6. [Conclusion](#7.-Conclusion)\n",
    "---"
   ]
  },
  {
   "cell_type": "markdown",
   "id": "9d72b7d6",
   "metadata": {},
   "source": [
    "# 1. Introduction and Problem Statement\n",
    "\n",
    "A [study](https://www.straitstimes.com/singapore/health/imh-study-points-to-likely-increase-in-mental-health-issues-in-spore-amid-covid-19) conducted by Institute of Mental Health (IMH) and The University of Hong Kong (HKU) between May 2020 and June 2021 revealed that 13% of the 1,000 local participants reported symptoms of anxiety or depression during the Covid-19 pandemic. Mental health issues, if left neglected, will become more difficult to treat and recover. As such, there is a motivation to identify people who are potentially suffering from mental illness in order to encourage them to seek for social support or early medical treatment.\n",
    "\n",
    "This project aims to identify troubled individuals through their writing (e.g. social media posting) with the help of a NLP classifier model. To train and build such NLP classifier model, a large set of training data is required but unfortunately it is not readily available. As a novel approach, text based information from subreddits [r/MentalHealthUK](https://www.reddit.com/r/MentalHealthUK/) and [r/britishproblems](https://www.reddit.com/r/britishproblems/) will be scraped using pushshit API to produce the necessary data to train the NLP classifier model. Ideally, the NLP classifier model would become reliable in identifying individuals that are potentially suffering from mental issues from individual that are just complaining or ranting about issues. "
   ]
  },
  {
   "cell_type": "markdown",
   "id": "360affe4",
   "metadata": {},
   "source": [
    "# 2. Web scraping\n",
    "Pushshift API is used to scrap subreddits and the saved as cvs files. "
   ]
  },
  {
   "cell_type": "code",
   "execution_count": 1,
   "id": "6846a8a9",
   "metadata": {
    "execution": {
     "iopub.execute_input": "2022-01-17T15:23:00.950295Z",
     "iopub.status.busy": "2022-01-17T15:23:00.949861Z",
     "iopub.status.idle": "2022-01-17T15:23:02.797316Z",
     "shell.execute_reply": "2022-01-17T15:23:02.796968Z",
     "shell.execute_reply.started": "2022-01-17T15:23:00.950240Z"
    },
    "tags": []
   },
   "outputs": [],
   "source": [
    "#import libraries\n",
    "import requests\n",
    "import pandas as pd\n",
    "import numpy as np\n",
    "import matplotlib.pyplot as plt\n",
    "import seaborn as sns\n",
    "import time\n",
    "import datetime\n",
    "import re\n",
    "from nltk.tokenize import word_tokenize, RegexpTokenizer\n",
    "from nltk.stem import WordNetLemmatizer\n",
    "from nltk.corpus import stopwords\n",
    "from nltk.sentiment.vader import SentimentIntensityAnalyzer\n",
    "from sklearn.model_selection import train_test_split, GridSearchCV\n",
    "from sklearn.pipeline import Pipeline\n",
    "from sklearn.naive_bayes import MultinomialNB\n",
    "from sklearn.linear_model import LogisticRegression\n",
    "from sklearn.neighbors import KNeighborsClassifier\n",
    "from sklearn.tree import DecisionTreeClassifier\n",
    "from sklearn.ensemble import RandomForestClassifier\n",
    "from sklearn.feature_extraction.text import CountVectorizer, TfidfVectorizer\n",
    "from sklearn.metrics import accuracy_score, precision_score, recall_score, \\\n",
    "f1_score, confusion_matrix, classification_report, ConfusionMatrixDisplay, \\\n",
    "plot_roc_curve"
   ]
  },
  {
   "cell_type": "code",
   "execution_count": 2,
   "id": "680919cc-9aac-4889-8910-7aa3c8ee61ad",
   "metadata": {
    "execution": {
     "iopub.execute_input": "2022-01-17T15:23:02.798670Z",
     "iopub.status.busy": "2022-01-17T15:23:02.798565Z",
     "iopub.status.idle": "2022-01-17T15:23:02.800547Z",
     "shell.execute_reply": "2022-01-17T15:23:02.800259Z",
     "shell.execute_reply.started": "2022-01-17T15:23:02.798658Z"
    },
    "tags": []
   },
   "outputs": [],
   "source": [
    "import sklearn.metrics as metrics"
   ]
  },
  {
   "cell_type": "code",
   "execution_count": 3,
   "id": "ab6ad047-fa31-4b53-91b5-3e232e14b9e8",
   "metadata": {
    "execution": {
     "iopub.execute_input": "2022-01-17T15:23:02.802120Z",
     "iopub.status.busy": "2022-01-17T15:23:02.802040Z",
     "iopub.status.idle": "2022-01-17T15:23:02.807507Z",
     "shell.execute_reply": "2022-01-17T15:23:02.807187Z",
     "shell.execute_reply.started": "2022-01-17T15:23:02.802109Z"
    },
    "tags": []
   },
   "outputs": [],
   "source": [
    "#function to scrap subreddit\n",
    "def scrape_reddit(subreddit, time, size, num_of_posts):\n",
    "    \"\"\"Scrape subreddit and return dataframe with subreddit posts' information \n",
    "    i.e. created_utc, title, selftext.\n",
    "    Function will drop posts selftext that are empty, removed, and deleted.\n",
    "\n",
    "    Keyword arguments:\n",
    "    subreddit -- string value of subreddit.\n",
    "    time -- data/time in epoch value. Scrap posts before this data/time.\n",
    "    size -- number of post per scrape. Max 100 posts per scrape.\n",
    "    num_of_posts -- required number posts to be scrapped.\n",
    "    \"\"\"\n",
    "\n",
    "    #create a empty dataframe \n",
    "    df = pd.DataFrame([],columns=['subreddit', 'created_utc', \n",
    "                                  'title', 'selftext'])\n",
    "\n",
    "    #define a while loop to scrape reddit \n",
    "    while True:\n",
    "        #params for API\n",
    "        params = {\n",
    "            'subreddit': subreddit,   #subreddit \n",
    "            'size': size,             #num of post per scrape \n",
    "            'before': time            #point of reference for scraping\n",
    "            }\n",
    "\n",
    "        #request information from pushshift API\n",
    "        res = requests.get('https://api.pushshift.io/reddit/search/submission',\n",
    "                           params)\n",
    "        \n",
    "        #save posts as df\n",
    "        posts_df = pd.DataFrame(res.json()['data'], columns=['subreddit', \n",
    "                                                             'created_utc',\n",
    "                                                             'title',\n",
    "                                                             'selftext'])\n",
    "        \n",
    "        #drop empyt string in selftext\n",
    "        posts_df = posts_df.replace(r'^\\s*$', np.nan, regex=True)\n",
    "        posts_df.replace('[removed]',np.nan, inplace=True)\n",
    "        posts_df.replace('[deleted]',np.nan, inplace=True)\n",
    "        posts_df.dropna(inplace=True)\n",
    "        \n",
    "        #concatenate data and reassign time_ref value to new point of reference  \n",
    "        df = pd.concat([df, posts_df])\n",
    "        df.reset_index(drop=True, inplace=True)\n",
    "        time = posts_df.iloc[-1,1]\n",
    "        \n",
    "        #break the while-loop if scrapped enough posts \n",
    "        if len(df.index) >= num_of_posts:\n",
    "            break\n",
    "            \n",
    "    df = df.reset_index(drop=True)\n",
    "    \n",
    "    return df "
   ]
  },
  {
   "cell_type": "markdown",
   "id": "56cc2510-8fe2-4021-b3c7-a8b1bf43a2b8",
   "metadata": {},
   "source": [
    "## to uncomment"
   ]
  },
  {
   "cell_type": "code",
   "execution_count": 4,
   "id": "d895eeca-b4d3-4584-9f9d-24b28725b58b",
   "metadata": {
    "execution": {
     "iopub.execute_input": "2022-01-17T15:23:02.809075Z",
     "iopub.status.busy": "2022-01-17T15:23:02.808950Z",
     "iopub.status.idle": "2022-01-17T15:23:02.811651Z",
     "shell.execute_reply": "2022-01-17T15:23:02.811134Z",
     "shell.execute_reply.started": "2022-01-17T15:23:02.809062Z"
    },
    "tags": []
   },
   "outputs": [],
   "source": [
    "#reference date for data scraping\n",
    "dt = datetime.datetime(2022, 1, 12, 0, 0 ,0)    #YYYY-MM-DD-hh-mm-ss\n",
    "time_ref = int(time.mktime((dt.timetuple())))"
   ]
  },
  {
   "cell_type": "code",
   "execution_count": 5,
   "id": "45f09b57-73b9-4863-a05d-cbf725fcbf27",
   "metadata": {
    "execution": {
     "iopub.execute_input": "2022-01-17T15:23:02.812258Z",
     "iopub.status.busy": "2022-01-17T15:23:02.812160Z",
     "iopub.status.idle": "2022-01-17T15:23:02.815002Z",
     "shell.execute_reply": "2022-01-17T15:23:02.814640Z",
     "shell.execute_reply.started": "2022-01-17T15:23:02.812245Z"
    },
    "tags": []
   },
   "outputs": [],
   "source": [
    "#define function to convert UTC to datetime\n",
    "def utc_to_dt(utc):\n",
    "    '''convert UTC to mm/dd/yy hh:mm:ss'''\n",
    "    t = datetime.datetime.fromtimestamp(\n",
    "        time.mktime(time.localtime(utc))).strftime('%x %X')\n",
    "    return t"
   ]
  },
  {
   "cell_type": "code",
   "execution_count": 6,
   "id": "6fa6bbb0-c50a-44e3-bdcf-c666cb1b72d6",
   "metadata": {
    "execution": {
     "iopub.execute_input": "2022-01-17T15:23:02.815607Z",
     "iopub.status.busy": "2022-01-17T15:23:02.815515Z",
     "iopub.status.idle": "2022-01-17T15:24:31.618042Z",
     "shell.execute_reply": "2022-01-17T15:24:31.617526Z",
     "shell.execute_reply.started": "2022-01-17T15:23:02.815595Z"
    },
    "tags": []
   },
   "outputs": [],
   "source": [
    "#scrape subreddit and save as csv\n",
    "df = scrape_reddit(subreddit='mentalhealthuk',\n",
    "                   time=time_ref,\n",
    "                   size=100,\n",
    "                   num_of_posts=1000)\n",
    "\n",
    "#convert UTC to datetime\n",
    "df['created_utc'] = df['created_utc'].apply(lambda x: utc_to_dt(x))\n",
    "\n",
    "#save df as csv\n",
    "df.to_csv('../data/mentalhealthuk.csv', index=False)"
   ]
  },
  {
   "cell_type": "code",
   "execution_count": 7,
   "id": "b35875d3-a654-47d2-8a0e-1a4f48f9741f",
   "metadata": {
    "execution": {
     "iopub.execute_input": "2022-01-17T15:24:31.619287Z",
     "iopub.status.busy": "2022-01-17T15:24:31.618983Z",
     "iopub.status.idle": "2022-01-17T15:26:44.861050Z",
     "shell.execute_reply": "2022-01-17T15:26:44.859924Z",
     "shell.execute_reply.started": "2022-01-17T15:24:31.619268Z"
    },
    "tags": []
   },
   "outputs": [],
   "source": [
    "#scrape subreddit and save as csv\n",
    "df2 = scrape_reddit(subreddit='britishproblems', \n",
    "                    time=time_ref, \n",
    "                    size=100, \n",
    "                    num_of_posts=1000)\n",
    "\n",
    "#convert UTC to datetime\n",
    "df2['created_utc'] = df2['created_utc'].apply(lambda x: utc_to_dt(x))\n",
    "\n",
    "#save df as csv\n",
    "df2.to_csv('../data/britishproblems.csv', index=False)"
   ]
  },
  {
   "cell_type": "markdown",
   "id": "bac2e542-85a4-4c42-aa80-46da671d45c2",
   "metadata": {},
   "source": [
    "# 3. Data Cleaning"
   ]
  },
  {
   "cell_type": "markdown",
   "id": "efcfc23d-a60f-4bb8-bdd9-26a14637a861",
   "metadata": {
    "tags": []
   },
   "source": [
    "### Inspect dataframes"
   ]
  },
  {
   "cell_type": "code",
   "execution_count": 8,
   "id": "f25715e0-abb2-4864-bd34-536bd4dfe0e4",
   "metadata": {
    "execution": {
     "iopub.execute_input": "2022-01-17T15:26:44.865704Z",
     "iopub.status.busy": "2022-01-17T15:26:44.865471Z",
     "iopub.status.idle": "2022-01-17T15:26:44.909784Z",
     "shell.execute_reply": "2022-01-17T15:26:44.909433Z",
     "shell.execute_reply.started": "2022-01-17T15:26:44.865677Z"
    },
    "tags": []
   },
   "outputs": [],
   "source": [
    "#import csv as dataframes \n",
    "mental = pd.read_csv('../data/mentalhealthuk.csv')\n",
    "problems = pd.read_csv('../data/britishproblems.csv')"
   ]
  },
  {
   "cell_type": "code",
   "execution_count": 9,
   "id": "cfce8dc6-98e6-4528-807a-2e4d2f816754",
   "metadata": {
    "execution": {
     "iopub.execute_input": "2022-01-17T15:26:44.910902Z",
     "iopub.status.busy": "2022-01-17T15:26:44.910795Z",
     "iopub.status.idle": "2022-01-17T15:26:44.930155Z",
     "shell.execute_reply": "2022-01-17T15:26:44.929874Z",
     "shell.execute_reply.started": "2022-01-17T15:26:44.910889Z"
    },
    "tags": []
   },
   "outputs": [
    {
     "data": {
      "text/html": [
       "<div>\n",
       "<style scoped>\n",
       "    .dataframe tbody tr th:only-of-type {\n",
       "        vertical-align: middle;\n",
       "    }\n",
       "\n",
       "    .dataframe tbody tr th {\n",
       "        vertical-align: top;\n",
       "    }\n",
       "\n",
       "    .dataframe thead th {\n",
       "        text-align: right;\n",
       "    }\n",
       "</style>\n",
       "<table border=\"1\" class=\"dataframe\">\n",
       "  <thead>\n",
       "    <tr style=\"text-align: right;\">\n",
       "      <th></th>\n",
       "      <th>subreddit</th>\n",
       "      <th>created_utc</th>\n",
       "      <th>title</th>\n",
       "      <th>selftext</th>\n",
       "    </tr>\n",
       "  </thead>\n",
       "  <tbody>\n",
       "    <tr>\n",
       "      <th>0</th>\n",
       "      <td>MentalHealthUK</td>\n",
       "      <td>01/11/22 22:03:11</td>\n",
       "      <td>I don't feel human, I feel more like an alien ...</td>\n",
       "      <td>Being autistic is a life sentenced, going thou...</td>\n",
       "    </tr>\n",
       "    <tr>\n",
       "      <th>1</th>\n",
       "      <td>MentalHealthUK</td>\n",
       "      <td>01/11/22 21:18:55</td>\n",
       "      <td>[Academic] 5HT7 study is looking for adults di...</td>\n",
       "      <td>We are looking for  **adults diagnosed with bi...</td>\n",
       "    </tr>\n",
       "    <tr>\n",
       "      <th>2</th>\n",
       "      <td>MentalHealthUK</td>\n",
       "      <td>01/11/22 19:36:48</td>\n",
       "      <td>Rejected Petition Advise</td>\n",
       "      <td>Hi, I posted on here a few days ago ([https://...</td>\n",
       "    </tr>\n",
       "    <tr>\n",
       "      <th>3</th>\n",
       "      <td>MentalHealthUK</td>\n",
       "      <td>01/11/22 08:44:06</td>\n",
       "      <td>Feels bar?</td>\n",
       "      <td>Feels bar has opened. Feel free to post here i...</td>\n",
       "    </tr>\n",
       "    <tr>\n",
       "      <th>4</th>\n",
       "      <td>MentalHealthUK</td>\n",
       "      <td>01/11/22 08:18:24</td>\n",
       "      <td>Severe OCD thoughts about simulated reality</td>\n",
       "      <td>\\n\\nWhat should I do? I have OCD but I can't ...</td>\n",
       "    </tr>\n",
       "  </tbody>\n",
       "</table>\n",
       "</div>"
      ],
      "text/plain": [
       "        subreddit        created_utc  \\\n",
       "0  MentalHealthUK  01/11/22 22:03:11   \n",
       "1  MentalHealthUK  01/11/22 21:18:55   \n",
       "2  MentalHealthUK  01/11/22 19:36:48   \n",
       "3  MentalHealthUK  01/11/22 08:44:06   \n",
       "4  MentalHealthUK  01/11/22 08:18:24   \n",
       "\n",
       "                                               title  \\\n",
       "0  I don't feel human, I feel more like an alien ...   \n",
       "1  [Academic] 5HT7 study is looking for adults di...   \n",
       "2                           Rejected Petition Advise   \n",
       "3                                         Feels bar?   \n",
       "4        Severe OCD thoughts about simulated reality   \n",
       "\n",
       "                                            selftext  \n",
       "0  Being autistic is a life sentenced, going thou...  \n",
       "1  We are looking for  **adults diagnosed with bi...  \n",
       "2  Hi, I posted on here a few days ago ([https://...  \n",
       "3  Feels bar has opened. Feel free to post here i...  \n",
       "4   \\n\\nWhat should I do? I have OCD but I can't ...  "
      ]
     },
     "metadata": {},
     "output_type": "display_data"
    },
    {
     "data": {
      "text/html": [
       "<div>\n",
       "<style scoped>\n",
       "    .dataframe tbody tr th:only-of-type {\n",
       "        vertical-align: middle;\n",
       "    }\n",
       "\n",
       "    .dataframe tbody tr th {\n",
       "        vertical-align: top;\n",
       "    }\n",
       "\n",
       "    .dataframe thead th {\n",
       "        text-align: right;\n",
       "    }\n",
       "</style>\n",
       "<table border=\"1\" class=\"dataframe\">\n",
       "  <thead>\n",
       "    <tr style=\"text-align: right;\">\n",
       "      <th></th>\n",
       "      <th>subreddit</th>\n",
       "      <th>created_utc</th>\n",
       "      <th>title</th>\n",
       "      <th>selftext</th>\n",
       "    </tr>\n",
       "  </thead>\n",
       "  <tbody>\n",
       "    <tr>\n",
       "      <th>0</th>\n",
       "      <td>britishproblems</td>\n",
       "      <td>01/11/22 23:40:37</td>\n",
       "      <td>Carbon Footprint. I hate the name, I hate the ...</td>\n",
       "      <td>Carbon isn't the problem, carbon, in it's blac...</td>\n",
       "    </tr>\n",
       "    <tr>\n",
       "      <th>1</th>\n",
       "      <td>britishproblems</td>\n",
       "      <td>01/11/22 23:35:42</td>\n",
       "      <td>Seeing women consistently being overlooked or ...</td>\n",
       "      <td>So my wife has just started going back to work...</td>\n",
       "    </tr>\n",
       "    <tr>\n",
       "      <th>2</th>\n",
       "      <td>britishproblems</td>\n",
       "      <td>01/11/22 22:15:09</td>\n",
       "      <td>Asking strangers to buy you a £900+ pet cage &amp;...</td>\n",
       "      <td>Boils my piss seeing this online!</td>\n",
       "    </tr>\n",
       "    <tr>\n",
       "      <th>3</th>\n",
       "      <td>britishproblems</td>\n",
       "      <td>01/11/22 21:46:08</td>\n",
       "      <td>Co op self checkout machines being so loud whi...</td>\n",
       "      <td>Plus you’re halfway through scanning your item...</td>\n",
       "    </tr>\n",
       "    <tr>\n",
       "      <th>4</th>\n",
       "      <td>britishproblems</td>\n",
       "      <td>01/11/22 21:40:25</td>\n",
       "      <td>Why Mobile Apps Will Play a Crucial Role in Ba...</td>\n",
       "      <td>With the rise of smartphones, mobile apps have...</td>\n",
       "    </tr>\n",
       "  </tbody>\n",
       "</table>\n",
       "</div>"
      ],
      "text/plain": [
       "         subreddit        created_utc  \\\n",
       "0  britishproblems  01/11/22 23:40:37   \n",
       "1  britishproblems  01/11/22 23:35:42   \n",
       "2  britishproblems  01/11/22 22:15:09   \n",
       "3  britishproblems  01/11/22 21:46:08   \n",
       "4  britishproblems  01/11/22 21:40:25   \n",
       "\n",
       "                                               title  \\\n",
       "0  Carbon Footprint. I hate the name, I hate the ...   \n",
       "1  Seeing women consistently being overlooked or ...   \n",
       "2  Asking strangers to buy you a £900+ pet cage &...   \n",
       "3  Co op self checkout machines being so loud whi...   \n",
       "4  Why Mobile Apps Will Play a Crucial Role in Ba...   \n",
       "\n",
       "                                            selftext  \n",
       "0  Carbon isn't the problem, carbon, in it's blac...  \n",
       "1  So my wife has just started going back to work...  \n",
       "2                  Boils my piss seeing this online!  \n",
       "3  Plus you’re halfway through scanning your item...  \n",
       "4  With the rise of smartphones, mobile apps have...  "
      ]
     },
     "metadata": {},
     "output_type": "display_data"
    }
   ],
   "source": [
    "#print top rows of dfs\n",
    "display(mental.head())\n",
    "display(problems.head())"
   ]
  },
  {
   "cell_type": "code",
   "execution_count": 10,
   "id": "eb467e4d-bcdb-4d6d-9f16-311be316735b",
   "metadata": {
    "execution": {
     "iopub.execute_input": "2022-01-17T15:26:44.930891Z",
     "iopub.status.busy": "2022-01-17T15:26:44.930784Z",
     "iopub.status.idle": "2022-01-17T15:26:44.940558Z",
     "shell.execute_reply": "2022-01-17T15:26:44.940230Z",
     "shell.execute_reply.started": "2022-01-17T15:26:44.930879Z"
    },
    "tags": []
   },
   "outputs": [
    {
     "data": {
      "text/html": [
       "<div>\n",
       "<style scoped>\n",
       "    .dataframe tbody tr th:only-of-type {\n",
       "        vertical-align: middle;\n",
       "    }\n",
       "\n",
       "    .dataframe tbody tr th {\n",
       "        vertical-align: top;\n",
       "    }\n",
       "\n",
       "    .dataframe thead th {\n",
       "        text-align: right;\n",
       "    }\n",
       "</style>\n",
       "<table border=\"1\" class=\"dataframe\">\n",
       "  <thead>\n",
       "    <tr style=\"text-align: right;\">\n",
       "      <th></th>\n",
       "      <th>subreddit</th>\n",
       "      <th>created_utc</th>\n",
       "      <th>title</th>\n",
       "      <th>selftext</th>\n",
       "    </tr>\n",
       "  </thead>\n",
       "  <tbody>\n",
       "    <tr>\n",
       "      <th>1009</th>\n",
       "      <td>MentalHealthUK</td>\n",
       "      <td>08/04/21 21:35:37</td>\n",
       "      <td>It's me again! (emergency appt in 3 weeks lady)</td>\n",
       "      <td>Feeling utterly, utterly awful. Bad tummy for...</td>\n",
       "    </tr>\n",
       "    <tr>\n",
       "      <th>1010</th>\n",
       "      <td>MentalHealthUK</td>\n",
       "      <td>08/04/21 14:58:18</td>\n",
       "      <td>Voice Hearing Experiences during the Menstrual...</td>\n",
       "      <td>&amp;amp;#x200B;\\n\\nhttps://preview.redd.it/vfwkj7...</td>\n",
       "    </tr>\n",
       "    <tr>\n",
       "      <th>1011</th>\n",
       "      <td>MentalHealthUK</td>\n",
       "      <td>08/04/21 05:21:41</td>\n",
       "      <td>Brain at the end of its tether with stress (pt...</td>\n",
       "      <td>Worn out in mental anguish. Thing is no matter...</td>\n",
       "    </tr>\n",
       "    <tr>\n",
       "      <th>1012</th>\n",
       "      <td>MentalHealthUK</td>\n",
       "      <td>08/04/21 04:35:10</td>\n",
       "      <td>Failed at therapy</td>\n",
       "      <td>I've now completed a six week course of CBT. I...</td>\n",
       "    </tr>\n",
       "    <tr>\n",
       "      <th>1013</th>\n",
       "      <td>MentalHealthUK</td>\n",
       "      <td>08/04/21 04:01:32</td>\n",
       "      <td>I’m in my head again</td>\n",
       "      <td>I’m here again! I don’t want to be here, I nee...</td>\n",
       "    </tr>\n",
       "  </tbody>\n",
       "</table>\n",
       "</div>"
      ],
      "text/plain": [
       "           subreddit        created_utc  \\\n",
       "1009  MentalHealthUK  08/04/21 21:35:37   \n",
       "1010  MentalHealthUK  08/04/21 14:58:18   \n",
       "1011  MentalHealthUK  08/04/21 05:21:41   \n",
       "1012  MentalHealthUK  08/04/21 04:35:10   \n",
       "1013  MentalHealthUK  08/04/21 04:01:32   \n",
       "\n",
       "                                                  title  \\\n",
       "1009    It's me again! (emergency appt in 3 weeks lady)   \n",
       "1010  Voice Hearing Experiences during the Menstrual...   \n",
       "1011  Brain at the end of its tether with stress (pt...   \n",
       "1012                                  Failed at therapy   \n",
       "1013                               I’m in my head again   \n",
       "\n",
       "                                               selftext  \n",
       "1009   Feeling utterly, utterly awful. Bad tummy for...  \n",
       "1010  &amp;#x200B;\\n\\nhttps://preview.redd.it/vfwkj7...  \n",
       "1011  Worn out in mental anguish. Thing is no matter...  \n",
       "1012  I've now completed a six week course of CBT. I...  \n",
       "1013  I’m here again! I don’t want to be here, I nee...  "
      ]
     },
     "metadata": {},
     "output_type": "display_data"
    },
    {
     "data": {
      "text/html": [
       "<div>\n",
       "<style scoped>\n",
       "    .dataframe tbody tr th:only-of-type {\n",
       "        vertical-align: middle;\n",
       "    }\n",
       "\n",
       "    .dataframe tbody tr th {\n",
       "        vertical-align: top;\n",
       "    }\n",
       "\n",
       "    .dataframe thead th {\n",
       "        text-align: right;\n",
       "    }\n",
       "</style>\n",
       "<table border=\"1\" class=\"dataframe\">\n",
       "  <thead>\n",
       "    <tr style=\"text-align: right;\">\n",
       "      <th></th>\n",
       "      <th>subreddit</th>\n",
       "      <th>created_utc</th>\n",
       "      <th>title</th>\n",
       "      <th>selftext</th>\n",
       "    </tr>\n",
       "  </thead>\n",
       "  <tbody>\n",
       "    <tr>\n",
       "      <th>1008</th>\n",
       "      <td>britishproblems</td>\n",
       "      <td>12/21/21 06:00:22</td>\n",
       "      <td>Sick and tired of working in hospitality when ...</td>\n",
       "      <td>Granted poop has kinda hit the fan, but trying...</td>\n",
       "    </tr>\n",
       "    <tr>\n",
       "      <th>1009</th>\n",
       "      <td>britishproblems</td>\n",
       "      <td>12/21/21 05:23:58</td>\n",
       "      <td>Greggs having the most unreliable QR code scan...</td>\n",
       "      <td>Trying to get a free sugar strand donut from O...</td>\n",
       "    </tr>\n",
       "    <tr>\n",
       "      <th>1010</th>\n",
       "      <td>britishproblems</td>\n",
       "      <td>12/21/21 05:18:33</td>\n",
       "      <td>The Beeb filming of the Household Cavalry ride...</td>\n",
       "      <td>The whole thing about the ride is how riders a...</td>\n",
       "    </tr>\n",
       "    <tr>\n",
       "      <th>1011</th>\n",
       "      <td>britishproblems</td>\n",
       "      <td>12/21/21 04:22:52</td>\n",
       "      <td>Just had to drive through Bradford because Goo...</td>\n",
       "      <td>Would gladly follow signs to my destination if...</td>\n",
       "    </tr>\n",
       "    <tr>\n",
       "      <th>1012</th>\n",
       "      <td>britishproblems</td>\n",
       "      <td>12/21/21 04:15:58</td>\n",
       "      <td>The postman you'd hitherto never spoken more t...</td>\n",
       "      <td>Now I'm agonising over whether he's expecting ...</td>\n",
       "    </tr>\n",
       "  </tbody>\n",
       "</table>\n",
       "</div>"
      ],
      "text/plain": [
       "            subreddit        created_utc  \\\n",
       "1008  britishproblems  12/21/21 06:00:22   \n",
       "1009  britishproblems  12/21/21 05:23:58   \n",
       "1010  britishproblems  12/21/21 05:18:33   \n",
       "1011  britishproblems  12/21/21 04:22:52   \n",
       "1012  britishproblems  12/21/21 04:15:58   \n",
       "\n",
       "                                                  title  \\\n",
       "1008  Sick and tired of working in hospitality when ...   \n",
       "1009  Greggs having the most unreliable QR code scan...   \n",
       "1010  The Beeb filming of the Household Cavalry ride...   \n",
       "1011  Just had to drive through Bradford because Goo...   \n",
       "1012  The postman you'd hitherto never spoken more t...   \n",
       "\n",
       "                                               selftext  \n",
       "1008  Granted poop has kinda hit the fan, but trying...  \n",
       "1009  Trying to get a free sugar strand donut from O...  \n",
       "1010  The whole thing about the ride is how riders a...  \n",
       "1011  Would gladly follow signs to my destination if...  \n",
       "1012  Now I'm agonising over whether he's expecting ...  "
      ]
     },
     "metadata": {},
     "output_type": "display_data"
    }
   ],
   "source": [
    "#print last rows of dfs\n",
    "display(mental.tail())\n",
    "display(problems.tail())"
   ]
  },
  {
   "cell_type": "code",
   "execution_count": 11,
   "id": "f52a58e3-0fd4-4fd3-976a-f2f82fa8e0dd",
   "metadata": {
    "execution": {
     "iopub.execute_input": "2022-01-17T15:26:44.941395Z",
     "iopub.status.busy": "2022-01-17T15:26:44.941218Z",
     "iopub.status.idle": "2022-01-17T15:26:44.945332Z",
     "shell.execute_reply": "2022-01-17T15:26:44.944887Z",
     "shell.execute_reply.started": "2022-01-17T15:26:44.941379Z"
    },
    "tags": []
   },
   "outputs": [
    {
     "name": "stdout",
     "output_type": "stream",
     "text": [
      "shape of mental df : (1014, 4)\n",
      "shape of problem df: (1013, 4)\n"
     ]
    }
   ],
   "source": [
    "#check the shape of dataframes\n",
    "print(f\"shape of mental df : {mental.shape}\")\n",
    "print(f\"shape of problem df: {problems.shape}\")"
   ]
  },
  {
   "cell_type": "code",
   "execution_count": 12,
   "id": "39bf4d64-f9a4-490a-9cf6-7a225f880bf1",
   "metadata": {
    "execution": {
     "iopub.execute_input": "2022-01-17T15:26:44.946442Z",
     "iopub.status.busy": "2022-01-17T15:26:44.946330Z",
     "iopub.status.idle": "2022-01-17T15:26:44.954141Z",
     "shell.execute_reply": "2022-01-17T15:26:44.953673Z",
     "shell.execute_reply.started": "2022-01-17T15:26:44.946429Z"
    },
    "tags": []
   },
   "outputs": [
    {
     "name": "stdout",
     "output_type": "stream",
     "text": [
      "Number of NaN in mental df : 0\n",
      "Number of NaN in problem df: 0\n"
     ]
    }
   ],
   "source": [
    "#check for NaN \n",
    "print(f'Number of NaN in mental df : {mental.isna().sum().sum()}')\n",
    "print(f'Number of NaN in problem df: {problems.isna().sum().sum()}')"
   ]
  },
  {
   "cell_type": "markdown",
   "id": "6b8efb9a-2130-49e6-b1c4-8cf8dbb2ec66",
   "metadata": {},
   "source": [
    "### Check for removed or deleted posts"
   ]
  },
  {
   "cell_type": "code",
   "execution_count": 13,
   "id": "3250f46f-f442-46fa-8824-6f350087d27b",
   "metadata": {
    "execution": {
     "iopub.execute_input": "2022-01-17T15:26:44.957806Z",
     "iopub.status.busy": "2022-01-17T15:26:44.957647Z",
     "iopub.status.idle": "2022-01-17T15:26:44.967950Z",
     "shell.execute_reply": "2022-01-17T15:26:44.967568Z",
     "shell.execute_reply.started": "2022-01-17T15:26:44.957791Z"
    },
    "tags": []
   },
   "outputs": [
    {
     "name": "stdout",
     "output_type": "stream",
     "text": [
      "Number of deleted in mental df:   0\n",
      "Number of removed in mental df:   0\n",
      "Number of deleted in problems df: 0\n",
      "Number of removed in problems df: 0\n"
     ]
    }
   ],
   "source": [
    "#check for '[removed]' and '[deleted]' posts in selftext\n",
    "print(f\"Number of deleted in mental df:   \"\n",
    "      f\"{len(mental[mental['selftext']=='[deleted]'])}\")\n",
    "\n",
    "print(f\"Number of removed in mental df:   \"\n",
    "      f\"{len(mental[mental['selftext']=='[removed]'])}\")\n",
    "\n",
    "print(f\"Number of deleted in problems df: \"\n",
    "      f\"{len(problems[problems['selftext']=='[deleted]'])}\")\n",
    "\n",
    "print(f\"Number of removed in problems df: \"\n",
    "      f\"{len(problems[problems['selftext']=='[removed]'])}\")"
   ]
  },
  {
   "cell_type": "markdown",
   "id": "b74788b0-a113-4c4e-b661-daa1491361cd",
   "metadata": {},
   "source": [
    "### Check for duplicates "
   ]
  },
  {
   "cell_type": "code",
   "execution_count": 14,
   "id": "1a9e3950-db8a-4dc2-8bff-5171d9ca4673",
   "metadata": {
    "execution": {
     "iopub.execute_input": "2022-01-17T15:26:44.968603Z",
     "iopub.status.busy": "2022-01-17T15:26:44.968508Z",
     "iopub.status.idle": "2022-01-17T15:26:44.981777Z",
     "shell.execute_reply": "2022-01-17T15:26:44.981468Z",
     "shell.execute_reply.started": "2022-01-17T15:26:44.968590Z"
    },
    "tags": []
   },
   "outputs": [
    {
     "name": "stdout",
     "output_type": "stream",
     "text": [
      "Number of duplicated posts in mental df:   29\n",
      "Number of duplicated posts in problems df: 5\n"
     ]
    }
   ],
   "source": [
    "#check for duplication \n",
    "dup_mental = (len(mental[mental.duplicated(subset='title')]) \n",
    "              + len(mental[mental.duplicated(subset='selftext')]))\n",
    "\n",
    "dup_probs = (len(problems[problems.duplicated(subset='title')]) \n",
    "             + len(problems[problems.duplicated(subset='selftext')]))\n",
    "\n",
    "print(f\"Number of duplicated posts in mental df:   {dup_mental}\")\n",
    "print(f\"Number of duplicated posts in problems df: {dup_probs}\")"
   ]
  },
  {
   "cell_type": "code",
   "execution_count": 15,
   "id": "a2be7d1c-2628-4306-9951-66b11fd38613",
   "metadata": {
    "execution": {
     "iopub.execute_input": "2022-01-17T15:26:44.982449Z",
     "iopub.status.busy": "2022-01-17T15:26:44.982362Z",
     "iopub.status.idle": "2022-01-17T15:26:44.992115Z",
     "shell.execute_reply": "2022-01-17T15:26:44.991783Z",
     "shell.execute_reply.started": "2022-01-17T15:26:44.982437Z"
    },
    "tags": []
   },
   "outputs": [],
   "source": [
    "#remove duplicates\n",
    "mental.drop_duplicates(subset='title', inplace=True)\n",
    "mental.drop_duplicates(subset='selftext', inplace=True)\n",
    "problems.drop_duplicates(subset='title', inplace=True)\n",
    "problems.drop_duplicates(subset='selftext', inplace=True)"
   ]
  },
  {
   "cell_type": "code",
   "execution_count": 16,
   "id": "dc5c6736-2f33-4122-9ac8-a8dec14e2b18",
   "metadata": {
    "execution": {
     "iopub.execute_input": "2022-01-17T15:26:44.992838Z",
     "iopub.status.busy": "2022-01-17T15:26:44.992744Z",
     "iopub.status.idle": "2022-01-17T15:26:45.002729Z",
     "shell.execute_reply": "2022-01-17T15:26:45.002369Z",
     "shell.execute_reply.started": "2022-01-17T15:26:44.992824Z"
    }
   },
   "outputs": [
    {
     "name": "stdout",
     "output_type": "stream",
     "text": [
      "Number of duplicated posts in mental df:   0\n",
      "Number of duplicated posts in problems df: 0\n"
     ]
    }
   ],
   "source": [
    "#check for duplication \n",
    "dup_mental = (len(mental[mental.duplicated(subset='title')]) \n",
    "              + len(mental[mental.duplicated(subset='selftext')]))\n",
    "\n",
    "dup_probs = (len(problems[problems.duplicated(subset='title')]) \n",
    "             + len(problems[problems.duplicated(subset='selftext')]))\n",
    "\n",
    "print(f\"Number of duplicated posts in mental df:   {dup_mental}\")\n",
    "print(f\"Number of duplicated posts in problems df: {dup_probs}\")"
   ]
  },
  {
   "cell_type": "code",
   "execution_count": 17,
   "id": "930b5fcd-9c5f-46ee-b7bc-d39dfb459d13",
   "metadata": {
    "execution": {
     "iopub.execute_input": "2022-01-17T15:26:45.003467Z",
     "iopub.status.busy": "2022-01-17T15:26:45.003371Z",
     "iopub.status.idle": "2022-01-17T15:26:45.005935Z",
     "shell.execute_reply": "2022-01-17T15:26:45.005627Z",
     "shell.execute_reply.started": "2022-01-17T15:26:45.003454Z"
    },
    "tags": []
   },
   "outputs": [
    {
     "name": "stdout",
     "output_type": "stream",
     "text": [
      "shape of mental df:  (993, 4)\n",
      "shape of problem df: (1009, 4)\n"
     ]
    }
   ],
   "source": [
    "#check the shape of dataframes\n",
    "print(f\"shape of mental df:  {mental.shape}\")\n",
    "print(f\"shape of problem df: {problems.shape}\")"
   ]
  },
  {
   "cell_type": "markdown",
   "id": "fd6dee50-55b9-478b-a876-e361e8db435b",
   "metadata": {
    "execution": {
     "iopub.execute_input": "2022-01-14T08:12:20.722706Z",
     "iopub.status.busy": "2022-01-14T08:12:20.720159Z",
     "iopub.status.idle": "2022-01-14T08:12:20.738725Z",
     "shell.execute_reply": "2022-01-14T08:12:20.737597Z",
     "shell.execute_reply.started": "2022-01-14T08:12:20.722614Z"
    }
   },
   "source": [
    "### Remove URLs text"
   ]
  },
  {
   "cell_type": "code",
   "execution_count": 18,
   "id": "b2fd12c5-c069-4035-9dc7-f5b228786907",
   "metadata": {
    "execution": {
     "iopub.execute_input": "2022-01-17T15:26:45.006598Z",
     "iopub.status.busy": "2022-01-17T15:26:45.006510Z",
     "iopub.status.idle": "2022-01-17T15:26:45.015895Z",
     "shell.execute_reply": "2022-01-17T15:26:45.015554Z",
     "shell.execute_reply.started": "2022-01-17T15:26:45.006586Z"
    },
    "tags": []
   },
   "outputs": [],
   "source": [
    "#define regex\n",
    "reg_url = r'https?:\\/\\/(www\\.)?[-a-zA-Z0-9@:%._\\+~#=]{1,256}\\.[a-zA-Z0-9()]{1,6}\\b([-a-zA-Z0-9()@:%_\\+.~#?&//=]*)'\n",
    "\n",
    "#remove string that is basically a URL link\n",
    "mental['title'] = mental['title'].apply(\n",
    "    lambda x: re.sub(reg_url, '', x))\n",
    "\n",
    "mental['selftext'] = mental['selftext'].apply(\n",
    "    lambda x: re.sub(reg_url, '', x))\n",
    "\n",
    "problems['title'] = problems['title'].apply(\n",
    "    lambda x: re.sub(reg_url, '', x))\n",
    "\n",
    "problems['selftext'] = problems['selftext'].apply(\n",
    "    lambda x: re.sub(reg_url, '', x))"
   ]
  },
  {
   "cell_type": "markdown",
   "id": "1807abb9-2227-49bc-954e-be94b457258f",
   "metadata": {},
   "source": [
    "### Remove subreddit topic from title and selftext"
   ]
  },
  {
   "cell_type": "code",
   "execution_count": 19,
   "id": "8521571c-841a-4e09-8d1c-d9acb34f85a8",
   "metadata": {
    "execution": {
     "iopub.execute_input": "2022-01-17T15:26:45.016591Z",
     "iopub.status.busy": "2022-01-17T15:26:45.016494Z",
     "iopub.status.idle": "2022-01-17T15:26:45.072774Z",
     "shell.execute_reply": "2022-01-17T15:26:45.072369Z",
     "shell.execute_reply.started": "2022-01-17T15:26:45.016579Z"
    },
    "tags": []
   },
   "outputs": [],
   "source": [
    "#remove subreddit topic from title and selftext\n",
    "mental['title'] = mental['title'].apply(\n",
    "    lambda x: re.sub(r'mental|health|uk', '', x, flags=re.IGNORECASE))\n",
    "\n",
    "mental['selftext'] = mental['selftext'].apply(\n",
    "    lambda x: re.sub(r'mental|health|uk', '', x, flags=re.IGNORECASE))\n",
    "\n",
    "problems['title'] = problems['title'].apply(\n",
    "    lambda x: re.sub(r'british|problems', '', x, flags=re.IGNORECASE))\n",
    "\n",
    "problems['selftext'] = problems['selftext'].apply(\n",
    "    lambda x: re.sub(r'british|problems', '', x, flags=re.IGNORECASE))"
   ]
  },
  {
   "cell_type": "markdown",
   "id": "7ed0fc55-cfbc-4ecc-a675-2502313c8066",
   "metadata": {},
   "source": [
    "### Data wrangling"
   ]
  },
  {
   "cell_type": "code",
   "execution_count": 20,
   "id": "6c8787bd-c74a-471c-a9e9-60fa68aff548",
   "metadata": {
    "execution": {
     "iopub.execute_input": "2022-01-17T15:26:45.073924Z",
     "iopub.status.busy": "2022-01-17T15:26:45.073800Z",
     "iopub.status.idle": "2022-01-17T15:26:45.087822Z",
     "shell.execute_reply": "2022-01-17T15:26:45.087384Z",
     "shell.execute_reply.started": "2022-01-17T15:26:45.073910Z"
    },
    "tags": []
   },
   "outputs": [],
   "source": [
    "#merge title and selftext\n",
    "mental['combined_text'] = mental['title'] + ' ' + mental['selftext']\n",
    "problems['combined_text'] = problems['title'] + ' ' + problems['selftext']\n",
    "\n",
    "#merge both dataframes and drop irrelavant columns\n",
    "mental_prob = pd.concat([mental, problems])\n",
    "mental_prob = mental_prob[['subreddit', 'combined_text']]\n",
    "mental_prob.reset_index(drop=True, inplace=True)"
   ]
  },
  {
   "cell_type": "code",
   "execution_count": 21,
   "id": "12557319-cbf6-427a-aa6e-7d31ae38e2a5",
   "metadata": {
    "execution": {
     "iopub.execute_input": "2022-01-17T15:26:45.088503Z",
     "iopub.status.busy": "2022-01-17T15:26:45.088398Z",
     "iopub.status.idle": "2022-01-17T15:26:45.093275Z",
     "shell.execute_reply": "2022-01-17T15:26:45.092926Z",
     "shell.execute_reply.started": "2022-01-17T15:26:45.088490Z"
    },
    "tags": []
   },
   "outputs": [
    {
     "data": {
      "text/plain": [
       "(2002, 2)"
      ]
     },
     "execution_count": 21,
     "metadata": {},
     "output_type": "execute_result"
    }
   ],
   "source": [
    "#check shape of dataframe\n",
    "mental_prob.shape"
   ]
  },
  {
   "cell_type": "code",
   "execution_count": 22,
   "id": "64ad54e7-03e3-4576-9a39-cd7b23fad6ea",
   "metadata": {
    "execution": {
     "iopub.execute_input": "2022-01-17T15:26:45.094036Z",
     "iopub.status.busy": "2022-01-17T15:26:45.093922Z",
     "iopub.status.idle": "2022-01-17T15:26:45.127790Z",
     "shell.execute_reply": "2022-01-17T15:26:45.127457Z",
     "shell.execute_reply.started": "2022-01-17T15:26:45.094023Z"
    },
    "tags": []
   },
   "outputs": [],
   "source": [
    "#export df as csv\n",
    "mental_prob.to_csv('../data/mental_prob.csv', index=False)"
   ]
  },
  {
   "cell_type": "markdown",
   "id": "887a3367-2d7c-4ecd-bffe-c47cc459ed8e",
   "metadata": {
    "tags": []
   },
   "source": [
    "# 4. EDA\n",
    "To understand the text data from subreddits better, the following section will explore the subreddit's n-grams, sentiments, and post lengths."
   ]
  },
  {
   "cell_type": "markdown",
   "id": "e1785b3e-df3d-489e-ad1b-94bede0269c0",
   "metadata": {},
   "source": [
    "### N-grams exploration\n",
    "Before the exploration of n-grams of each reddit post, they have to be vectorised by using either `CountVectorizer()` or `TfidVectorizer`. In `CountVectorizer()`, number of times each word appears in the subreddit is tabulated which results in biasing in favour of most frequent words. The downside is that it ends up in ignoring rare words which could have helped is in processing our data more efficiently. However, `TfidfVectorizer()` consider the overall document weightage of a word. It penalized frequent appearing words.\n",
    "\n",
    "To further reduce the words variation due to grammar rules, each tokenized word than undergo a lemmaization through `WordNetLemmatizer()`. \n",
    "\n",
    "Finally, the histogram for uni-gram, bi-gram, and tri-gram are plotted."
   ]
  },
  {
   "cell_type": "code",
   "execution_count": 23,
   "id": "063fbb32-32a5-436f-944f-1e5def00fe72",
   "metadata": {
    "execution": {
     "iopub.execute_input": "2022-01-17T15:26:45.128575Z",
     "iopub.status.busy": "2022-01-17T15:26:45.128468Z",
     "iopub.status.idle": "2022-01-17T15:26:45.145003Z",
     "shell.execute_reply": "2022-01-17T15:26:45.144568Z",
     "shell.execute_reply.started": "2022-01-17T15:26:45.128562Z"
    },
    "tags": []
   },
   "outputs": [],
   "source": [
    "#define customized tokenizer\n",
    "class LemmaTokenizer:\n",
    "    ignore_tokens = stopwords.words('english')\n",
    "    def __init__(self):\n",
    "        self.wnl = WordNetLemmatizer()\n",
    "        self.tokenizer = RegexpTokenizer(r'\\w+')\n",
    "    def __call__(self, doc):\n",
    "        return [self.wnl.lemmatize(t) for t in \\\n",
    "                self.tokenizer.tokenize(doc.lower()) \\\n",
    "                if t not in LemmaTokenizer.ignore_tokens]"
   ]
  },
  {
   "cell_type": "code",
   "execution_count": 24,
   "id": "6603a6f6-449c-417a-bfab-2d70c18538fb",
   "metadata": {
    "execution": {
     "iopub.execute_input": "2022-01-17T15:26:45.145814Z",
     "iopub.status.busy": "2022-01-17T15:26:45.145699Z",
     "iopub.status.idle": "2022-01-17T15:26:45.152722Z",
     "shell.execute_reply": "2022-01-17T15:26:45.152290Z",
     "shell.execute_reply.started": "2022-01-17T15:26:45.145800Z"
    },
    "tags": []
   },
   "outputs": [],
   "source": [
    "def word_frequency_plot(vec_selected, x_series, y_series, n_top, n_gram,\n",
    "                        title1='r/MentalHealthUK',title2='r/bristishproblems'):\n",
    "    \"\"\"Compute word frequency and return the result as plot. Function lemmatize \n",
    "    and exclude stopwords.\n",
    "\n",
    "    Keyword arguments:\n",
    "    vec_selected -- 'cvec' or 'tec'\n",
    "    x_series -- df's series \n",
    "    y_series -- df's series\n",
    "    n_top -- number words to be included in the plot\n",
    "    n_gram -- 1 for unigram, 2 for bigram, 3 for trigram\n",
    "    title1 -- title for left axes, default to r/MentalHealthUK\n",
    "    title2 -- title for right axes, default to r/bristishproblems\n",
    "    \"\"\"\n",
    "    \n",
    "   \n",
    "    # Instantiate a CountVectorizer and pass custom tokenizer\n",
    "    if vec_selected == 'cvec':\n",
    "        vec = CountVectorizer(tokenizer= LemmaTokenizer(),\n",
    "                              ngram_range=(n_gram,n_gram))\n",
    "        \n",
    "    elif vec_selected == 'tvec':\n",
    "        vec = TfidfVectorizer(tokenizer= LemmaTokenizer(),\n",
    "                              ngram_range=(n_gram,n_gram))\n",
    "    \n",
    "    # Fit vectorizer\n",
    "    x_vec = vec.fit_transform(x_series)\n",
    "    x_vec_df_t = pd.DataFrame(x_vec.todense(),\n",
    "                              columns=vec.get_feature_names_out())\n",
    "    \n",
    "    y_vec = vec.fit_transform(y_series)\n",
    "    y_vec_df_t = pd.DataFrame(y_vec.todense(),\n",
    "                              columns=vec.get_feature_names_out())\n",
    "    \n",
    "    #sum the token count and sort in descending order\n",
    "    x_vec_df_t_sorted = x_vec_df_t.sum().sort_values(ascending=False)\n",
    "    y_vec_df_t_sorted = y_vec_df_t.sum().sort_values(ascending=False)\n",
    "    \n",
    "    #plot histograms \n",
    "    fig, ax = plt.subplots(nrows=1, ncols=2, figsize=(15, 8))\n",
    "    sns.barplot(x=x_vec_df_t_sorted.head(n_top).values, \n",
    "                y=x_vec_df_t_sorted.head(n_top).index,\n",
    "                ax=ax[0],\n",
    "                color='tab:blue')\n",
    "    sns.barplot(x=y_vec_df_t_sorted.head(n_top).values, \n",
    "                y=y_vec_df_t_sorted.head(n_top).index,\n",
    "                ax=ax[1],\n",
    "                color='tab:blue')\n",
    "    ax[0].set_title('r/MentalHealthUK')\n",
    "    ax[1].set_title('r/bristishproblems')\n",
    "    plt.tight_layout();"
   ]
  },
  {
   "cell_type": "markdown",
   "id": "782cab91-59b7-4844-929b-5b0d77013ba4",
   "metadata": {},
   "source": [
    "#### Uni-gram plot\n",
    "*r/MentalHealthUK*: \n",
    "- Mostly neutral words\n",
    "- Words that potentially suggest strong negative connotation and could be related to mental health issues only appeared twice e.g. 'help' and 'anxiety' appeared on 5th and 20th\n",
    "\n",
    "*r/britishproblems*:\n",
    "- Mostly neutral words\n",
    "- Surprisingly, 'christmas' and 'year' appeared the top of the list in subreddit. Usually, the festive seasons are linked positive emotion but it appeared to be a key words that were used while posting a complaint online."
   ]
  },
  {
   "cell_type": "code",
   "execution_count": 25,
   "id": "b77783b1-3a48-4686-b832-d8d07bd5151d",
   "metadata": {
    "execution": {
     "iopub.execute_input": "2022-01-17T15:26:45.153607Z",
     "iopub.status.busy": "2022-01-17T15:26:45.153442Z",
     "iopub.status.idle": "2022-01-17T15:26:47.549429Z",
     "shell.execute_reply": "2022-01-17T15:26:47.549100Z",
     "shell.execute_reply.started": "2022-01-17T15:26:45.153594Z"
    },
    "tags": []
   },
   "outputs": [
    {
     "data": {
      "image/png": "[encoded data removed]",
      "text/plain": [
       "<Figure size 1080x576 with 2 Axes>"
      ]
     },
     "metadata": {
      "needs_background": "light"
     },
     "output_type": "display_data"
    }
   ],
   "source": [
    "#plot unigram histogram with count vectorizer\n",
    "word_frequency_plot(vec_selected='cvec',\n",
    "                    x_series=mental['combined_text'],\n",
    "                    y_series=problems['combined_text'],\n",
    "                    n_top=25,\n",
    "                    n_gram=1)"
   ]
  },
  {
   "cell_type": "code",
   "execution_count": 26,
   "id": "de749dd9-539e-4134-89b5-ddc6e5a78fde",
   "metadata": {
    "execution": {
     "iopub.execute_input": "2022-01-17T15:26:47.551032Z",
     "iopub.status.busy": "2022-01-17T15:26:47.550915Z",
     "iopub.status.idle": "2022-01-17T15:26:48.871247Z",
     "shell.execute_reply": "2022-01-17T15:26:48.870726Z",
     "shell.execute_reply.started": "2022-01-17T15:26:47.551020Z"
    },
    "tags": []
   },
   "outputs": [
    {
     "data": {
      "image/png": "[encoded data removed]",
      "text/plain": [
       "<Figure size 1080x576 with 2 Axes>"
      ]
     },
     "metadata": {
      "needs_background": "light"
     },
     "output_type": "display_data"
    }
   ],
   "source": [
    "#plot unigram histogram with TFID vectorizer\n",
    "word_frequency_plot(vec_selected='tvec',\n",
    "                    x_series=mental['combined_text'],\n",
    "                    y_series=problems['combined_text'],\n",
    "                    n_top=25,\n",
    "                    n_gram=1)"
   ]
  },
  {
   "cell_type": "markdown",
   "id": "b19092fc-46f3-4a36-89d0-e58ca4e88d9a",
   "metadata": {},
   "source": [
    "#### Bi-gram plot\n",
    "*r/MentalHealthUK*: \n",
    "- 'feel like' appeared significantly in higher frequency\n",
    "- many of the bi-gram strongly suggest negative emotion and suggestion of mental health problems. e.g. 'get help', 'suicidal thought', 'depression anxiety' etc\n",
    "\n",
    "*r/britishproblems*:\n",
    "- 'feel like' appeared frequently\n",
    "- Surprisingly, 'christmas' and 'year' appeared the top of the list in subreddit. These words are linked to festive seasons, and are usually linked positive emotion or happiness but it appeared to be a frequent key words that were used while posting a complaint online."
   ]
  },
  {
   "cell_type": "code",
   "execution_count": 27,
   "id": "2813792d-414b-4079-aa8b-17082226d6ea",
   "metadata": {
    "execution": {
     "iopub.execute_input": "2022-01-17T15:26:48.872375Z",
     "iopub.status.busy": "2022-01-17T15:26:48.872257Z",
     "iopub.status.idle": "2022-01-17T15:26:50.926562Z",
     "shell.execute_reply": "2022-01-17T15:26:50.926246Z",
     "shell.execute_reply.started": "2022-01-17T15:26:48.872356Z"
    },
    "tags": []
   },
   "outputs": [
    {
     "data": {
      "image/png": "[encoded data removed]",
      "text/plain": [
       "<Figure size 1080x576 with 2 Axes>"
      ]
     },
     "metadata": {
      "needs_background": "light"
     },
     "output_type": "display_data"
    }
   ],
   "source": [
    "#plot bigram histogram with count vectorizer\n",
    "word_frequency_plot(vec_selected='cvec',\n",
    "                    x_series=mental['combined_text'],\n",
    "                    y_series=problems['combined_text'],\n",
    "                    n_top=25,\n",
    "                    n_gram=2)"
   ]
  },
  {
   "cell_type": "code",
   "execution_count": 28,
   "id": "f71a5748-a0c4-47f2-a6aa-9e3a0d16ba33",
   "metadata": {
    "execution": {
     "iopub.execute_input": "2022-01-17T15:26:50.927523Z",
     "iopub.status.busy": "2022-01-17T15:26:50.927308Z",
     "iopub.status.idle": "2022-01-17T15:26:53.311548Z",
     "shell.execute_reply": "2022-01-17T15:26:53.311114Z",
     "shell.execute_reply.started": "2022-01-17T15:26:50.927508Z"
    },
    "tags": []
   },
   "outputs": [
    {
     "data": {
      "image/png": "[encoded data removed]",
      "text/plain": [
       "<Figure size 1080x576 with 2 Axes>"
      ]
     },
     "metadata": {
      "needs_background": "light"
     },
     "output_type": "display_data"
    }
   ],
   "source": [
    "#plot bigram histogram with TFID vectorizer\n",
    "word_frequency_plot(vec_selected='tvec',\n",
    "                    x_series=mental['combined_text'],\n",
    "                    y_series=problems['combined_text'],\n",
    "                    n_top=25,\n",
    "                    n_gram=2)"
   ]
  },
  {
   "cell_type": "markdown",
   "id": "63575d34-9cde-4571-b59f-49490f421beb",
   "metadata": {},
   "source": [
    "#### Tri-gram plot\n",
    "*r/MentalHealthUK*: \n",
    "- irrelavant words appeared e.g. 'amp x200b'. To include as stopwords before modeling\n",
    "- echoed the observation in bigrams. Trigram related to mental health issues and medication could be observed\n",
    "\n",
    "*r/britishproblems*:\n",
    "- echoed the observation in bigrams"
   ]
  },
  {
   "cell_type": "code",
   "execution_count": 29,
   "id": "a0dfa6e8-3749-483c-b6aa-ef0ead51c564",
   "metadata": {
    "execution": {
     "iopub.execute_input": "2022-01-17T15:26:53.312733Z",
     "iopub.status.busy": "2022-01-17T15:26:53.312603Z",
     "iopub.status.idle": "2022-01-17T15:26:55.637836Z",
     "shell.execute_reply": "2022-01-17T15:26:55.637387Z",
     "shell.execute_reply.started": "2022-01-17T15:26:53.312703Z"
    },
    "tags": []
   },
   "outputs": [
    {
     "data": {
      "image/png": "[encoded data removed]",
      "text/plain": [
       "<Figure size 1080x576 with 2 Axes>"
      ]
     },
     "metadata": {
      "needs_background": "light"
     },
     "output_type": "display_data"
    }
   ],
   "source": [
    "#plot trigram histogram with count vectorizer\n",
    "word_frequency_plot(vec_selected='cvec',\n",
    "                    x_series=mental['combined_text'],\n",
    "                    y_series=problems['combined_text'],\n",
    "                    n_top=25,\n",
    "                    n_gram=3)"
   ]
  },
  {
   "cell_type": "code",
   "execution_count": 30,
   "id": "a7f77456-a972-48a1-83f2-9196cca7637d",
   "metadata": {
    "execution": {
     "iopub.execute_input": "2022-01-17T15:26:55.639060Z",
     "iopub.status.busy": "2022-01-17T15:26:55.638944Z",
     "iopub.status.idle": "2022-01-17T15:26:58.100819Z",
     "shell.execute_reply": "2022-01-17T15:26:58.100386Z",
     "shell.execute_reply.started": "2022-01-17T15:26:55.639042Z"
    },
    "tags": []
   },
   "outputs": [
    {
     "data": {
      "image/png": "[encoded data removed]",
      "text/plain": [
       "<Figure size 1080x576 with 2 Axes>"
      ]
     },
     "metadata": {
      "needs_background": "light"
     },
     "output_type": "display_data"
    }
   ],
   "source": [
    "#plot trigram histogram with TFID vectorizer\n",
    "word_frequency_plot(vec_selected='tvec',\n",
    "                    x_series=mental['combined_text'],\n",
    "                    y_series=problems['combined_text'],\n",
    "                    n_top=25,\n",
    "                    n_gram=3)"
   ]
  },
  {
   "cell_type": "markdown",
   "id": "232eeeb5-5010-4c72-9d40-325d0631b877",
   "metadata": {
    "tags": []
   },
   "source": [
    "### Sentiment analysis\n",
    "[VADER](https://github.com/cjhutto/vaderSentiment), a rule-based sentiment analysis tool, is used to compute the the aggregated text sentiment of each subreddit. The `pos`, `neu`, and `neg` scores are ratios for proportions of text that fall in each category. The `compound` score is normalized to be between -1 (most extreme negative) and +1 (most extreme positive) and is single unidimensional measure of sentiment for a given sentence. \n",
    "\n",
    "Typically:\n",
    "- positive sentiment: `compound` score >= 0.05\n",
    "- neutral sentiment: (`compound` score > -0.05) and (`compound` score < 0.05)\n",
    "- negative sentiment: `compound` score <= -0.05\n",
    "\n",
    "\n",
    "\n",
    "\n",
    "|                   |  `neg`| `neu`| `pos`| `compound`|\n",
    "|-------------------|:-----:|:----:|:----:|:--------:|\n",
    "| r/MentalHealthUK  | 0.120 | 0.77 | 0.11 |  -0.120  |\n",
    "| r/britishproblems | 0.091 | 0.83 | 0.084 |  -0.032  |\n",
    "\n",
    "From the computed scores, proportion of text in terms of negative/ neutral/ positive category is similar between the subreddits. However, the compound score revealed that r/MentalHealthUK is has a negative sentiment while r/bristishproblems is neutral. The result confirm that the text used for mental health related issues (e.g. depression etc) tends to have more negative connotation than typical daily problems. \n",
    "\n",
    "Box plot diagram showed that the IQR of r/MentalHealthUK covers more negative range compared to r/bristishproblem. This indicate that there is more post in r/MentalHealthUK that have low compound scores."
   ]
  },
  {
   "cell_type": "code",
   "execution_count": 31,
   "id": "77370e90-afbe-4575-98cf-6af8fa7d94e7",
   "metadata": {
    "execution": {
     "iopub.execute_input": "2022-01-17T15:26:58.101997Z",
     "iopub.status.busy": "2022-01-17T15:26:58.101891Z",
     "iopub.status.idle": "2022-01-17T15:27:06.247188Z",
     "shell.execute_reply": "2022-01-17T15:27:06.246824Z",
     "shell.execute_reply.started": "2022-01-17T15:26:58.101980Z"
    },
    "tags": []
   },
   "outputs": [],
   "source": [
    "# Instantiate Sentiment Intensity Analyzer\n",
    "sent = SentimentIntensityAnalyzer()\n",
    "\n",
    "#compute sentiment score and append to dataframe\n",
    "for senti in ['neg', 'neu', 'pos', 'compound']:\n",
    "    mental[senti] = mental['combined_text'].apply(\n",
    "        lambda x: sent.polarity_scores(x)[senti])\n",
    "    \n",
    "    problems[senti] = problems['combined_text'].apply(\n",
    "        lambda x: sent.polarity_scores(x)[senti])"
   ]
  },
  {
   "cell_type": "code",
   "execution_count": 32,
   "id": "e557945c-869c-4a14-a8e7-9901df91c4b1",
   "metadata": {
    "execution": {
     "iopub.execute_input": "2022-01-17T15:27:06.247928Z",
     "iopub.status.busy": "2022-01-17T15:27:06.247834Z",
     "iopub.status.idle": "2022-01-17T15:27:06.254100Z",
     "shell.execute_reply": "2022-01-17T15:27:06.253762Z",
     "shell.execute_reply.started": "2022-01-17T15:27:06.247916Z"
    },
    "tags": []
   },
   "outputs": [
    {
     "name": "stdout",
     "output_type": "stream",
     "text": [
      "mental mean neg sentiment score : 0.11760020140986908\n",
      "problem mean neg sentiment score: 0.0908394449950446\n",
      "==========================\n",
      "mental mean neu sentiment score : 0.7734974823766365\n",
      "problem mean neu sentiment score: 0.8251466798810705\n",
      "==========================\n",
      "mental mean pos sentiment score : 0.10890231621349446\n",
      "problem mean pos sentiment score: 0.08401883052527255\n",
      "==========================\n",
      "mental mean compound sentiment score : -0.11797432024169185\n",
      "problem mean compound sentiment score: -0.03179910802775025\n",
      "==========================\n",
      "\n",
      "\n",
      "mental std for neg sentiment score : 0.07953026331037423\n",
      "problem std for neg sentiment score: 0.08142673690030411\n",
      "==========================\n",
      "mental std for neu sentiment score : 0.0899301265707224\n",
      "problem std for neu sentiment score: 0.10500945862243169\n",
      "==========================\n",
      "mental std for pos sentiment score : 0.06786640045826804\n",
      "problem std for pos sentiment score: 0.08015683190230947\n",
      "==========================\n",
      "mental std for compound sentiment score : 0.8036303591630385\n",
      "problem std for compound sentiment score: 0.5588304805229446\n",
      "==========================\n"
     ]
    }
   ],
   "source": [
    "#print mean sentiment scores and standard deviation \n",
    "for senti in ['neg', 'neu', 'pos', 'compound']:\n",
    "    print(f'mental mean {senti} sentiment score : {mental[senti].mean()}')\n",
    "    print(f'problem mean {senti} sentiment score: {problems[senti].mean()}')\n",
    "    print('==========================')\n",
    "print('\\n')\n",
    "for senti in ['neg', 'neu', 'pos', 'compound']:\n",
    "    print(f'mental std for {senti} sentiment score : {mental[senti].std()}')\n",
    "    print(f'problem std for {senti} sentiment score: {problems[senti].std()}')\n",
    "    print('==========================')"
   ]
  },
  {
   "cell_type": "code",
   "execution_count": 33,
   "id": "a534eb3b-a93c-486d-87a9-b066112c04aa",
   "metadata": {
    "execution": {
     "iopub.execute_input": "2022-01-17T15:27:06.254808Z",
     "iopub.status.busy": "2022-01-17T15:27:06.254722Z",
     "iopub.status.idle": "2022-01-17T15:27:06.427003Z",
     "shell.execute_reply": "2022-01-17T15:27:06.426660Z",
     "shell.execute_reply.started": "2022-01-17T15:27:06.254796Z"
    },
    "tags": []
   },
   "outputs": [
    {
     "data": {
      "image/png": "[encoded data removed]",
      "text/plain": [
       "<Figure size 720x360 with 2 Axes>"
      ]
     },
     "metadata": {
      "needs_background": "light"
     },
     "output_type": "display_data"
    }
   ],
   "source": [
    "#ploting of sentiment scores \n",
    "fig, ax = plt.subplots(nrows=1, ncols=2, figsize=(10, 5))\n",
    "sns.boxplot(data=mental, ax=ax[0])\n",
    "sns.boxplot(data=problems, ax=ax[1])\n",
    "ax[0].set_title('r/MentalHealthUK')\n",
    "ax[1].set_title('r/bristishproblems')\n",
    "plt.tight_layout()"
   ]
  },
  {
   "cell_type": "markdown",
   "id": "75f81cbf-0022-40d3-9787-5054894650ab",
   "metadata": {},
   "source": [
    "### Post length\n",
    "Both subreddits have a right-skewed distribution and on average the number of words in posts in r/MentalHealthUK longer than r/britishproblems by a factor of 4. "
   ]
  },
  {
   "cell_type": "code",
   "execution_count": 34,
   "id": "d182cc23-f7f2-487f-a5ae-46ccc8d8b703",
   "metadata": {
    "execution": {
     "iopub.execute_input": "2022-01-17T15:27:06.427695Z",
     "iopub.status.busy": "2022-01-17T15:27:06.427595Z",
     "iopub.status.idle": "2022-01-17T15:27:06.493191Z",
     "shell.execute_reply": "2022-01-17T15:27:06.492827Z",
     "shell.execute_reply.started": "2022-01-17T15:27:06.427682Z"
    },
    "scrolled": true,
    "tags": []
   },
   "outputs": [],
   "source": [
    "#instantiate tokenizer\n",
    "tok = RegexpTokenizer(r'\\w+')\n",
    "\n",
    "#compute post length\n",
    "mental['word_count'] = mental['combined_text'].apply(\n",
    "    lambda x: len(tok.tokenize(x)))\n",
    "\n",
    "problems['word_count'] = problems['combined_text'].apply(\n",
    "    lambda x: len(tok.tokenize(x)))"
   ]
  },
  {
   "cell_type": "code",
   "execution_count": 35,
   "id": "c2205ca4-7cb3-45a1-a5b6-bfe7726c34bc",
   "metadata": {
    "execution": {
     "iopub.execute_input": "2022-01-17T15:27:06.494000Z",
     "iopub.status.busy": "2022-01-17T15:27:06.493884Z",
     "iopub.status.idle": "2022-01-17T15:27:06.498827Z",
     "shell.execute_reply": "2022-01-17T15:27:06.498268Z",
     "shell.execute_reply.started": "2022-01-17T15:27:06.493986Z"
    },
    "tags": []
   },
   "outputs": [
    {
     "name": "stdout",
     "output_type": "stream",
     "text": [
      "average post len for mental:   218.66767371601208\n",
      "average post len for problems: 54.20614469772052\n",
      "==========================\n",
      "post len std for mental:   218.53672167876752\n",
      "post len std for problems: 42.56047427063919\n"
     ]
    }
   ],
   "source": [
    "print(f\"average post len for mental:   {mental['word_count'].mean()}\")\n",
    "print(f\"average post len for problems: {problems['word_count'].mean()}\")\n",
    "print('==========================')\n",
    "print(f\"post len std for mental:   {mental['word_count'].std()}\")\n",
    "print(f\"post len std for problems: {problems['word_count'].std()}\")"
   ]
  },
  {
   "cell_type": "code",
   "execution_count": 36,
   "id": "eb672679-a980-431e-9586-3a79cc5f3dd2",
   "metadata": {
    "execution": {
     "iopub.execute_input": "2022-01-17T15:27:06.499730Z",
     "iopub.status.busy": "2022-01-17T15:27:06.499631Z",
     "iopub.status.idle": "2022-01-17T15:27:06.872016Z",
     "shell.execute_reply": "2022-01-17T15:27:06.871418Z",
     "shell.execute_reply.started": "2022-01-17T15:27:06.499718Z"
    },
    "tags": []
   },
   "outputs": [
    {
     "data": {
      "image/png": "[encoded data removed]",
      "text/plain": [
       "<Figure size 720x360 with 2 Axes>"
      ]
     },
     "metadata": {
      "needs_background": "light"
     },
     "output_type": "display_data"
    }
   ],
   "source": [
    "#plot post length distribution\n",
    "fig, ax = plt.subplots(nrows=1, ncols=2, figsize=(10, 5), sharey=True)\n",
    "sns.histplot(data=mental['word_count'], bins= 20, ax=ax[0])\n",
    "sns.histplot(data=problems['word_count'], bins= 20, ax=ax[1])\n",
    "ax[0].set_title('r/MentalHealthUK')\n",
    "ax[1].set_title('r/bristishproblems')\n",
    "ax[0].set_xlabel('number of words per post')\n",
    "ax[1].set_xlabel('number of words per post')\n",
    "plt.tight_layout()"
   ]
  },
  {
   "cell_type": "markdown",
   "id": "5549ed21-e9af-4da2-80e5-e1e29785e3e9",
   "metadata": {},
   "source": [
    "# 5. Preprocessing\n",
    "Target variable, subreddit is encoded as`1` for r/MentalHealthUK and `0` for r/britishproblems. \n",
    "\n",
    "Scrapping of the reddit was done intentionally to avoid class imbalance. As such, the baseline score is expected to be 50%."
   ]
  },
  {
   "cell_type": "code",
   "execution_count": 37,
   "id": "36ff3514-3453-4218-9b17-fd12074bf061",
   "metadata": {
    "execution": {
     "iopub.execute_input": "2022-01-17T15:27:06.873129Z",
     "iopub.status.busy": "2022-01-17T15:27:06.872790Z",
     "iopub.status.idle": "2022-01-17T15:27:06.877502Z",
     "shell.execute_reply": "2022-01-17T15:27:06.877062Z",
     "shell.execute_reply.started": "2022-01-17T15:27:06.873115Z"
    },
    "tags": []
   },
   "outputs": [],
   "source": [
    "#encode subreddit column\n",
    "mental_prob['subreddit'].replace({'MentalHealthUK':1, 'britishproblems':0},\n",
    "                                 inplace=True)"
   ]
  },
  {
   "cell_type": "code",
   "execution_count": 38,
   "id": "447058d6-7721-4c3f-b85b-f446dcf3d771",
   "metadata": {
    "execution": {
     "iopub.execute_input": "2022-01-17T15:27:06.878381Z",
     "iopub.status.busy": "2022-01-17T15:27:06.878264Z",
     "iopub.status.idle": "2022-01-17T15:27:06.881668Z",
     "shell.execute_reply": "2022-01-17T15:27:06.880778Z",
     "shell.execute_reply.started": "2022-01-17T15:27:06.878368Z"
    },
    "tags": []
   },
   "outputs": [],
   "source": [
    "#create target vector and feature vector\n",
    "X = mental_prob['combined_text']\n",
    "y = mental_prob['subreddit']"
   ]
  },
  {
   "cell_type": "code",
   "execution_count": 39,
   "id": "8ed4b7b2-128b-4de3-9597-cdf016ba01b3",
   "metadata": {
    "execution": {
     "iopub.execute_input": "2022-01-17T15:27:06.883580Z",
     "iopub.status.busy": "2022-01-17T15:27:06.883132Z",
     "iopub.status.idle": "2022-01-17T15:27:06.888949Z",
     "shell.execute_reply": "2022-01-17T15:27:06.888615Z",
     "shell.execute_reply.started": "2022-01-17T15:27:06.883558Z"
    },
    "tags": []
   },
   "outputs": [
    {
     "data": {
      "text/plain": [
       "0    0.503996\n",
       "1    0.496004\n",
       "Name: subreddit, dtype: float64"
      ]
     },
     "execution_count": 39,
     "metadata": {},
     "output_type": "execute_result"
    }
   ],
   "source": [
    "#check baseline score\n",
    "y.value_counts(normalize=True)"
   ]
  },
  {
   "cell_type": "code",
   "execution_count": 40,
   "id": "a298ad2e-1f82-4ffc-a927-0052827c9804",
   "metadata": {
    "execution": {
     "iopub.execute_input": "2022-01-17T15:27:06.895973Z",
     "iopub.status.busy": "2022-01-17T15:27:06.895800Z",
     "iopub.status.idle": "2022-01-17T15:27:06.904428Z",
     "shell.execute_reply": "2022-01-17T15:27:06.904070Z",
     "shell.execute_reply.started": "2022-01-17T15:27:06.895957Z"
    },
    "tags": []
   },
   "outputs": [],
   "source": [
    "#split training and test data\n",
    "X_train, X_test, y_train, y_test = train_test_split(X,\n",
    "                                                    y,\n",
    "                                                    stratify=y,\n",
    "                                                    random_state=42)"
   ]
  },
  {
   "cell_type": "code",
   "execution_count": 41,
   "id": "6b9111cc-ded5-4508-8a41-b439c62faf90",
   "metadata": {
    "execution": {
     "iopub.execute_input": "2022-01-17T15:27:06.905178Z",
     "iopub.status.busy": "2022-01-17T15:27:06.905077Z",
     "iopub.status.idle": "2022-01-17T15:27:06.907981Z",
     "shell.execute_reply": "2022-01-17T15:27:06.907689Z",
     "shell.execute_reply.started": "2022-01-17T15:27:06.905164Z"
    },
    "tags": []
   },
   "outputs": [
    {
     "name": "stdout",
     "output_type": "stream",
     "text": [
      "shape of the training vector X:        (1501,)\n",
      "shape of the training target vector y: (1501,)\n",
      "========================\n",
      "shape of the test vector X:            (501,)\n",
      "shape of the test vector vector y:     (501,)\n"
     ]
    }
   ],
   "source": [
    "#check the shape of training and testing vectors \n",
    "print(f'shape of the training vector X:        {X_train.shape}')\n",
    "print(f'shape of the training target vector y: {y_train.shape}')\n",
    "print('========================')\n",
    "print(f'shape of the test vector X:            {X_test.shape}')\n",
    "print(f'shape of the test vector vector y:     {y_test.shape}')"
   ]
  },
  {
   "cell_type": "markdown",
   "id": "b195d923-63c1-413d-931f-c86630ae3784",
   "metadata": {},
   "source": [
    "# Modelling\n",
    "The goal of the model is to able to classify the text content of a post and determine if it is from either r/MentalHealthUK or r/britishproblems. Generally, approach to text classification machine learning problems can be categorised into two methods, bag-of-words and word sequences. Bag-of-words models treat text as a collection of set of words where the frequency of occurrence of each is used as a predictor. Word sequence method is a deep learning approach that place importance on the position of word in a sentence. For this project, the models will only be built with the bag-of-words method.\n",
    "\n",
    "\n",
    "Classification methods selected for this project:\n",
    "1. Multinominal Navie Bayes\n",
    "2. Logistic Regression\n",
    "3. K-nearest Neighbour \n",
    "4. Decision Tree Classifier\n",
    "5. Random Forest Classifier "
   ]
  },
  {
   "cell_type": "markdown",
   "id": "f4ebd6c1-7fcf-41fe-b05e-e4f2d1f5a84b",
   "metadata": {},
   "source": [
    "### Re-instantiate tokenizer \n",
    "During EDA, there were a few words that is most likely irrelevant e.g. 'amp', 'x200b'. As such, the stopword dictionary is updated to remove them."
   ]
  },
  {
   "cell_type": "code",
   "execution_count": 42,
   "id": "25ca407f-4211-40d3-aafd-752d0fe403c9",
   "metadata": {
    "execution": {
     "iopub.execute_input": "2022-01-17T15:27:06.908786Z",
     "iopub.status.busy": "2022-01-17T15:27:06.908689Z",
     "iopub.status.idle": "2022-01-17T15:27:06.913436Z",
     "shell.execute_reply": "2022-01-17T15:27:06.912933Z",
     "shell.execute_reply.started": "2022-01-17T15:27:06.908773Z"
    },
    "tags": []
   },
   "outputs": [],
   "source": [
    "#re-instantiate customized tokenizer with custom stopwords 'amp', 'x200b'\n",
    "class LemmaTokenizer:\n",
    "    '''tokenizer with lemmatizer'''\n",
    "    \n",
    "    #list of stopwords\n",
    "    ignore_tokens = stopwords.words('english') + ['amp', 'x200b']\n",
    "    \n",
    "    #lemmatizer and regex tokenizer\n",
    "    def __init__(self):\n",
    "        self.wnl = WordNetLemmatizer()\n",
    "        self.tokenizer = RegexpTokenizer(r'\\w+')\n",
    "    \n",
    "    def __call__(self, doc):\n",
    "        return [self.wnl.lemmatize(t) for t \\\n",
    "                in self.tokenizer.tokenize(doc.lower()) \\\n",
    "                if t not in LemmaTokenizer.ignore_tokens]"
   ]
  },
  {
   "cell_type": "markdown",
   "id": "53767a2a-6427-4bcd-84c9-2c54b38ed307",
   "metadata": {},
   "source": [
    "### Model 1: Count vectorizer, Multinomial Naive Bayes "
   ]
  },
  {
   "cell_type": "code",
   "execution_count": 43,
   "id": "a57e31fb-f74d-4f29-8578-f96ede38903d",
   "metadata": {
    "execution": {
     "iopub.execute_input": "2022-01-17T15:27:06.914260Z",
     "iopub.status.busy": "2022-01-17T15:27:06.914156Z",
     "iopub.status.idle": "2022-01-17T15:27:55.921961Z",
     "shell.execute_reply": "2022-01-17T15:27:55.921360Z",
     "shell.execute_reply.started": "2022-01-17T15:27:06.914247Z"
    },
    "tags": []
   },
   "outputs": [
    {
     "data": {
      "text/plain": [
       "GridSearchCV(cv=5,\n",
       "             estimator=Pipeline(steps=[('cvec', CountVectorizer()),\n",
       "                                       ('nb', MultinomialNB())]),\n",
       "             n_jobs=-1,\n",
       "             param_grid={'cvec__max_df': [0.9, 0.95],\n",
       "                         'cvec__max_features': [2000, 3000, 5000],\n",
       "                         'cvec__min_df': [2, 3],\n",
       "                         'cvec__ngram_range': [(1, 1), (1, 2)],\n",
       "                         'cvec__tokenizer': [<__main__.LemmaTokenizer object at 0x7f8aa6770850>],\n",
       "                         'nb__fit_prior': [False, True]},\n",
       "             scoring='recall')"
      ]
     },
     "execution_count": 43,
     "metadata": {},
     "output_type": "execute_result"
    }
   ],
   "source": [
    "#create pipeline\n",
    "pipe = Pipeline([\n",
    "    ('cvec', CountVectorizer()),\n",
    "    ('nb', MultinomialNB())\n",
    "])\n",
    "\n",
    "#setup pipeline parameters\n",
    "pipe_params = {\n",
    "    'cvec__tokenizer': [LemmaTokenizer()],\n",
    "    'cvec__max_features': [2000, 3000, 5000],\n",
    "    'cvec__min_df': [2, 3],\n",
    "    'cvec__max_df': [0.9, 0.95],\n",
    "    'cvec__ngram_range': [(1,1), (1,2)],\n",
    "    'nb__fit_prior': [False, True]\n",
    "}\n",
    "\n",
    "#instantiate grid search cross validation \n",
    "gs1 = GridSearchCV(pipe, pipe_params, cv=5, scoring='recall', n_jobs=-1)\n",
    "\n",
    "#fit grid search\n",
    "gs1.fit(X_train, y_train)"
   ]
  },
  {
   "cell_type": "code",
   "execution_count": 44,
   "id": "d53e0df3-56ed-4281-8d09-a4765669549b",
   "metadata": {
    "execution": {
     "iopub.execute_input": "2022-01-17T15:27:55.925345Z",
     "iopub.status.busy": "2022-01-17T15:27:55.925187Z",
     "iopub.status.idle": "2022-01-17T15:27:55.933509Z",
     "shell.execute_reply": "2022-01-17T15:27:55.933230Z",
     "shell.execute_reply.started": "2022-01-17T15:27:55.925330Z"
    },
    "tags": []
   },
   "outputs": [
    {
     "name": "stdout",
     "output_type": "stream",
     "text": [
      "best parameters through grid search:\n",
      "cvec__max_df: 0.9\n",
      "cvec__max_features: 5000\n",
      "cvec__min_df: 2\n",
      "cvec__ngram_range: (1, 1)\n",
      "cvec__tokenizer: <__main__.LemmaTokenizer object at 0x7f8aa6770850>\n",
      "nb__fit_prior: False\n"
     ]
    }
   ],
   "source": [
    "#print the best parameters \n",
    "print(\"best parameters through grid search:\")\n",
    "for i, j in gs1.best_params_.items(): \n",
    "    print(f\"{i}: {j}\") "
   ]
  },
  {
   "cell_type": "code",
   "execution_count": 45,
   "id": "4b2a2077-9979-4f24-ac85-160dbf20685c",
   "metadata": {
    "execution": {
     "iopub.execute_input": "2022-01-17T15:27:55.934098Z",
     "iopub.status.busy": "2022-01-17T15:27:55.934008Z",
     "iopub.status.idle": "2022-01-17T15:27:55.963257Z",
     "shell.execute_reply": "2022-01-17T15:27:55.962965Z",
     "shell.execute_reply.started": "2022-01-17T15:27:55.934087Z"
    },
    "scrolled": true,
    "tags": []
   },
   "outputs": [
    {
     "data": {
      "text/plain": [
       "0     {'cvec__max_df': 0.9, 'cvec__max_features': 20...\n",
       "1     {'cvec__max_df': 0.9, 'cvec__max_features': 20...\n",
       "2     {'cvec__max_df': 0.9, 'cvec__max_features': 20...\n",
       "3     {'cvec__max_df': 0.9, 'cvec__max_features': 20...\n",
       "4     {'cvec__max_df': 0.9, 'cvec__max_features': 20...\n",
       "5     {'cvec__max_df': 0.9, 'cvec__max_features': 20...\n",
       "6     {'cvec__max_df': 0.9, 'cvec__max_features': 20...\n",
       "7     {'cvec__max_df': 0.9, 'cvec__max_features': 20...\n",
       "8     {'cvec__max_df': 0.9, 'cvec__max_features': 30...\n",
       "9     {'cvec__max_df': 0.9, 'cvec__max_features': 30...\n",
       "10    {'cvec__max_df': 0.9, 'cvec__max_features': 30...\n",
       "11    {'cvec__max_df': 0.9, 'cvec__max_features': 30...\n",
       "12    {'cvec__max_df': 0.9, 'cvec__max_features': 30...\n",
       "13    {'cvec__max_df': 0.9, 'cvec__max_features': 30...\n",
       "14    {'cvec__max_df': 0.9, 'cvec__max_features': 30...\n",
       "15    {'cvec__max_df': 0.9, 'cvec__max_features': 30...\n",
       "16    {'cvec__max_df': 0.9, 'cvec__max_features': 50...\n",
       "17    {'cvec__max_df': 0.9, 'cvec__max_features': 50...\n",
       "18    {'cvec__max_df': 0.9, 'cvec__max_features': 50...\n",
       "19    {'cvec__max_df': 0.9, 'cvec__max_features': 50...\n",
       "20    {'cvec__max_df': 0.9, 'cvec__max_features': 50...\n",
       "21    {'cvec__max_df': 0.9, 'cvec__max_features': 50...\n",
       "22    {'cvec__max_df': 0.9, 'cvec__max_features': 50...\n",
       "23    {'cvec__max_df': 0.9, 'cvec__max_features': 50...\n",
       "24    {'cvec__max_df': 0.95, 'cvec__max_features': 2...\n",
       "25    {'cvec__max_df': 0.95, 'cvec__max_features': 2...\n",
       "26    {'cvec__max_df': 0.95, 'cvec__max_features': 2...\n",
       "27    {'cvec__max_df': 0.95, 'cvec__max_features': 2...\n",
       "28    {'cvec__max_df': 0.95, 'cvec__max_features': 2...\n",
       "29    {'cvec__max_df': 0.95, 'cvec__max_features': 2...\n",
       "30    {'cvec__max_df': 0.95, 'cvec__max_features': 2...\n",
       "31    {'cvec__max_df': 0.95, 'cvec__max_features': 2...\n",
       "32    {'cvec__max_df': 0.95, 'cvec__max_features': 3...\n",
       "33    {'cvec__max_df': 0.95, 'cvec__max_features': 3...\n",
       "34    {'cvec__max_df': 0.95, 'cvec__max_features': 3...\n",
       "35    {'cvec__max_df': 0.95, 'cvec__max_features': 3...\n",
       "36    {'cvec__max_df': 0.95, 'cvec__max_features': 3...\n",
       "37    {'cvec__max_df': 0.95, 'cvec__max_features': 3...\n",
       "38    {'cvec__max_df': 0.95, 'cvec__max_features': 3...\n",
       "39    {'cvec__max_df': 0.95, 'cvec__max_features': 3...\n",
       "40    {'cvec__max_df': 0.95, 'cvec__max_features': 5...\n",
       "41    {'cvec__max_df': 0.95, 'cvec__max_features': 5...\n",
       "42    {'cvec__max_df': 0.95, 'cvec__max_features': 5...\n",
       "43    {'cvec__max_df': 0.95, 'cvec__max_features': 5...\n",
       "44    {'cvec__max_df': 0.95, 'cvec__max_features': 5...\n",
       "45    {'cvec__max_df': 0.95, 'cvec__max_features': 5...\n",
       "46    {'cvec__max_df': 0.95, 'cvec__max_features': 5...\n",
       "47    {'cvec__max_df': 0.95, 'cvec__max_features': 5...\n",
       "Name: params, dtype: object"
      ]
     },
     "execution_count": 45,
     "metadata": {},
     "output_type": "execute_result"
    }
   ],
   "source": [
    "result = pd.DataFrame(gs1.cv_results_)\n",
    "result['params']"
   ]
  },
  {
   "cell_type": "code",
   "execution_count": 46,
   "id": "8c40eb6c-99e5-4554-a896-6dc13d1d38da",
   "metadata": {
    "execution": {
     "iopub.execute_input": "2022-01-17T15:27:55.963929Z",
     "iopub.status.busy": "2022-01-17T15:27:55.963829Z",
     "iopub.status.idle": "2022-01-17T15:27:55.965935Z",
     "shell.execute_reply": "2022-01-17T15:27:55.965655Z",
     "shell.execute_reply.started": "2022-01-17T15:27:55.963916Z"
    },
    "tags": []
   },
   "outputs": [
    {
     "name": "stdout",
     "output_type": "stream",
     "text": [
      "best score through grid search: 0.978523489932886\n"
     ]
    }
   ],
   "source": [
    "#print grid search best score\n",
    "print(f'best score through grid search: {gs1.best_score_}')"
   ]
  },
  {
   "cell_type": "code",
   "execution_count": 47,
   "id": "8bacde25-a3c8-4937-868a-13fecfcda086",
   "metadata": {
    "execution": {
     "iopub.execute_input": "2022-01-17T15:27:55.966410Z",
     "iopub.status.busy": "2022-01-17T15:27:55.966327Z",
     "iopub.status.idle": "2022-01-17T15:27:56.903968Z",
     "shell.execute_reply": "2022-01-17T15:27:56.903659Z",
     "shell.execute_reply.started": "2022-01-17T15:27:55.966399Z"
    },
    "tags": []
   },
   "outputs": [
    {
     "name": "stdout",
     "output_type": "stream",
     "text": [
      "recall score from training: 0.9906040268456375\n",
      "recall score from testing:  0.9959677419354839\n"
     ]
    }
   ],
   "source": [
    "#print score from training and testing data \n",
    "print(f'recall score from training: {gs1.score(X_train, y_train)}')\n",
    "print(f'recall score from testing:  {gs1.score(X_test, y_test)}')"
   ]
  },
  {
   "cell_type": "code",
   "execution_count": 48,
   "id": "1519af81-7b3c-42cd-a20c-f14023154e72",
   "metadata": {
    "execution": {
     "iopub.execute_input": "2022-01-17T15:27:56.904784Z",
     "iopub.status.busy": "2022-01-17T15:27:56.904678Z",
     "iopub.status.idle": "2022-01-17T15:27:57.133402Z",
     "shell.execute_reply": "2022-01-17T15:27:57.133091Z",
     "shell.execute_reply.started": "2022-01-17T15:27:56.904772Z"
    },
    "tags": []
   },
   "outputs": [],
   "source": [
    "#compute predicted values with testing set\n",
    "y_pred = gs1.predict(X_test)\n",
    "\n",
    "#compute confusion matrix from testing set\n",
    "cm1 = confusion_matrix(y_test, y_pred)\n",
    "tn, fp, fn, tp = cm1.ravel()"
   ]
  },
  {
   "cell_type": "code",
   "execution_count": 49,
   "id": "6ba4c9f2-6ae0-4967-934d-dafde563e7c3",
   "metadata": {
    "execution": {
     "iopub.execute_input": "2022-01-17T15:27:57.134172Z",
     "iopub.status.busy": "2022-01-17T15:27:57.134026Z",
     "iopub.status.idle": "2022-01-17T15:27:57.139533Z",
     "shell.execute_reply": "2022-01-17T15:27:57.139205Z",
     "shell.execute_reply.started": "2022-01-17T15:27:57.134159Z"
    },
    "tags": []
   },
   "outputs": [],
   "source": [
    "#save the output as dictionary\n",
    "model1 = {}\n",
    "model1['accuracy'] = accuracy_score(y_test, y_pred)\n",
    "model1['precision'] = precision_score(y_test, y_pred)\n",
    "model1['recall'] = recall_score(y_test, y_pred)\n",
    "model1['specificity'] = tn / (tn+fp)\n",
    "model1['f1'] = f1_score(y_test, y_pred)"
   ]
  },
  {
   "cell_type": "code",
   "execution_count": 50,
   "id": "27f8b9d5-65b0-4b41-b421-b2ec57e569de",
   "metadata": {
    "execution": {
     "iopub.execute_input": "2022-01-17T15:27:57.140221Z",
     "iopub.status.busy": "2022-01-17T15:27:57.140121Z",
     "iopub.status.idle": "2022-01-17T15:27:57.143554Z",
     "shell.execute_reply": "2022-01-17T15:27:57.143299Z",
     "shell.execute_reply.started": "2022-01-17T15:27:57.140209Z"
    },
    "tags": []
   },
   "outputs": [
    {
     "data": {
      "text/plain": [
       "{'accuracy': 0.9281437125748503,\n",
       " 'precision': 0.875886524822695,\n",
       " 'recall': 0.9959677419354839,\n",
       " 'specificity': 0.8616600790513834,\n",
       " 'f1': 0.9320754716981131}"
      ]
     },
     "execution_count": 50,
     "metadata": {},
     "output_type": "execute_result"
    }
   ],
   "source": [
    "#check result\n",
    "model1"
   ]
  },
  {
   "cell_type": "code",
   "execution_count": 51,
   "id": "6ee8cce6-7f48-4d07-aacc-8b4fd3642616",
   "metadata": {
    "execution": {
     "iopub.execute_input": "2022-01-17T15:27:57.144265Z",
     "iopub.status.busy": "2022-01-17T15:27:57.144144Z",
     "iopub.status.idle": "2022-01-17T15:27:57.254563Z",
     "shell.execute_reply": "2022-01-17T15:27:57.254244Z",
     "shell.execute_reply.started": "2022-01-17T15:27:57.144254Z"
    },
    "tags": []
   },
   "outputs": [
    {
     "data": {
      "image/png": "[encoded data removed]",
      "text/plain": [
       "<Figure size 360x360 with 2 Axes>"
      ]
     },
     "metadata": {
      "needs_background": "light"
     },
     "output_type": "display_data"
    }
   ],
   "source": [
    "#print confusion matrix\n",
    "disp = ConfusionMatrixDisplay(confusion_matrix=cm1, display_labels=gs1.classes_)\n",
    "fig, ax = plt.subplots(figsize=(5, 5))\n",
    "ax.set_title('confusion matrix')\n",
    "disp.plot(cmap='Blues', ax=ax);"
   ]
  },
  {
   "cell_type": "code",
   "execution_count": 52,
   "id": "13aefcbb-2d58-4321-819e-3757cf722707",
   "metadata": {
    "execution": {
     "iopub.execute_input": "2022-01-17T15:27:57.255577Z",
     "iopub.status.busy": "2022-01-17T15:27:57.255466Z",
     "iopub.status.idle": "2022-01-17T15:27:57.257942Z",
     "shell.execute_reply": "2022-01-17T15:27:57.257679Z",
     "shell.execute_reply.started": "2022-01-17T15:27:57.255561Z"
    },
    "tags": []
   },
   "outputs": [
    {
     "name": "stdout",
     "output_type": "stream",
     "text": [
      "sensitivity : 0.9959677419354839\n",
      "specificity:  0.8616600790513834\n"
     ]
    }
   ],
   "source": [
    "#compute sensitivity and specificity\n",
    "sensitivity = tp / (tp+fn)\n",
    "specificity = tn / (tn+fp)\n",
    "\n",
    "print(f'sensitivity : {sensitivity}')\n",
    "print(f'specificity:  {specificity}')"
   ]
  },
  {
   "cell_type": "code",
   "execution_count": 53,
   "id": "e4ed44af-cc1f-4675-adc1-c29a229c0e91",
   "metadata": {
    "execution": {
     "iopub.execute_input": "2022-01-17T15:27:57.258621Z",
     "iopub.status.busy": "2022-01-17T15:27:57.258523Z",
     "iopub.status.idle": "2022-01-17T15:27:57.263379Z",
     "shell.execute_reply": "2022-01-17T15:27:57.263074Z",
     "shell.execute_reply.started": "2022-01-17T15:27:57.258609Z"
    },
    "tags": []
   },
   "outputs": [
    {
     "name": "stdout",
     "output_type": "stream",
     "text": [
      "              precision    recall  f1-score   support\n",
      "\n",
      "           0       1.00      0.86      0.92       253\n",
      "           1       0.88      1.00      0.93       248\n",
      "\n",
      "    accuracy                           0.93       501\n",
      "   macro avg       0.94      0.93      0.93       501\n",
      "weighted avg       0.94      0.93      0.93       501\n",
      "\n"
     ]
    }
   ],
   "source": [
    "print(classification_report(y_test, y_pred))"
   ]
  },
  {
   "cell_type": "markdown",
   "id": "13b45f86-865c-4207-9dc1-05c0b840cce2",
   "metadata": {},
   "source": [
    "### Model 2: TFIDF, Multinomial Naive Bayes"
   ]
  },
  {
   "cell_type": "code",
   "execution_count": 54,
   "id": "c0df0ce1-25fa-4c21-8b8d-f96bfe4aceb6",
   "metadata": {
    "execution": {
     "iopub.execute_input": "2022-01-17T15:27:57.264077Z",
     "iopub.status.busy": "2022-01-17T15:27:57.263965Z",
     "iopub.status.idle": "2022-01-17T15:28:43.946284Z",
     "shell.execute_reply": "2022-01-17T15:28:43.944902Z",
     "shell.execute_reply.started": "2022-01-17T15:27:57.264065Z"
    },
    "tags": []
   },
   "outputs": [
    {
     "data": {
      "text/plain": [
       "GridSearchCV(cv=5,\n",
       "             estimator=Pipeline(steps=[('tvec', TfidfVectorizer()),\n",
       "                                       ('nb', MultinomialNB())]),\n",
       "             n_jobs=-1,\n",
       "             param_grid={'nb__fit_prior': [False, True],\n",
       "                         'tvec__max_df': [0.9, 0.95],\n",
       "                         'tvec__max_features': [2000, 3000, 5000],\n",
       "                         'tvec__min_df': [2, 3],\n",
       "                         'tvec__ngram_range': [(1, 1), (1, 2)],\n",
       "                         'tvec__tokenizer': [<__main__.LemmaTokenizer object at 0x7f8a8147fd60>]},\n",
       "             scoring='recall')"
      ]
     },
     "execution_count": 54,
     "metadata": {},
     "output_type": "execute_result"
    }
   ],
   "source": [
    "#create pipeline\n",
    "pipe = Pipeline([\n",
    "    ('tvec', TfidfVectorizer()),\n",
    "    ('nb', MultinomialNB())\n",
    "])\n",
    "\n",
    "#setup pipeline parameters\n",
    "pipe_params = {\n",
    "    'tvec__tokenizer': [LemmaTokenizer()],\n",
    "    'tvec__max_features': [2000, 3000, 5000],\n",
    "    'tvec__min_df': [2, 3],\n",
    "    'tvec__max_df': [0.9, 0.95],\n",
    "    'tvec__ngram_range': [(1,1), (1,2)],\n",
    "    'nb__fit_prior': [False, True]\n",
    "}\n",
    "\n",
    "#instantiate grid search cross validation \n",
    "gs2 = GridSearchCV(pipe, pipe_params, cv=5, scoring='recall', n_jobs=-1)\n",
    "\n",
    "#fit grid search\n",
    "gs2.fit(X_train, y_train)"
   ]
  },
  {
   "cell_type": "code",
   "execution_count": 55,
   "id": "235d980e-2823-4aa6-a291-c0da61178180",
   "metadata": {
    "execution": {
     "iopub.execute_input": "2022-01-17T15:28:43.949967Z",
     "iopub.status.busy": "2022-01-17T15:28:43.949827Z",
     "iopub.status.idle": "2022-01-17T15:28:43.952844Z",
     "shell.execute_reply": "2022-01-17T15:28:43.952596Z",
     "shell.execute_reply.started": "2022-01-17T15:28:43.949948Z"
    },
    "tags": []
   },
   "outputs": [
    {
     "name": "stdout",
     "output_type": "stream",
     "text": [
      "best parameters through grid search:\n",
      "nb__fit_prior: False\n",
      "tvec__max_df: 0.9\n",
      "tvec__max_features: 5000\n",
      "tvec__min_df: 2\n",
      "tvec__ngram_range: (1, 1)\n",
      "tvec__tokenizer: <__main__.LemmaTokenizer object at 0x7f8a8147fd60>\n"
     ]
    }
   ],
   "source": [
    "#print the best parameters \n",
    "print(\"best parameters through grid search:\")\n",
    "for i, j in gs2.best_params_.items(): \n",
    "    print(f\"{i}: {j}\") "
   ]
  },
  {
   "cell_type": "code",
   "execution_count": 56,
   "id": "431be513-4cb2-48af-b834-13effcf3957e",
   "metadata": {
    "execution": {
     "iopub.execute_input": "2022-01-17T15:28:43.953483Z",
     "iopub.status.busy": "2022-01-17T15:28:43.953408Z",
     "iopub.status.idle": "2022-01-17T15:28:43.955800Z",
     "shell.execute_reply": "2022-01-17T15:28:43.955507Z",
     "shell.execute_reply.started": "2022-01-17T15:28:43.953473Z"
    },
    "tags": []
   },
   "outputs": [
    {
     "name": "stdout",
     "output_type": "stream",
     "text": [
      "best score through grid search: 0.9879194630872483\n"
     ]
    }
   ],
   "source": [
    "#print grid search best score\n",
    "print(f'best score through grid search: {gs2.best_score_}')"
   ]
  },
  {
   "cell_type": "code",
   "execution_count": 57,
   "id": "502351e6-5980-49b2-9c2a-56b46855a739",
   "metadata": {
    "execution": {
     "iopub.execute_input": "2022-01-17T15:28:43.956512Z",
     "iopub.status.busy": "2022-01-17T15:28:43.956382Z",
     "iopub.status.idle": "2022-01-17T15:28:44.879650Z",
     "shell.execute_reply": "2022-01-17T15:28:44.879363Z",
     "shell.execute_reply.started": "2022-01-17T15:28:43.956499Z"
    },
    "tags": []
   },
   "outputs": [
    {
     "name": "stdout",
     "output_type": "stream",
     "text": [
      "score from training: 0.996\n",
      "score from testing:  0.996\n"
     ]
    }
   ],
   "source": [
    "#print score from training and testing data \n",
    "print(f'score from training: {round(gs2.score(X_train, y_train),4)}')\n",
    "print(f'score from testing:  {round(gs2.score(X_test, y_test),4)}')"
   ]
  },
  {
   "cell_type": "code",
   "execution_count": 58,
   "id": "5c25929d-3e87-40f2-968a-a968f5b90424",
   "metadata": {
    "execution": {
     "iopub.execute_input": "2022-01-17T15:28:44.881758Z",
     "iopub.status.busy": "2022-01-17T15:28:44.881552Z",
     "iopub.status.idle": "2022-01-17T15:28:45.114133Z",
     "shell.execute_reply": "2022-01-17T15:28:45.113751Z",
     "shell.execute_reply.started": "2022-01-17T15:28:44.881743Z"
    },
    "tags": []
   },
   "outputs": [],
   "source": [
    "#compute predicted values with testing set\n",
    "y_pred = gs2.predict(X_test)\n",
    "\n",
    "#compute confusion matrix from testing set\n",
    "cm2 = confusion_matrix(y_test, y_pred)\n",
    "tn, fp, fn, tp = cm2.ravel()"
   ]
  },
  {
   "cell_type": "code",
   "execution_count": 59,
   "id": "e845ee6e-48de-4693-a25f-0acdac8f7f7b",
   "metadata": {
    "execution": {
     "iopub.execute_input": "2022-01-17T15:28:45.114771Z",
     "iopub.status.busy": "2022-01-17T15:28:45.114673Z",
     "iopub.status.idle": "2022-01-17T15:28:45.119704Z",
     "shell.execute_reply": "2022-01-17T15:28:45.119439Z",
     "shell.execute_reply.started": "2022-01-17T15:28:45.114758Z"
    },
    "tags": []
   },
   "outputs": [],
   "source": [
    "model2 = {}\n",
    "model2['accuracy'] = accuracy_score(y_test, y_pred)\n",
    "model2['precision'] = precision_score(y_test, y_pred)\n",
    "model2['recall'] = recall_score(y_test, y_pred)\n",
    "model2['specificity'] = tn / (tn+fp)\n",
    "model2['f1'] = f1_score(y_test, y_pred)"
   ]
  },
  {
   "cell_type": "code",
   "execution_count": 60,
   "id": "7f605415-3123-4550-b440-4fdbf33c0e26",
   "metadata": {
    "execution": {
     "iopub.execute_input": "2022-01-17T15:28:45.120387Z",
     "iopub.status.busy": "2022-01-17T15:28:45.120260Z",
     "iopub.status.idle": "2022-01-17T15:28:45.122889Z",
     "shell.execute_reply": "2022-01-17T15:28:45.122632Z",
     "shell.execute_reply.started": "2022-01-17T15:28:45.120376Z"
    },
    "tags": []
   },
   "outputs": [
    {
     "data": {
      "text/plain": [
       "{'accuracy': 0.906187624750499,\n",
       " 'precision': 0.8430034129692833,\n",
       " 'recall': 0.9959677419354839,\n",
       " 'specificity': 0.8181818181818182,\n",
       " 'f1': 0.9131238447319778}"
      ]
     },
     "execution_count": 60,
     "metadata": {},
     "output_type": "execute_result"
    }
   ],
   "source": [
    "model2"
   ]
  },
  {
   "cell_type": "code",
   "execution_count": 61,
   "id": "2ec4d0eb-7eae-4f86-9cd9-4411bbb9d1bf",
   "metadata": {
    "execution": {
     "iopub.execute_input": "2022-01-17T15:28:45.123535Z",
     "iopub.status.busy": "2022-01-17T15:28:45.123407Z",
     "iopub.status.idle": "2022-01-17T15:28:45.203387Z",
     "shell.execute_reply": "2022-01-17T15:28:45.203057Z",
     "shell.execute_reply.started": "2022-01-17T15:28:45.123524Z"
    },
    "tags": []
   },
   "outputs": [
    {
     "data": {
      "image/png": "[encoded data removed]",
      "text/plain": [
       "<Figure size 360x360 with 2 Axes>"
      ]
     },
     "metadata": {
      "needs_background": "light"
     },
     "output_type": "display_data"
    }
   ],
   "source": [
    "#print confusion matrix\n",
    "disp = ConfusionMatrixDisplay(confusion_matrix=cm2, display_labels=gs2.classes_)\n",
    "fig, ax = plt.subplots(figsize=(5, 5))\n",
    "ax.set_title('confusion matrix')\n",
    "disp.plot(cmap='Blues', ax=ax);"
   ]
  },
  {
   "cell_type": "code",
   "execution_count": 62,
   "id": "9433dc29-389a-4b4c-a69d-1c0bca191511",
   "metadata": {
    "execution": {
     "iopub.execute_input": "2022-01-17T15:28:45.207218Z",
     "iopub.status.busy": "2022-01-17T15:28:45.206976Z",
     "iopub.status.idle": "2022-01-17T15:28:45.209767Z",
     "shell.execute_reply": "2022-01-17T15:28:45.209495Z",
     "shell.execute_reply.started": "2022-01-17T15:28:45.207200Z"
    },
    "tags": []
   },
   "outputs": [
    {
     "name": "stdout",
     "output_type": "stream",
     "text": [
      "sensitivity : 0.9959677419354839\n",
      "specificity:  0.8181818181818182\n"
     ]
    }
   ],
   "source": [
    "#compute sensitivity and specificity\n",
    "sensitivity = tp / (tp+fn)\n",
    "specificity = tn / (tn+fp)\n",
    "\n",
    "print(f'sensitivity : {sensitivity}')\n",
    "print(f'specificity:  {specificity}')"
   ]
  },
  {
   "cell_type": "code",
   "execution_count": 63,
   "id": "92c8dc10-bf7c-49a8-8342-d3c7222ee29c",
   "metadata": {
    "execution": {
     "iopub.execute_input": "2022-01-17T15:28:45.210491Z",
     "iopub.status.busy": "2022-01-17T15:28:45.210313Z",
     "iopub.status.idle": "2022-01-17T15:28:45.215199Z",
     "shell.execute_reply": "2022-01-17T15:28:45.214886Z",
     "shell.execute_reply.started": "2022-01-17T15:28:45.210477Z"
    },
    "tags": []
   },
   "outputs": [
    {
     "name": "stdout",
     "output_type": "stream",
     "text": [
      "              precision    recall  f1-score   support\n",
      "\n",
      "           0       1.00      0.82      0.90       253\n",
      "           1       0.84      1.00      0.91       248\n",
      "\n",
      "    accuracy                           0.91       501\n",
      "   macro avg       0.92      0.91      0.91       501\n",
      "weighted avg       0.92      0.91      0.91       501\n",
      "\n"
     ]
    }
   ],
   "source": [
    "print(classification_report(y_test, y_pred))"
   ]
  },
  {
   "cell_type": "markdown",
   "id": "decee07a-9768-4a1f-a5d8-43a4be8539db",
   "metadata": {
    "tags": []
   },
   "source": [
    "### Model 3: TFIDF, logistic regression"
   ]
  },
  {
   "cell_type": "code",
   "execution_count": 64,
   "id": "ca508f23-0323-47bf-8331-4f2a4bce6c26",
   "metadata": {
    "execution": {
     "iopub.execute_input": "2022-01-17T15:28:45.215926Z",
     "iopub.status.busy": "2022-01-17T15:28:45.215835Z",
     "iopub.status.idle": "2022-01-17T15:31:20.102834Z",
     "shell.execute_reply": "2022-01-17T15:31:20.102381Z",
     "shell.execute_reply.started": "2022-01-17T15:28:45.215914Z"
    },
    "scrolled": true,
    "tags": []
   },
   "outputs": [
    {
     "data": {
      "text/plain": [
       "GridSearchCV(cv=5,\n",
       "             estimator=Pipeline(steps=[('tvec', TfidfVectorizer()),\n",
       "                                       ('logreg', LogisticRegression())]),\n",
       "             n_jobs=-1,\n",
       "             param_grid={'logreg__C': [0.9, 0.95, 1], 'logreg__max_iter': [500],\n",
       "                         'logreg__penalty': ['l1', 'l2'],\n",
       "                         'logreg__random_state': [42],\n",
       "                         'logreg__solver': ['saga'],\n",
       "                         'tvec__max_df': [0.9, 0.95],\n",
       "                         'tvec__max_features': [2000, 3000, 5000],\n",
       "                         'tvec__min_df': [2, 3],\n",
       "                         'tvec__ngram_range': [(1, 1), (1, 2)],\n",
       "                         'tvec__tokenizer': [<__main__.LemmaTokenizer object at 0x7f8a8171d730>]},\n",
       "             scoring='recall')"
      ]
     },
     "execution_count": 64,
     "metadata": {},
     "output_type": "execute_result"
    }
   ],
   "source": [
    "#create pipeline\n",
    "pipe = Pipeline([\n",
    "    ('tvec', TfidfVectorizer()),\n",
    "    ('logreg', LogisticRegression())\n",
    "])\n",
    "\n",
    "#setup pipeline parameters\n",
    "pipe_params = {\n",
    "    'tvec__tokenizer': [LemmaTokenizer()],\n",
    "    'tvec__max_features': [2000, 3000, 5000],\n",
    "    'tvec__min_df': [2, 3],\n",
    "    'tvec__max_df': [0.9, 0.95],\n",
    "    'tvec__ngram_range': [(1,1), (1,2)],\n",
    "    'logreg__penalty': ['l1', 'l2'],\n",
    "    'logreg__solver': ['saga'],\n",
    "    'logreg__random_state': [42],\n",
    "    'logreg__C': [0.9, 0.95, 1],\n",
    "    'logreg__max_iter': [500]\n",
    "}\n",
    "\n",
    "#instantiate grid search cross validation \n",
    "gs3 = GridSearchCV(pipe, pipe_params, cv=5, scoring='recall', n_jobs=-1)\n",
    "\n",
    "#fit grid search\n",
    "gs3.fit(X_train, y_train)"
   ]
  },
  {
   "cell_type": "code",
   "execution_count": 65,
   "id": "907c45c6-4c7a-4b48-961d-d23c953aa9d7",
   "metadata": {
    "execution": {
     "iopub.execute_input": "2022-01-17T15:31:20.104038Z",
     "iopub.status.busy": "2022-01-17T15:31:20.103936Z",
     "iopub.status.idle": "2022-01-17T15:31:20.107091Z",
     "shell.execute_reply": "2022-01-17T15:31:20.106823Z",
     "shell.execute_reply.started": "2022-01-17T15:31:20.104020Z"
    },
    "tags": []
   },
   "outputs": [
    {
     "name": "stdout",
     "output_type": "stream",
     "text": [
      "best parameters through grid search:\n",
      "logreg__C: 0.95\n",
      "logreg__max_iter: 500\n",
      "logreg__penalty: l2\n",
      "logreg__random_state: 42\n",
      "logreg__solver: saga\n",
      "tvec__max_df: 0.9\n",
      "tvec__max_features: 2000\n",
      "tvec__min_df: 3\n",
      "tvec__ngram_range: (1, 2)\n",
      "tvec__tokenizer: <__main__.LemmaTokenizer object at 0x7f8a8171d730>\n"
     ]
    }
   ],
   "source": [
    "#print the best parameters \n",
    "print(\"best parameters through grid search:\")\n",
    "for i, j in gs3.best_params_.items(): \n",
    "    print(f\"{i}: {j}\") "
   ]
  },
  {
   "cell_type": "code",
   "execution_count": 66,
   "id": "2a269137-fd42-495e-b2d5-49f8616756a5",
   "metadata": {
    "execution": {
     "iopub.execute_input": "2022-01-17T15:31:20.107586Z",
     "iopub.status.busy": "2022-01-17T15:31:20.107509Z",
     "iopub.status.idle": "2022-01-17T15:31:20.110610Z",
     "shell.execute_reply": "2022-01-17T15:31:20.110357Z",
     "shell.execute_reply.started": "2022-01-17T15:31:20.107576Z"
    },
    "tags": []
   },
   "outputs": [
    {
     "name": "stdout",
     "output_type": "stream",
     "text": [
      "best score through grid search: 0.9261744966442954\n"
     ]
    }
   ],
   "source": [
    "#print grid search best score\n",
    "print(f'best score through grid search: {gs3.best_score_}')"
   ]
  },
  {
   "cell_type": "code",
   "execution_count": 67,
   "id": "11c32b9f-16b3-4afe-bc6c-519bc7cc6a2d",
   "metadata": {
    "execution": {
     "iopub.execute_input": "2022-01-17T15:31:20.111171Z",
     "iopub.status.busy": "2022-01-17T15:31:20.111093Z",
     "iopub.status.idle": "2022-01-17T15:31:21.122478Z",
     "shell.execute_reply": "2022-01-17T15:31:21.122171Z",
     "shell.execute_reply.started": "2022-01-17T15:31:20.111160Z"
    },
    "tags": []
   },
   "outputs": [
    {
     "name": "stdout",
     "output_type": "stream",
     "text": [
      "score from training: 0.9544\n",
      "score from testing:  0.9234\n"
     ]
    }
   ],
   "source": [
    "#print score from training and testing data \n",
    "print(f'score from training: {round(gs3.score(X_train, y_train),4)}')\n",
    "print(f'score from testing:  {round(gs3.score(X_test, y_test),4)}')"
   ]
  },
  {
   "cell_type": "code",
   "execution_count": 68,
   "id": "a0e5a1cf-ceb7-41cf-b39f-67f6d13a99fe",
   "metadata": {
    "execution": {
     "iopub.execute_input": "2022-01-17T15:31:21.123273Z",
     "iopub.status.busy": "2022-01-17T15:31:21.123170Z",
     "iopub.status.idle": "2022-01-17T15:31:21.380715Z",
     "shell.execute_reply": "2022-01-17T15:31:21.380323Z",
     "shell.execute_reply.started": "2022-01-17T15:31:21.123260Z"
    },
    "tags": []
   },
   "outputs": [],
   "source": [
    "#compute predicted values with testing set\n",
    "y_pred = gs3.predict(X_test)\n",
    "\n",
    "#compute confusion matrix from testing set\n",
    "cm3 = confusion_matrix(y_test, y_pred)\n",
    "tn, fp, fn, tp = cm3.ravel()"
   ]
  },
  {
   "cell_type": "code",
   "execution_count": 69,
   "id": "b9a47d4c-e987-42d2-8d37-e3a5968b35cb",
   "metadata": {
    "execution": {
     "iopub.execute_input": "2022-01-17T15:31:21.381468Z",
     "iopub.status.busy": "2022-01-17T15:31:21.381364Z",
     "iopub.status.idle": "2022-01-17T15:31:21.387272Z",
     "shell.execute_reply": "2022-01-17T15:31:21.386959Z",
     "shell.execute_reply.started": "2022-01-17T15:31:21.381454Z"
    },
    "tags": []
   },
   "outputs": [],
   "source": [
    "model3 = {}\n",
    "model3['accuracy'] = accuracy_score(y_test, y_pred)\n",
    "model3['precision'] = precision_score(y_test, y_pred)\n",
    "model3['recall'] = recall_score(y_test, y_pred)\n",
    "model3['specificity'] = tn / (tn+fp)\n",
    "model3['f1'] = f1_score(y_test, y_pred)"
   ]
  },
  {
   "cell_type": "code",
   "execution_count": 70,
   "id": "302f0927-9095-44c2-aee7-32758d077784",
   "metadata": {
    "execution": {
     "iopub.execute_input": "2022-01-17T15:31:21.388146Z",
     "iopub.status.busy": "2022-01-17T15:31:21.387971Z",
     "iopub.status.idle": "2022-01-17T15:31:21.391391Z",
     "shell.execute_reply": "2022-01-17T15:31:21.391023Z",
     "shell.execute_reply.started": "2022-01-17T15:31:21.388132Z"
    },
    "tags": []
   },
   "outputs": [
    {
     "data": {
      "text/plain": [
       "{'accuracy': 0.9461077844311377,\n",
       " 'precision': 0.9662447257383966,\n",
       " 'recall': 0.9233870967741935,\n",
       " 'specificity': 0.9683794466403162,\n",
       " 'f1': 0.9443298969072165}"
      ]
     },
     "execution_count": 70,
     "metadata": {},
     "output_type": "execute_result"
    }
   ],
   "source": [
    "model3"
   ]
  },
  {
   "cell_type": "code",
   "execution_count": 71,
   "id": "d197c450-f1bf-4996-8257-5ee48cc52191",
   "metadata": {
    "execution": {
     "iopub.execute_input": "2022-01-17T15:31:21.392092Z",
     "iopub.status.busy": "2022-01-17T15:31:21.391992Z",
     "iopub.status.idle": "2022-01-17T15:31:21.478428Z",
     "shell.execute_reply": "2022-01-17T15:31:21.478079Z",
     "shell.execute_reply.started": "2022-01-17T15:31:21.392079Z"
    },
    "tags": []
   },
   "outputs": [
    {
     "data": {
      "image/png": "[encoded data removed]",
      "text/plain": [
       "<Figure size 360x360 with 2 Axes>"
      ]
     },
     "metadata": {
      "needs_background": "light"
     },
     "output_type": "display_data"
    }
   ],
   "source": [
    "#print confusion matrix\n",
    "disp = ConfusionMatrixDisplay(confusion_matrix=cm3, display_labels=gs3.classes_)\n",
    "fig, ax = plt.subplots(figsize=(5, 5))\n",
    "ax.set_title('confusion matrix')\n",
    "disp.plot(cmap='Blues', ax=ax);"
   ]
  },
  {
   "cell_type": "code",
   "execution_count": 72,
   "id": "14526997-8e78-41cf-9ec3-7be86b058045",
   "metadata": {
    "execution": {
     "iopub.execute_input": "2022-01-17T15:31:21.479854Z",
     "iopub.status.busy": "2022-01-17T15:31:21.479509Z",
     "iopub.status.idle": "2022-01-17T15:31:21.483730Z",
     "shell.execute_reply": "2022-01-17T15:31:21.483164Z",
     "shell.execute_reply.started": "2022-01-17T15:31:21.479838Z"
    },
    "tags": []
   },
   "outputs": [
    {
     "name": "stdout",
     "output_type": "stream",
     "text": [
      "sensitivity : 0.9233870967741935\n",
      "specificity:  0.9683794466403162\n"
     ]
    }
   ],
   "source": [
    "#compute sensitivity and specificity\n",
    "sensitivity = tp / (tp+fn)\n",
    "specificity = tn / (tn+fp)\n",
    "\n",
    "print(f'sensitivity : {sensitivity}')\n",
    "print(f'specificity:  {specificity}')"
   ]
  },
  {
   "cell_type": "code",
   "execution_count": 73,
   "id": "1ea50298-8254-4262-88a9-39678a1136d4",
   "metadata": {
    "execution": {
     "iopub.execute_input": "2022-01-17T15:31:21.484630Z",
     "iopub.status.busy": "2022-01-17T15:31:21.484533Z",
     "iopub.status.idle": "2022-01-17T15:31:21.490887Z",
     "shell.execute_reply": "2022-01-17T15:31:21.490351Z",
     "shell.execute_reply.started": "2022-01-17T15:31:21.484618Z"
    },
    "tags": []
   },
   "outputs": [
    {
     "name": "stdout",
     "output_type": "stream",
     "text": [
      "              precision    recall  f1-score   support\n",
      "\n",
      "           0       0.93      0.97      0.95       253\n",
      "           1       0.97      0.92      0.94       248\n",
      "\n",
      "    accuracy                           0.95       501\n",
      "   macro avg       0.95      0.95      0.95       501\n",
      "weighted avg       0.95      0.95      0.95       501\n",
      "\n"
     ]
    }
   ],
   "source": [
    "print(classification_report(y_test, y_pred))"
   ]
  },
  {
   "cell_type": "markdown",
   "id": "bddbffb6-b64f-40ae-b338-b5a1977d5295",
   "metadata": {},
   "source": [
    "### Model 4: TFIDF, KNN"
   ]
  },
  {
   "cell_type": "code",
   "execution_count": 142,
   "id": "a11b1b10-466a-447e-ad90-e785f9f34778",
   "metadata": {
    "execution": {
     "iopub.execute_input": "2022-01-18T01:01:19.632159Z",
     "iopub.status.busy": "2022-01-18T01:01:19.629708Z",
     "iopub.status.idle": "2022-01-18T01:05:14.620451Z",
     "shell.execute_reply": "2022-01-18T01:05:14.619904Z",
     "shell.execute_reply.started": "2022-01-18T01:01:19.632050Z"
    },
    "scrolled": true,
    "tags": []
   },
   "outputs": [
    {
     "data": {
      "text/plain": [
       "GridSearchCV(cv=5,\n",
       "             estimator=Pipeline(steps=[('tvec', TfidfVectorizer()),\n",
       "                                       ('knn', KNeighborsClassifier())]),\n",
       "             n_jobs=-1,\n",
       "             param_grid={'knn__n_neighbors': [1, 3], 'knn__p': [1, 2],\n",
       "                         'knn__weights': ['uniform', 'distance'],\n",
       "                         'tvec__max_df': [0.9, 0.95],\n",
       "                         'tvec__max_features': [2000, 3000, 5000],\n",
       "                         'tvec__min_df': [2, 3],\n",
       "                         'tvec__ngram_range': [(1, 1), (1, 2)],\n",
       "                         'tvec__tokenizer': [<__main__.LemmaTokenizer object at 0x7f8aa68aba30>]},\n",
       "             scoring='recall')"
      ]
     },
     "execution_count": 142,
     "metadata": {},
     "output_type": "execute_result"
    }
   ],
   "source": [
    "#create pipeline\n",
    "pipe = Pipeline([\n",
    "    ('tvec', TfidfVectorizer()),\n",
    "    ('knn',  KNeighborsClassifier())\n",
    "])\n",
    "\n",
    "#setup pipeline parameters\n",
    "pipe_params = {\n",
    "    'tvec__tokenizer': [LemmaTokenizer()],\n",
    "    'tvec__max_features': [2000, 3000, 5000],\n",
    "    'tvec__min_df': [2, 3],\n",
    "    'tvec__max_df': [0.9, 0.95],\n",
    "    'tvec__ngram_range': [(1,1), (1,2)],\n",
    "    'knn__p': [1, 2],\n",
    "    'knn__weights': ['uniform', 'distance'],\n",
    "    'knn__n_neighbors': [1, 3]\n",
    "}\n",
    "\n",
    "#instantiate grid search cross validation \n",
    "gs4 = GridSearchCV(pipe, pipe_params, cv=5, scoring='recall', n_jobs=-1)\n",
    "\n",
    "#fit grid search\n",
    "gs4.fit(X_train, y_train)"
   ]
  },
  {
   "cell_type": "code",
   "execution_count": 143,
   "id": "40fb5a6c-032d-40a0-98ba-d930ab449edb",
   "metadata": {
    "execution": {
     "iopub.execute_input": "2022-01-18T01:05:33.436680Z",
     "iopub.status.busy": "2022-01-18T01:05:33.435709Z",
     "iopub.status.idle": "2022-01-18T01:05:33.466864Z",
     "shell.execute_reply": "2022-01-18T01:05:33.465920Z",
     "shell.execute_reply.started": "2022-01-18T01:05:33.436591Z"
    },
    "tags": []
   },
   "outputs": [
    {
     "name": "stdout",
     "output_type": "stream",
     "text": [
      "best parameters through grid search:\n",
      "knn__n_neighbors: 3\n",
      "knn__p: 1\n",
      "knn__weights: uniform\n",
      "tvec__max_df: 0.9\n",
      "tvec__max_features: 3000\n",
      "tvec__min_df: 2\n",
      "tvec__ngram_range: (1, 2)\n",
      "tvec__tokenizer: <__main__.LemmaTokenizer object at 0x7f8aa68aba30>\n"
     ]
    }
   ],
   "source": [
    "#print the best parameters \n",
    "print(\"best parameters through grid search:\")\n",
    "for i, j in gs4.best_params_.items():\n",
    "    print(f\"{i}: {j}\") "
   ]
  },
  {
   "cell_type": "code",
   "execution_count": 144,
   "id": "ac9351ae-78d8-4a81-9d06-69d405b444cb",
   "metadata": {
    "execution": {
     "iopub.execute_input": "2022-01-18T01:05:34.467267Z",
     "iopub.status.busy": "2022-01-18T01:05:34.466690Z",
     "iopub.status.idle": "2022-01-18T01:05:34.475781Z",
     "shell.execute_reply": "2022-01-18T01:05:34.474670Z",
     "shell.execute_reply.started": "2022-01-18T01:05:34.467199Z"
    },
    "tags": []
   },
   "outputs": [
    {
     "name": "stdout",
     "output_type": "stream",
     "text": [
      "best score through grid search: 0.9973154362416107\n"
     ]
    }
   ],
   "source": [
    "#print grid search best score\n",
    "print(f'best score through grid search: {gs4.best_score_}')"
   ]
  },
  {
   "cell_type": "code",
   "execution_count": 145,
   "id": "f6613ecf-5bb5-440c-b12d-56e68817e6a1",
   "metadata": {
    "execution": {
     "iopub.execute_input": "2022-01-18T01:05:35.436171Z",
     "iopub.status.busy": "2022-01-18T01:05:35.435625Z",
     "iopub.status.idle": "2022-01-18T01:05:36.668535Z",
     "shell.execute_reply": "2022-01-18T01:05:36.667961Z",
     "shell.execute_reply.started": "2022-01-18T01:05:35.436105Z"
    },
    "tags": []
   },
   "outputs": [
    {
     "name": "stdout",
     "output_type": "stream",
     "text": [
      "score from training: 1.0\n",
      "score from testing:  1.0\n"
     ]
    }
   ],
   "source": [
    "#print score from training and testing data \n",
    "print(f'score from training: {round(gs4.score(X_train, y_train),4)}')\n",
    "print(f'score from testing:  {round(gs4.score(X_test, y_test),4)}')"
   ]
  },
  {
   "cell_type": "code",
   "execution_count": 146,
   "id": "81cbce20-2372-44bf-a00c-59364c6901b8",
   "metadata": {
    "execution": {
     "iopub.execute_input": "2022-01-18T01:05:37.463534Z",
     "iopub.status.busy": "2022-01-18T01:05:37.463087Z",
     "iopub.status.idle": "2022-01-18T01:05:37.781025Z",
     "shell.execute_reply": "2022-01-18T01:05:37.780613Z",
     "shell.execute_reply.started": "2022-01-18T01:05:37.463495Z"
    },
    "tags": []
   },
   "outputs": [],
   "source": [
    "#compute predicted values with testing set\n",
    "y_pred = gs4.predict(X_test)\n",
    "\n",
    "#compute confusion matrix from testing set\n",
    "cm4 = confusion_matrix(y_test, y_pred)\n",
    "tn, fp, fn, tp = cm4.ravel()"
   ]
  },
  {
   "cell_type": "code",
   "execution_count": 147,
   "id": "63cefb7b-ca59-4506-b691-52d470121514",
   "metadata": {
    "execution": {
     "iopub.execute_input": "2022-01-18T01:05:38.445828Z",
     "iopub.status.busy": "2022-01-18T01:05:38.445189Z",
     "iopub.status.idle": "2022-01-18T01:05:38.465731Z",
     "shell.execute_reply": "2022-01-18T01:05:38.465281Z",
     "shell.execute_reply.started": "2022-01-18T01:05:38.445783Z"
    },
    "tags": []
   },
   "outputs": [],
   "source": [
    "model4 = {}\n",
    "model4['accuracy'] = accuracy_score(y_test, y_pred)\n",
    "model4['precision'] = precision_score(y_test, y_pred)\n",
    "model4['recall'] = recall_score(y_test, y_pred)\n",
    "model4['specificity'] = tn / (tn+fp)\n",
    "model4['f1'] = f1_score(y_test, y_pred)"
   ]
  },
  {
   "cell_type": "code",
   "execution_count": 148,
   "id": "a41b0620-ea34-45af-92f2-ab6daad7ad3d",
   "metadata": {
    "execution": {
     "iopub.execute_input": "2022-01-18T01:05:38.466939Z",
     "iopub.status.busy": "2022-01-18T01:05:38.466818Z",
     "iopub.status.idle": "2022-01-18T01:05:38.473346Z",
     "shell.execute_reply": "2022-01-18T01:05:38.472952Z",
     "shell.execute_reply.started": "2022-01-18T01:05:38.466925Z"
    },
    "tags": []
   },
   "outputs": [
    {
     "data": {
      "text/plain": [
       "{'accuracy': 0.5169660678642715,\n",
       " 'precision': 0.5061224489795918,\n",
       " 'recall': 1.0,\n",
       " 'specificity': 0.043478260869565216,\n",
       " 'f1': 0.6720867208672087}"
      ]
     },
     "execution_count": 148,
     "metadata": {},
     "output_type": "execute_result"
    }
   ],
   "source": [
    "model4"
   ]
  },
  {
   "cell_type": "code",
   "execution_count": 149,
   "id": "50e1b55c-05bc-455b-bf71-4687543ed3c3",
   "metadata": {
    "execution": {
     "iopub.execute_input": "2022-01-18T01:05:44.450546Z",
     "iopub.status.busy": "2022-01-18T01:05:44.445879Z",
     "iopub.status.idle": "2022-01-18T01:05:44.604600Z",
     "shell.execute_reply": "2022-01-18T01:05:44.604092Z",
     "shell.execute_reply.started": "2022-01-18T01:05:44.450437Z"
    },
    "tags": []
   },
   "outputs": [
    {
     "data": {
      "image/png": "[encoded data removed]",
      "text/plain": [
       "<Figure size 360x360 with 2 Axes>"
      ]
     },
     "metadata": {
      "needs_background": "light"
     },
     "output_type": "display_data"
    }
   ],
   "source": [
    "#print confusion matrix\n",
    "disp = ConfusionMatrixDisplay(confusion_matrix=cm4, display_labels=gs4.classes_)\n",
    "fig, ax = plt.subplots(figsize=(5, 5))\n",
    "ax.set_title('confusion matrix')\n",
    "disp.plot(cmap='Blues', ax=ax);"
   ]
  },
  {
   "cell_type": "code",
   "execution_count": 150,
   "id": "0d1df383-cefe-4f35-a421-d2878bd3e736",
   "metadata": {
    "execution": {
     "iopub.execute_input": "2022-01-18T01:05:49.436574Z",
     "iopub.status.busy": "2022-01-18T01:05:49.435862Z",
     "iopub.status.idle": "2022-01-18T01:05:49.459842Z",
     "shell.execute_reply": "2022-01-18T01:05:49.458222Z",
     "shell.execute_reply.started": "2022-01-18T01:05:49.436523Z"
    },
    "scrolled": true,
    "tags": []
   },
   "outputs": [
    {
     "name": "stdout",
     "output_type": "stream",
     "text": [
      "sensitivity : 1.0\n",
      "specificity:  0.043478260869565216\n"
     ]
    }
   ],
   "source": [
    "#compute sensitivity and specificity\n",
    "sensitivity = tp / (tp+fn)\n",
    "specificity = tn / (tn+fp)\n",
    "\n",
    "print(f'sensitivity : {sensitivity}')\n",
    "print(f'specificity:  {specificity}')"
   ]
  },
  {
   "cell_type": "code",
   "execution_count": 151,
   "id": "c7cfbd42-a30a-4029-a1a2-b49b2374469b",
   "metadata": {
    "execution": {
     "iopub.execute_input": "2022-01-18T01:05:49.462085Z",
     "iopub.status.busy": "2022-01-18T01:05:49.461841Z",
     "iopub.status.idle": "2022-01-18T01:05:49.476537Z",
     "shell.execute_reply": "2022-01-18T01:05:49.475948Z",
     "shell.execute_reply.started": "2022-01-18T01:05:49.462057Z"
    },
    "tags": []
   },
   "outputs": [
    {
     "name": "stdout",
     "output_type": "stream",
     "text": [
      "              precision    recall  f1-score   support\n",
      "\n",
      "           0       1.00      0.04      0.08       253\n",
      "           1       0.51      1.00      0.67       248\n",
      "\n",
      "    accuracy                           0.52       501\n",
      "   macro avg       0.75      0.52      0.38       501\n",
      "weighted avg       0.76      0.52      0.37       501\n",
      "\n"
     ]
    }
   ],
   "source": [
    "print(classification_report(y_test, y_pred))"
   ]
  },
  {
   "cell_type": "markdown",
   "id": "c5ac9ec9-5803-49ae-9dd3-17c592d800eb",
   "metadata": {
    "tags": []
   },
   "source": [
    "### Model 5: TFIDF, tree classifier "
   ]
  },
  {
   "cell_type": "code",
   "execution_count": 85,
   "id": "36cd3a8f-d543-45a5-b2d3-4b4ecc260ed5",
   "metadata": {
    "execution": {
     "iopub.execute_input": "2022-01-17T15:34:43.427527Z",
     "iopub.status.busy": "2022-01-17T15:34:43.426856Z",
     "iopub.status.idle": "2022-01-17T16:10:06.029312Z",
     "shell.execute_reply": "2022-01-17T16:10:06.028790Z",
     "shell.execute_reply.started": "2022-01-17T15:34:43.427464Z"
    },
    "scrolled": true,
    "tags": []
   },
   "outputs": [
    {
     "data": {
      "text/plain": [
       "GridSearchCV(cv=5,\n",
       "             estimator=Pipeline(steps=[('tvec', TfidfVectorizer()),\n",
       "                                       ('dtree', DecisionTreeClassifier())]),\n",
       "             n_jobs=-1,\n",
       "             param_grid={'dtree__ccp_alpha': [0.001, 0.1, 0.2],\n",
       "                         'dtree__max_depth': [5, 9, 13],\n",
       "                         'dtree__min_samples_leaf': [5, 7, 9],\n",
       "                         'dtree__min_samples_split': [5, 7, 9],\n",
       "                         'dtree__random_state': [42],\n",
       "                         'tvec__max_df': [0.9, 0.95],\n",
       "                         'tvec__max_features': [2000, 3000, 5000],\n",
       "                         'tvec__min_df': [2, 3],\n",
       "                         'tvec__ngram_range': [(1, 1), (1, 2)],\n",
       "                         'tvec__tokenizer': [<__main__.LemmaTokenizer object at 0x7f8a61a2da30>]},\n",
       "             scoring='recall')"
      ]
     },
     "execution_count": 85,
     "metadata": {},
     "output_type": "execute_result"
    }
   ],
   "source": [
    "#create pipeline\n",
    "pipe = Pipeline([\n",
    "    ('tvec', TfidfVectorizer()),\n",
    "    ('dtree', DecisionTreeClassifier())\n",
    "])\n",
    "\n",
    "#setup pipeline parameters\n",
    "pipe_params = {\n",
    "    'tvec__tokenizer': [LemmaTokenizer()],\n",
    "    'tvec__max_features': [2000, 3000, 5000],\n",
    "    'tvec__min_df': [2, 3],\n",
    "    'tvec__max_df': [0.9, 0.95],\n",
    "    'tvec__ngram_range': [(1,1), (1,2)],\n",
    "    'dtree__max_depth': [5, 9, 13],\n",
    "    'dtree__min_samples_split': [5, 7, 9],\n",
    "    'dtree__min_samples_leaf': [5, 7, 9],\n",
    "    'dtree__ccp_alpha': [0.001, 0.1, 0.2],\n",
    "    'dtree__random_state': [42]\n",
    "}\n",
    "\n",
    "#instantiate grid search cross validation \n",
    "gs5 = GridSearchCV(pipe, pipe_params, cv=5, scoring='recall', n_jobs=-1)\n",
    "\n",
    "#fit grid search\n",
    "gs5.fit(X_train, y_train)"
   ]
  },
  {
   "cell_type": "code",
   "execution_count": 86,
   "id": "40078ba2-29a7-4e84-b741-d375b81d1053",
   "metadata": {
    "execution": {
     "iopub.execute_input": "2022-01-17T16:10:06.033542Z",
     "iopub.status.busy": "2022-01-17T16:10:06.033404Z",
     "iopub.status.idle": "2022-01-17T16:10:06.038533Z",
     "shell.execute_reply": "2022-01-17T16:10:06.038212Z",
     "shell.execute_reply.started": "2022-01-17T16:10:06.033524Z"
    },
    "tags": []
   },
   "outputs": [
    {
     "name": "stdout",
     "output_type": "stream",
     "text": [
      "best parameters through grid search:\n",
      "dtree__ccp_alpha: 0.001\n",
      "dtree__max_depth: 13\n",
      "dtree__min_samples_leaf: 9\n",
      "dtree__min_samples_split: 5\n",
      "dtree__random_state: 42\n",
      "tvec__max_df: 0.9\n",
      "tvec__max_features: 3000\n",
      "tvec__min_df: 2\n",
      "tvec__ngram_range: (1, 1)\n",
      "tvec__tokenizer: <__main__.LemmaTokenizer object at 0x7f8a61a2da30>\n"
     ]
    }
   ],
   "source": [
    "#print the best parameters \n",
    "print(\"best parameters through grid search:\")\n",
    "for i, j in gs5.best_params_.items(): \n",
    "    print(f\"{i}: {j}\") "
   ]
  },
  {
   "cell_type": "code",
   "execution_count": 87,
   "id": "2533611f-0b1f-4243-9afa-8edad7034274",
   "metadata": {
    "execution": {
     "iopub.execute_input": "2022-01-17T16:10:06.039217Z",
     "iopub.status.busy": "2022-01-17T16:10:06.039107Z",
     "iopub.status.idle": "2022-01-17T16:10:06.043730Z",
     "shell.execute_reply": "2022-01-17T16:10:06.043442Z",
     "shell.execute_reply.started": "2022-01-17T16:10:06.039204Z"
    },
    "tags": []
   },
   "outputs": [
    {
     "name": "stdout",
     "output_type": "stream",
     "text": [
      "best score through grid search: 0.8201342281879196\n"
     ]
    }
   ],
   "source": [
    "#print grid search best score\n",
    "print(f'best score through grid search: {gs5.best_score_}')"
   ]
  },
  {
   "cell_type": "code",
   "execution_count": 88,
   "id": "0088b8e1-429d-4948-86a3-6271bc8abb65",
   "metadata": {
    "execution": {
     "iopub.execute_input": "2022-01-17T16:10:06.044983Z",
     "iopub.status.busy": "2022-01-17T16:10:06.044874Z",
     "iopub.status.idle": "2022-01-17T16:10:07.098246Z",
     "shell.execute_reply": "2022-01-17T16:10:07.097779Z",
     "shell.execute_reply.started": "2022-01-17T16:10:06.044970Z"
    },
    "tags": []
   },
   "outputs": [
    {
     "name": "stdout",
     "output_type": "stream",
     "text": [
      "score from training: 0.8671\n",
      "score from testing:  0.8065\n"
     ]
    }
   ],
   "source": [
    "#print score from training and testing data \n",
    "print(f'score from training: {round(gs5.score(X_train, y_train),4)}')\n",
    "print(f'score from testing:  {round(gs5.score(X_test, y_test),4)}')"
   ]
  },
  {
   "cell_type": "code",
   "execution_count": 89,
   "id": "8fa8f0af-b852-43fc-9751-d64fe88eacc8",
   "metadata": {
    "execution": {
     "iopub.execute_input": "2022-01-17T16:10:07.099094Z",
     "iopub.status.busy": "2022-01-17T16:10:07.098954Z",
     "iopub.status.idle": "2022-01-17T16:10:07.407118Z",
     "shell.execute_reply": "2022-01-17T16:10:07.406661Z",
     "shell.execute_reply.started": "2022-01-17T16:10:07.099079Z"
    },
    "tags": []
   },
   "outputs": [],
   "source": [
    "#compute predicted values with testing set\n",
    "y_pred = gs5.predict(X_test)\n",
    "\n",
    "#compute confusion matrix from testing set\n",
    "cm5 = confusion_matrix(y_test, y_pred)\n",
    "tn, fp, fn, tp = cm5.ravel()"
   ]
  },
  {
   "cell_type": "code",
   "execution_count": 90,
   "id": "b5e067f8-4057-4788-b44d-963f0357b846",
   "metadata": {
    "execution": {
     "iopub.execute_input": "2022-01-17T16:10:07.407991Z",
     "iopub.status.busy": "2022-01-17T16:10:07.407846Z",
     "iopub.status.idle": "2022-01-17T16:10:07.415887Z",
     "shell.execute_reply": "2022-01-17T16:10:07.415485Z",
     "shell.execute_reply.started": "2022-01-17T16:10:07.407975Z"
    },
    "tags": []
   },
   "outputs": [],
   "source": [
    "model5 = {}\n",
    "model5['accuracy'] = accuracy_score(y_test, y_pred)\n",
    "model5['precision'] = precision_score(y_test, y_pred)\n",
    "model5['recall'] = recall_score(y_test, y_pred)\n",
    "model5['specificity'] = tn / (tn+fp)\n",
    "model5['f1'] = f1_score(y_test, y_pred)"
   ]
  },
  {
   "cell_type": "code",
   "execution_count": 91,
   "id": "cf6c2077-bb3a-4659-993f-f11154347cf9",
   "metadata": {
    "execution": {
     "iopub.execute_input": "2022-01-17T16:10:07.416805Z",
     "iopub.status.busy": "2022-01-17T16:10:07.416678Z",
     "iopub.status.idle": "2022-01-17T16:10:07.421615Z",
     "shell.execute_reply": "2022-01-17T16:10:07.421027Z",
     "shell.execute_reply.started": "2022-01-17T16:10:07.416790Z"
    },
    "tags": []
   },
   "outputs": [
    {
     "data": {
      "text/plain": [
       "{'accuracy': 0.8642714570858283,\n",
       " 'precision': 0.9090909090909091,\n",
       " 'recall': 0.8064516129032258,\n",
       " 'specificity': 0.9209486166007905,\n",
       " 'f1': 0.8547008547008547}"
      ]
     },
     "execution_count": 91,
     "metadata": {},
     "output_type": "execute_result"
    }
   ],
   "source": [
    "model5"
   ]
  },
  {
   "cell_type": "code",
   "execution_count": 92,
   "id": "8b100c27-10a8-4191-b20c-525d7fa85232",
   "metadata": {
    "execution": {
     "iopub.execute_input": "2022-01-17T16:10:07.423209Z",
     "iopub.status.busy": "2022-01-17T16:10:07.423056Z",
     "iopub.status.idle": "2022-01-17T16:10:07.585954Z",
     "shell.execute_reply": "2022-01-17T16:10:07.585131Z",
     "shell.execute_reply.started": "2022-01-17T16:10:07.423191Z"
    },
    "tags": []
   },
   "outputs": [
    {
     "data": {
      "image/png": "[encoded data removed]",
      "text/plain": [
       "<Figure size 360x360 with 2 Axes>"
      ]
     },
     "metadata": {
      "needs_background": "light"
     },
     "output_type": "display_data"
    }
   ],
   "source": [
    "#print confusion matrix\n",
    "disp = ConfusionMatrixDisplay(confusion_matrix=cm5, display_labels=gs5.classes_)\n",
    "fig, ax = plt.subplots(figsize=(5, 5))\n",
    "ax.set_title('confusion matrix')\n",
    "disp.plot(cmap='Blues', ax=ax);"
   ]
  },
  {
   "cell_type": "code",
   "execution_count": 93,
   "id": "cc12a402-e8f6-427c-a551-646d47623225",
   "metadata": {
    "execution": {
     "iopub.execute_input": "2022-01-17T16:10:07.587359Z",
     "iopub.status.busy": "2022-01-17T16:10:07.587233Z",
     "iopub.status.idle": "2022-01-17T16:10:07.591329Z",
     "shell.execute_reply": "2022-01-17T16:10:07.590808Z",
     "shell.execute_reply.started": "2022-01-17T16:10:07.587343Z"
    },
    "scrolled": true,
    "tags": []
   },
   "outputs": [
    {
     "name": "stdout",
     "output_type": "stream",
     "text": [
      "sensitivity : 0.8064516129032258\n",
      "specificity:  0.9209486166007905\n"
     ]
    }
   ],
   "source": [
    "#compute sensitivity and specificity\n",
    "sensitivity = tp / (tp+fn)\n",
    "specificity = tn / (tn+fp)\n",
    "\n",
    "print(f'sensitivity : {sensitivity}')\n",
    "print(f'specificity:  {specificity}')"
   ]
  },
  {
   "cell_type": "code",
   "execution_count": 94,
   "id": "fe61caa5-7b39-4242-9f5b-7ba87ba7c7a1",
   "metadata": {
    "execution": {
     "iopub.execute_input": "2022-01-17T16:10:07.595874Z",
     "iopub.status.busy": "2022-01-17T16:10:07.595703Z",
     "iopub.status.idle": "2022-01-17T16:10:07.603656Z",
     "shell.execute_reply": "2022-01-17T16:10:07.602979Z",
     "shell.execute_reply.started": "2022-01-17T16:10:07.595859Z"
    },
    "tags": []
   },
   "outputs": [
    {
     "name": "stdout",
     "output_type": "stream",
     "text": [
      "              precision    recall  f1-score   support\n",
      "\n",
      "           0       0.83      0.92      0.87       253\n",
      "           1       0.91      0.81      0.85       248\n",
      "\n",
      "    accuracy                           0.86       501\n",
      "   macro avg       0.87      0.86      0.86       501\n",
      "weighted avg       0.87      0.86      0.86       501\n",
      "\n"
     ]
    }
   ],
   "source": [
    "print(classification_report(y_test, y_pred))"
   ]
  },
  {
   "cell_type": "markdown",
   "id": "e3152a44-e2f1-4fc2-a1fd-c8c8042128f6",
   "metadata": {},
   "source": [
    "### Model 6: TFIDF, random forest"
   ]
  },
  {
   "cell_type": "code",
   "execution_count": 95,
   "id": "aaebacd1-28a5-4639-bad7-bca4e135c97f",
   "metadata": {
    "execution": {
     "iopub.execute_input": "2022-01-17T16:10:07.604835Z",
     "iopub.status.busy": "2022-01-17T16:10:07.604669Z",
     "iopub.status.idle": "2022-01-17T16:51:10.070894Z",
     "shell.execute_reply": "2022-01-17T16:51:10.070456Z",
     "shell.execute_reply.started": "2022-01-17T16:10:07.604819Z"
    },
    "scrolled": true,
    "tags": []
   },
   "outputs": [
    {
     "data": {
      "text/plain": [
       "GridSearchCV(cv=5,\n",
       "             estimator=Pipeline(steps=[('tvec', TfidfVectorizer()),\n",
       "                                       ('rforest', RandomForestClassifier())]),\n",
       "             n_jobs=-1,\n",
       "             param_grid={'rforest__ccp_alpha': [0.001, 0.1, 0.2],\n",
       "                         'rforest__max_depth': [5, 9, 13],\n",
       "                         'rforest__min_samples_leaf': [5, 7, 9],\n",
       "                         'rforest__min_samples_split': [5, 7, 9],\n",
       "                         'rforest__random_state': [42],\n",
       "                         'tvec__max_df': [0.9, 0.95],\n",
       "                         'tvec__max_features': [2000, 3000, 5000],\n",
       "                         'tvec__min_df': [2, 3],\n",
       "                         'tvec__ngram_range': [(1, 1), (1, 2)],\n",
       "                         'tvec__tokenizer': [<__main__.LemmaTokenizer object at 0x7f8a40bdeac0>]},\n",
       "             scoring='recall')"
      ]
     },
     "execution_count": 95,
     "metadata": {},
     "output_type": "execute_result"
    }
   ],
   "source": [
    "#create pipeline\n",
    "pipe = Pipeline([\n",
    "    ('tvec', TfidfVectorizer()),\n",
    "    ('rforest', RandomForestClassifier())\n",
    "])\n",
    "\n",
    "#setup pipeline parameters\n",
    "pipe_params = {\n",
    "    'tvec__tokenizer': [LemmaTokenizer()],\n",
    "    'tvec__max_features': [2000, 3000, 5000],\n",
    "    'tvec__min_df': [2, 3],\n",
    "    'tvec__max_df': [0.9, 0.95],\n",
    "    'tvec__ngram_range': [(1,1), (1,2)],\n",
    "    'rforest__max_depth': [5, 9, 13],\n",
    "    'rforest__min_samples_split': [5, 7, 9],\n",
    "    'rforest__min_samples_leaf': [5, 7, 9],\n",
    "    'rforest__ccp_alpha': [0.001, 0.1, 0.2],\n",
    "    'rforest__random_state': [42]\n",
    "}\n",
    "\n",
    "#instantiate grid search cross validation \n",
    "gs6 = GridSearchCV(pipe, pipe_params, cv=5, scoring='recall', n_jobs=-1)\n",
    "\n",
    "#fit grid search\n",
    "gs6.fit(X_train, y_train)"
   ]
  },
  {
   "cell_type": "code",
   "execution_count": 96,
   "id": "92fd8947-2031-45c8-a150-75d6b420dca4",
   "metadata": {
    "execution": {
     "iopub.execute_input": "2022-01-17T16:51:10.073030Z",
     "iopub.status.busy": "2022-01-17T16:51:10.072894Z",
     "iopub.status.idle": "2022-01-17T16:51:10.079679Z",
     "shell.execute_reply": "2022-01-17T16:51:10.079399Z",
     "shell.execute_reply.started": "2022-01-17T16:51:10.073015Z"
    },
    "tags": []
   },
   "outputs": [
    {
     "name": "stdout",
     "output_type": "stream",
     "text": [
      "best parameters through grid search:\n",
      "rforest__ccp_alpha: 0.001\n",
      "rforest__max_depth: 13\n",
      "rforest__min_samples_leaf: 7\n",
      "rforest__min_samples_split: 5\n",
      "rforest__random_state: 42\n",
      "tvec__max_df: 0.9\n",
      "tvec__max_features: 2000\n",
      "tvec__min_df: 3\n",
      "tvec__ngram_range: (1, 1)\n",
      "tvec__tokenizer: <__main__.LemmaTokenizer object at 0x7f8a40bdeac0>\n"
     ]
    }
   ],
   "source": [
    "#print the best parameters \n",
    "print(\"best parameters through grid search:\")\n",
    "for i, j in gs6.best_params_.items(): \n",
    "    print(f\"{i}: {j}\") "
   ]
  },
  {
   "cell_type": "code",
   "execution_count": 97,
   "id": "3e3e00c5-3ecd-4017-9dc0-0dec6614739d",
   "metadata": {
    "execution": {
     "iopub.execute_input": "2022-01-17T16:51:10.085631Z",
     "iopub.status.busy": "2022-01-17T16:51:10.085507Z",
     "iopub.status.idle": "2022-01-17T16:51:10.090129Z",
     "shell.execute_reply": "2022-01-17T16:51:10.089885Z",
     "shell.execute_reply.started": "2022-01-17T16:51:10.085617Z"
    },
    "tags": []
   },
   "outputs": [
    {
     "name": "stdout",
     "output_type": "stream",
     "text": [
      "best score through grid search: 0.8469798657718121\n"
     ]
    }
   ],
   "source": [
    "#print grid search best score\n",
    "print(f'best score through grid search: {gs6.best_score_}')"
   ]
  },
  {
   "cell_type": "code",
   "execution_count": 98,
   "id": "b502ccce-f795-45f2-ab43-13d5abeb06e9",
   "metadata": {
    "execution": {
     "iopub.execute_input": "2022-01-17T16:51:10.091206Z",
     "iopub.status.busy": "2022-01-17T16:51:10.091113Z",
     "iopub.status.idle": "2022-01-17T16:51:11.070803Z",
     "shell.execute_reply": "2022-01-17T16:51:11.070449Z",
     "shell.execute_reply.started": "2022-01-17T16:51:10.091196Z"
    },
    "tags": []
   },
   "outputs": [
    {
     "name": "stdout",
     "output_type": "stream",
     "text": [
      "score from training: 0.8658\n",
      "score from testing:  0.875\n"
     ]
    }
   ],
   "source": [
    "#print score from training and testing data \n",
    "print(f'score from training: {round(gs6.score(X_train, y_train),4)}')\n",
    "print(f'score from testing:  {round(gs6.score(X_test, y_test),4)}')"
   ]
  },
  {
   "cell_type": "code",
   "execution_count": 99,
   "id": "d76c06dc-58bb-4a85-ba26-6910399d0a11",
   "metadata": {
    "execution": {
     "iopub.execute_input": "2022-01-17T16:51:11.071659Z",
     "iopub.status.busy": "2022-01-17T16:51:11.071562Z",
     "iopub.status.idle": "2022-01-17T16:51:11.327133Z",
     "shell.execute_reply": "2022-01-17T16:51:11.326797Z",
     "shell.execute_reply.started": "2022-01-17T16:51:11.071647Z"
    },
    "tags": []
   },
   "outputs": [],
   "source": [
    "#compute predicted values with testing set\n",
    "y_pred = gs6.predict(X_test)\n",
    "\n",
    "#compute confusion matrix from testing set\n",
    "cm6 = confusion_matrix(y_test, y_pred)\n",
    "tn, fp, fn, tp = cm5.ravel()"
   ]
  },
  {
   "cell_type": "code",
   "execution_count": 100,
   "id": "cfb889a6-4b45-4622-b4b7-4ff223787d35",
   "metadata": {
    "execution": {
     "iopub.execute_input": "2022-01-17T16:51:11.328012Z",
     "iopub.status.busy": "2022-01-17T16:51:11.327893Z",
     "iopub.status.idle": "2022-01-17T16:51:11.334439Z",
     "shell.execute_reply": "2022-01-17T16:51:11.334084Z",
     "shell.execute_reply.started": "2022-01-17T16:51:11.327999Z"
    },
    "tags": []
   },
   "outputs": [],
   "source": [
    "model6 = {}\n",
    "model6['accuracy'] = accuracy_score(y_test, y_pred)\n",
    "model6['precision'] = precision_score(y_test, y_pred)\n",
    "model6['recall'] = recall_score(y_test, y_pred)\n",
    "model6['specificity'] = tn / (tn+fp)\n",
    "model6['f1'] = f1_score(y_test, y_pred)"
   ]
  },
  {
   "cell_type": "code",
   "execution_count": 101,
   "id": "dad4d058-4654-4ec0-ace7-c99d43f47613",
   "metadata": {
    "execution": {
     "iopub.execute_input": "2022-01-17T16:51:11.335198Z",
     "iopub.status.busy": "2022-01-17T16:51:11.335053Z",
     "iopub.status.idle": "2022-01-17T16:51:11.338441Z",
     "shell.execute_reply": "2022-01-17T16:51:11.337835Z",
     "shell.execute_reply.started": "2022-01-17T16:51:11.335186Z"
    },
    "tags": []
   },
   "outputs": [
    {
     "data": {
      "text/plain": [
       "{'accuracy': 0.9181636726546906,\n",
       " 'precision': 0.9559471365638766,\n",
       " 'recall': 0.875,\n",
       " 'specificity': 0.9209486166007905,\n",
       " 'f1': 0.9136842105263158}"
      ]
     },
     "execution_count": 101,
     "metadata": {},
     "output_type": "execute_result"
    }
   ],
   "source": [
    "model6"
   ]
  },
  {
   "cell_type": "code",
   "execution_count": 102,
   "id": "d75196e8-ad1d-4e8b-a3bb-56624034ddc3",
   "metadata": {
    "execution": {
     "iopub.execute_input": "2022-01-17T16:51:11.339100Z",
     "iopub.status.busy": "2022-01-17T16:51:11.338976Z",
     "iopub.status.idle": "2022-01-17T16:51:11.474527Z",
     "shell.execute_reply": "2022-01-17T16:51:11.473858Z",
     "shell.execute_reply.started": "2022-01-17T16:51:11.339087Z"
    },
    "tags": []
   },
   "outputs": [
    {
     "data": {
      "image/png": "[encoded data removed]",
      "text/plain": [
       "<Figure size 360x360 with 2 Axes>"
      ]
     },
     "metadata": {
      "needs_background": "light"
     },
     "output_type": "display_data"
    }
   ],
   "source": [
    "#print confusion matrix\n",
    "disp = ConfusionMatrixDisplay(confusion_matrix=cm5, display_labels=gs6.classes_)\n",
    "fig, ax = plt.subplots(figsize=(5, 5))\n",
    "ax.set_title('confusion matrix')\n",
    "disp.plot(cmap='Blues', ax=ax);"
   ]
  },
  {
   "cell_type": "code",
   "execution_count": 103,
   "id": "d38c5e61-41fa-47d0-96a0-6c8aad772074",
   "metadata": {
    "execution": {
     "iopub.execute_input": "2022-01-17T16:51:11.475560Z",
     "iopub.status.busy": "2022-01-17T16:51:11.475405Z",
     "iopub.status.idle": "2022-01-17T16:51:11.479807Z",
     "shell.execute_reply": "2022-01-17T16:51:11.479328Z",
     "shell.execute_reply.started": "2022-01-17T16:51:11.475545Z"
    },
    "scrolled": true,
    "tags": []
   },
   "outputs": [
    {
     "name": "stdout",
     "output_type": "stream",
     "text": [
      "sensitivity : 0.8064516129032258\n",
      "specificity:  0.9209486166007905\n"
     ]
    }
   ],
   "source": [
    "#compute sensitivity and specificity\n",
    "sensitivity = tp / (tp+fn)\n",
    "specificity = tn / (tn+fp)\n",
    "\n",
    "print(f'sensitivity : {sensitivity}')\n",
    "print(f'specificity:  {specificity}')"
   ]
  },
  {
   "cell_type": "code",
   "execution_count": 104,
   "id": "d852fef4-d252-44cb-8f6d-34c961638511",
   "metadata": {
    "execution": {
     "iopub.execute_input": "2022-01-17T16:51:11.480522Z",
     "iopub.status.busy": "2022-01-17T16:51:11.480420Z",
     "iopub.status.idle": "2022-01-17T16:51:11.487271Z",
     "shell.execute_reply": "2022-01-17T16:51:11.486869Z",
     "shell.execute_reply.started": "2022-01-17T16:51:11.480508Z"
    },
    "tags": []
   },
   "outputs": [
    {
     "name": "stdout",
     "output_type": "stream",
     "text": [
      "              precision    recall  f1-score   support\n",
      "\n",
      "           0       0.89      0.96      0.92       253\n",
      "           1       0.96      0.88      0.91       248\n",
      "\n",
      "    accuracy                           0.92       501\n",
      "   macro avg       0.92      0.92      0.92       501\n",
      "weighted avg       0.92      0.92      0.92       501\n",
      "\n"
     ]
    }
   ],
   "source": [
    "print(classification_report(y_test, y_pred))"
   ]
  },
  {
   "cell_type": "markdown",
   "id": "5a96e87d-290d-4145-a80c-3c4e18753ce6",
   "metadata": {
    "execution": {
     "iopub.execute_input": "2022-01-17T05:02:02.969982Z",
     "iopub.status.busy": "2022-01-17T05:02:02.964494Z",
     "iopub.status.idle": "2022-01-17T05:02:02.979827Z",
     "shell.execute_reply": "2022-01-17T05:02:02.978830Z",
     "shell.execute_reply.started": "2022-01-17T05:02:02.969875Z"
    },
    "tags": []
   },
   "source": [
    "# Evalutation"
   ]
  },
  {
   "cell_type": "code",
   "execution_count": null,
   "id": "50c8ad19-cb7a-441f-8899-cd88984121c7",
   "metadata": {},
   "outputs": [],
   "source": []
  },
  {
   "cell_type": "code",
   "execution_count": 133,
   "id": "14adbd55-2387-43d1-b407-9b8ee4f51b06",
   "metadata": {
    "execution": {
     "iopub.execute_input": "2022-01-18T00:28:27.406014Z",
     "iopub.status.busy": "2022-01-18T00:28:27.404891Z",
     "iopub.status.idle": "2022-01-18T00:28:28.905752Z",
     "shell.execute_reply": "2022-01-18T00:28:28.905400Z",
     "shell.execute_reply.started": "2022-01-18T00:28:27.405940Z"
    },
    "tags": []
   },
   "outputs": [
    {
     "data": {
      "image/png": "[encoded data removed]",
      "text/plain": [
       "<Figure size 432x360 with 1 Axes>"
      ]
     },
     "metadata": {
      "needs_background": "light"
     },
     "output_type": "display_data"
    }
   ],
   "source": [
    "#plot ROC\n",
    "gs_list = [gs1, gs2, gs3, gs4, gs5, gs6]\n",
    "fig, ax = plt.subplots(figsize=(6,5))\n",
    "plt.plot([0, 1], [0, 1], \"k--\")\n",
    "for i, model in enumerate(gs_list):\n",
    "    metrics.RocCurveDisplay.from_estimator(model,\n",
    "                                           X_test,\n",
    "                                           y_test,\n",
    "                                           ax=ax,\n",
    "                                           name='model'+ str(i+1))"
   ]
  },
  {
   "cell_type": "code",
   "execution_count": null,
   "id": "1ac5c846-98a2-44e6-a1c3-d5ed0acb9c52",
   "metadata": {},
   "outputs": [],
   "source": []
  },
  {
   "cell_type": "markdown",
   "id": "0a057b49-4d37-45ba-b007-44f2f26321ec",
   "metadata": {},
   "source": [
    "# Conclusion"
   ]
  },
  {
   "cell_type": "code",
   "execution_count": null,
   "id": "9d974f3b-b2a2-43f0-89a4-9ac3af0d10cb",
   "metadata": {},
   "outputs": [],
   "source": []
  },
  {
   "cell_type": "code",
   "execution_count": null,
   "id": "81fe619e-4cb3-4b45-aa74-93b20453c26f",
   "metadata": {},
   "outputs": [],
   "source": []
  },
  {
   "cell_type": "code",
   "execution_count": null,
   "id": "b16649ed-5dc1-48b1-9dc0-98daa13040dc",
   "metadata": {},
   "outputs": [],
   "source": []
  }
 ],
 "metadata": {
  "kernelspec": {
   "display_name": "Python 3 (ipykernel)",
   "language": "python",
   "name": "python3"
  },
  "language_info": {
   "codemirror_mode": {
    "name": "ipython",
    "version": 3
   },
   "file_extension": ".py",
   "mimetype": "text/x-python",
   "name": "python",
   "nbconvert_exporter": "python",
   "pygments_lexer": "ipython3",
   "version": "3.8.12"
  },
  "toc-autonumbering": false,
  "toc-showcode": false,
  "toc-showmarkdowntxt": false,
  "toc-showtags": false
 },
 "nbformat": 4,
 "nbformat_minor": 5
}
