{
 "cells": [
  {
   "cell_type": "markdown",
   "id": "6072fafa",
   "metadata": {},
   "source": [
    "# Project 3:  Web APIs & NLP\n",
    "---\n",
    "## Table of Contents\n",
    "\n",
    "1. [Introduction and Problem Statement](#1.-Introduction-and-Problem-Statement)\n",
    "2. [Web scraping](#2.-Web-scraping)\n",
    "3. [EDA](#3.-EDA)\n",
    "4. [Pre-processing](#4.-Pre-processing)\n",
    "5. [Modeling](#5.-Modeling)\n",
    "6. [Conclusion](#7.-Conclusion)\n",
    "---"
   ]
  },
  {
   "cell_type": "markdown",
   "id": "9d72b7d6",
   "metadata": {},
   "source": [
    "# 1. Introduction and Problem Statement\n",
    "\n",
    "A [study](https://www.straitstimes.com/singapore/health/imh-study-points-to-likely-increase-in-mental-health-issues-in-spore-amid-covid-19) conducted by Institute of Mental Health (IMH) and The University of Hong Kong (HKU) between May 2020 and June 2021 revealed that 13% of the 1,000 local participants reported symptoms of anxiety or depression during the Covid-19 pandemic. Mental health issues, if left neglected, will become more difficult to treat and recover. As such, there is a motivation to identify people who are potentially suffering from mental illness in order to encourage them to seek for social support or early medical treatment.\n",
    "\n",
    "This project aims to identify troubled individuals through their writing (e.g. social media posting) with the help of a NLP classifier model. To train and build such NLP classifier model, a large set of training data is required but unfortunately it is not readily available. As a novel approach, text based information from subreddits [r/MentalHealthUK](https://www.reddit.com/r/MentalHealthUK/) and [r/britishproblems](https://www.reddit.com/r/britishproblems/) will be scraped using pushshit API to produce the necessary data to train the NLP classifier model. Ideally, the NLP classifier model would become reliable in identifying individuals that are potentially suffering from mental issues from individual that are just complaining or ranting about issues. "
   ]
  },
  {
   "cell_type": "markdown",
   "id": "360affe4",
   "metadata": {},
   "source": [
    "# 2. Web scraping\n",
    "Pushshift API is used to scrap subreddits and the saved as cvs files. "
   ]
  },
  {
   "cell_type": "code",
   "execution_count": 1,
   "id": "6846a8a9",
   "metadata": {
    "execution": {
     "iopub.execute_input": "2022-01-16T05:35:58.110414Z",
     "iopub.status.busy": "2022-01-16T05:35:58.110209Z",
     "iopub.status.idle": "2022-01-16T05:36:04.806071Z",
     "shell.execute_reply": "2022-01-16T05:36:04.805750Z",
     "shell.execute_reply.started": "2022-01-16T05:35:58.110351Z"
    },
    "tags": []
   },
   "outputs": [],
   "source": [
    "#import libraries\n",
    "import requests\n",
    "import pandas as pd\n",
    "import numpy as np\n",
    "import matplotlib.pyplot as plt\n",
    "import seaborn as sns\n",
    "import time\n",
    "import datetime\n",
    "import re\n",
    "from nltk.tokenize import word_tokenize, RegexpTokenizer\n",
    "from nltk.stem import WordNetLemmatizer\n",
    "from nltk.corpus import stopwords\n",
    "from nltk.sentiment.vader import SentimentIntensityAnalyzer\n",
    "from sklearn.model_selection import train_test_split, GridSearchCV\n",
    "from sklearn.pipeline import Pipeline\n",
    "from sklearn.naive_bayes import MultinomialNB\n",
    "from sklearn.linear_model import LogisticRegression\n",
    "from sklearn.metrics import accuracy_score, confusion_matrix, classification_report, ConfusionMatrixDisplay, plot_roc_curve\n",
    "from sklearn.feature_extraction.text import CountVectorizer, TfidfVectorizer"
   ]
  },
  {
   "cell_type": "code",
   "execution_count": 2,
   "id": "ab6ad047-fa31-4b53-91b5-3e232e14b9e8",
   "metadata": {
    "execution": {
     "iopub.execute_input": "2022-01-16T05:36:04.806907Z",
     "iopub.status.busy": "2022-01-16T05:36:04.806761Z",
     "iopub.status.idle": "2022-01-16T05:36:04.813698Z",
     "shell.execute_reply": "2022-01-16T05:36:04.813393Z",
     "shell.execute_reply.started": "2022-01-16T05:36:04.806893Z"
    },
    "tags": []
   },
   "outputs": [],
   "source": [
    "#function to scrap subreddit\n",
    "def scrape_reddit(subreddit, time, size, num_of_posts):\n",
    "    \"\"\"Scrape subreddit and return dataframe with subreddit posts' information i.e. created_utc, title, selftext.\n",
    "    Function will drop posts selftext that are empty, removed, and deleted.\n",
    "\n",
    "    Keyword arguments:\n",
    "    subreddit -- string value of subreddit.\n",
    "    time -- data/time in epoch value. Scrap posts before this data/time.\n",
    "    size -- number of post per scrape. Max 100 posts per scrape.\n",
    "    num_of_posts -- required number posts to be scrapped.\n",
    "    \"\"\"\n",
    "\n",
    "    #create a empty dataframe \n",
    "    df = pd.DataFrame([],columns=['subreddit', 'created_utc', 'title', 'selftext'])\n",
    "\n",
    "    #define a while loop to scrape reddit \n",
    "    while True:\n",
    "        #params for API\n",
    "        params = {\n",
    "            'subreddit': subreddit,   #subreddit \n",
    "            'size': size,             #num of post per scrape \n",
    "            'before': time            #point of reference for scraping\n",
    "            }\n",
    "\n",
    "        #request information from pushshift API\n",
    "        res = requests.get('https://api.pushshift.io/reddit/search/submission', params)\n",
    "        \n",
    "        #save posts as df\n",
    "        posts_df = pd.DataFrame(res.json()['data'], columns=['subreddit', 'created_utc', 'title', 'selftext'])\n",
    "        \n",
    "        #drop empyt string in selftext\n",
    "        posts_df = posts_df.replace(r'^\\s*$', np.nan, regex=True)\n",
    "        posts_df.replace('[removed]',np.nan, inplace=True)\n",
    "        posts_df.replace('[deleted]',np.nan, inplace=True)\n",
    "        posts_df.dropna(inplace=True)\n",
    "        \n",
    "        #concatenate data and reassign time_ref value to new point of reference  \n",
    "        df = pd.concat([df, posts_df])\n",
    "        df.reset_index(drop=True, inplace=True)\n",
    "        time = posts_df.iloc[-1,1]\n",
    "        \n",
    "        #break the while-loop if scrapped enough posts \n",
    "        if len(df.index) >= num_of_posts:\n",
    "            break\n",
    "            \n",
    "    df = df.reset_index(drop=True)\n",
    "    \n",
    "    return df "
   ]
  },
  {
   "cell_type": "markdown",
   "id": "56cc2510-8fe2-4021-b3c7-a8b1bf43a2b8",
   "metadata": {},
   "source": [
    "## to uncomment"
   ]
  },
  {
   "cell_type": "code",
   "execution_count": 3,
   "id": "d895eeca-b4d3-4584-9f9d-24b28725b58b",
   "metadata": {
    "execution": {
     "iopub.execute_input": "2022-01-16T05:36:04.815558Z",
     "iopub.status.busy": "2022-01-16T05:36:04.815431Z",
     "iopub.status.idle": "2022-01-16T05:36:04.823345Z",
     "shell.execute_reply": "2022-01-16T05:36:04.822958Z",
     "shell.execute_reply.started": "2022-01-16T05:36:04.815544Z"
    },
    "tags": []
   },
   "outputs": [],
   "source": [
    "#reference date for data scraping\n",
    "dt = datetime.datetime(2022, 1, 12, 0, 0 ,0)    #YYYY-MM-DD-hh-mm-ss\n",
    "time_ref = int(time.mktime((dt.timetuple())))"
   ]
  },
  {
   "cell_type": "code",
   "execution_count": 4,
   "id": "6fa6bbb0-c50a-44e3-bdcf-c666cb1b72d6",
   "metadata": {
    "execution": {
     "iopub.execute_input": "2022-01-16T05:36:04.823999Z",
     "iopub.status.busy": "2022-01-16T05:36:04.823851Z",
     "iopub.status.idle": "2022-01-16T05:36:04.826511Z",
     "shell.execute_reply": "2022-01-16T05:36:04.826187Z",
     "shell.execute_reply.started": "2022-01-16T05:36:04.823986Z"
    },
    "tags": []
   },
   "outputs": [],
   "source": [
    "# #scrape subreddit and save as csv\n",
    "# df = scrape_reddit(subreddit='mentalhealthuk', time=time_ref, size=100, num_of_posts=1000)\n",
    "# df['created_utc'] = df['created_utc'].apply(lambda x: datetime.datetime.fromtimestamp(time.mktime(time.localtime(x))).strftime('%x %X'))\n",
    "# df.to_csv('../data/mentalhealthuk.csv',index=False)"
   ]
  },
  {
   "cell_type": "code",
   "execution_count": 5,
   "id": "b35875d3-a654-47d2-8a0e-1a4f48f9741f",
   "metadata": {
    "execution": {
     "iopub.execute_input": "2022-01-16T05:36:04.827215Z",
     "iopub.status.busy": "2022-01-16T05:36:04.827111Z",
     "iopub.status.idle": "2022-01-16T05:36:04.829291Z",
     "shell.execute_reply": "2022-01-16T05:36:04.828939Z",
     "shell.execute_reply.started": "2022-01-16T05:36:04.827202Z"
    },
    "tags": []
   },
   "outputs": [],
   "source": [
    "# #scrape subreddit and save as csv\n",
    "# df2 = scrape_reddit(subreddit='britishproblems', time=time_ref, size=100, num_of_posts=1000)\n",
    "# df2['created_utc'] = df2['created_utc'].apply(lambda x: datetime.datetime.fromtimestamp(time.mktime(time.localtime(x))).strftime('%x %X'))\n",
    "# df2.to_csv('../data/britishproblems.csv',index=False)"
   ]
  },
  {
   "cell_type": "markdown",
   "id": "bac2e542-85a4-4c42-aa80-46da671d45c2",
   "metadata": {},
   "source": [
    "# 3. Data Cleaning"
   ]
  },
  {
   "cell_type": "markdown",
   "id": "efcfc23d-a60f-4bb8-bdd9-26a14637a861",
   "metadata": {
    "tags": []
   },
   "source": [
    "### Inspect dataframes"
   ]
  },
  {
   "cell_type": "code",
   "execution_count": 6,
   "id": "f25715e0-abb2-4864-bd34-536bd4dfe0e4",
   "metadata": {
    "execution": {
     "iopub.execute_input": "2022-01-16T05:36:04.830054Z",
     "iopub.status.busy": "2022-01-16T05:36:04.829920Z",
     "iopub.status.idle": "2022-01-16T05:36:04.866719Z",
     "shell.execute_reply": "2022-01-16T05:36:04.866333Z",
     "shell.execute_reply.started": "2022-01-16T05:36:04.830041Z"
    },
    "tags": []
   },
   "outputs": [],
   "source": [
    "#import csv as dataframes \n",
    "mental = pd.read_csv('../data/mentalhealthuk.csv')\n",
    "problems = pd.read_csv('../data/britishproblems.csv')"
   ]
  },
  {
   "cell_type": "code",
   "execution_count": 7,
   "id": "cfce8dc6-98e6-4528-807a-2e4d2f816754",
   "metadata": {
    "execution": {
     "iopub.execute_input": "2022-01-16T05:36:04.867373Z",
     "iopub.status.busy": "2022-01-16T05:36:04.867277Z",
     "iopub.status.idle": "2022-01-16T05:36:04.883023Z",
     "shell.execute_reply": "2022-01-16T05:36:04.882732Z",
     "shell.execute_reply.started": "2022-01-16T05:36:04.867362Z"
    },
    "tags": []
   },
   "outputs": [
    {
     "data": {
      "text/html": [
       "<div>\n",
       "<style scoped>\n",
       "    .dataframe tbody tr th:only-of-type {\n",
       "        vertical-align: middle;\n",
       "    }\n",
       "\n",
       "    .dataframe tbody tr th {\n",
       "        vertical-align: top;\n",
       "    }\n",
       "\n",
       "    .dataframe thead th {\n",
       "        text-align: right;\n",
       "    }\n",
       "</style>\n",
       "<table border=\"1\" class=\"dataframe\">\n",
       "  <thead>\n",
       "    <tr style=\"text-align: right;\">\n",
       "      <th></th>\n",
       "      <th>subreddit</th>\n",
       "      <th>created_utc</th>\n",
       "      <th>title</th>\n",
       "      <th>selftext</th>\n",
       "    </tr>\n",
       "  </thead>\n",
       "  <tbody>\n",
       "    <tr>\n",
       "      <th>0</th>\n",
       "      <td>MentalHealthUK</td>\n",
       "      <td>01/11/22 22:03:11</td>\n",
       "      <td>I don't feel human, I feel more like an alien ...</td>\n",
       "      <td>Being autistic is a life sentenced, going thou...</td>\n",
       "    </tr>\n",
       "    <tr>\n",
       "      <th>1</th>\n",
       "      <td>MentalHealthUK</td>\n",
       "      <td>01/11/22 21:18:55</td>\n",
       "      <td>[Academic] 5HT7 study is looking for adults di...</td>\n",
       "      <td>We are looking for  **adults diagnosed with bi...</td>\n",
       "    </tr>\n",
       "    <tr>\n",
       "      <th>2</th>\n",
       "      <td>MentalHealthUK</td>\n",
       "      <td>01/11/22 19:36:48</td>\n",
       "      <td>Rejected Petition Advise</td>\n",
       "      <td>Hi, I posted on here a few days ago ([https://...</td>\n",
       "    </tr>\n",
       "    <tr>\n",
       "      <th>3</th>\n",
       "      <td>MentalHealthUK</td>\n",
       "      <td>01/11/22 08:44:06</td>\n",
       "      <td>Feels bar?</td>\n",
       "      <td>Feels bar has opened. Feel free to post here i...</td>\n",
       "    </tr>\n",
       "    <tr>\n",
       "      <th>4</th>\n",
       "      <td>MentalHealthUK</td>\n",
       "      <td>01/11/22 08:18:24</td>\n",
       "      <td>Severe OCD thoughts about simulated reality</td>\n",
       "      <td>\\n\\nWhat should I do? I have OCD but I can't ...</td>\n",
       "    </tr>\n",
       "  </tbody>\n",
       "</table>\n",
       "</div>"
      ],
      "text/plain": [
       "        subreddit        created_utc  \\\n",
       "0  MentalHealthUK  01/11/22 22:03:11   \n",
       "1  MentalHealthUK  01/11/22 21:18:55   \n",
       "2  MentalHealthUK  01/11/22 19:36:48   \n",
       "3  MentalHealthUK  01/11/22 08:44:06   \n",
       "4  MentalHealthUK  01/11/22 08:18:24   \n",
       "\n",
       "                                               title  \\\n",
       "0  I don't feel human, I feel more like an alien ...   \n",
       "1  [Academic] 5HT7 study is looking for adults di...   \n",
       "2                           Rejected Petition Advise   \n",
       "3                                         Feels bar?   \n",
       "4        Severe OCD thoughts about simulated reality   \n",
       "\n",
       "                                            selftext  \n",
       "0  Being autistic is a life sentenced, going thou...  \n",
       "1  We are looking for  **adults diagnosed with bi...  \n",
       "2  Hi, I posted on here a few days ago ([https://...  \n",
       "3  Feels bar has opened. Feel free to post here i...  \n",
       "4   \\n\\nWhat should I do? I have OCD but I can't ...  "
      ]
     },
     "metadata": {},
     "output_type": "display_data"
    },
    {
     "data": {
      "text/html": [
       "<div>\n",
       "<style scoped>\n",
       "    .dataframe tbody tr th:only-of-type {\n",
       "        vertical-align: middle;\n",
       "    }\n",
       "\n",
       "    .dataframe tbody tr th {\n",
       "        vertical-align: top;\n",
       "    }\n",
       "\n",
       "    .dataframe thead th {\n",
       "        text-align: right;\n",
       "    }\n",
       "</style>\n",
       "<table border=\"1\" class=\"dataframe\">\n",
       "  <thead>\n",
       "    <tr style=\"text-align: right;\">\n",
       "      <th></th>\n",
       "      <th>subreddit</th>\n",
       "      <th>created_utc</th>\n",
       "      <th>title</th>\n",
       "      <th>selftext</th>\n",
       "    </tr>\n",
       "  </thead>\n",
       "  <tbody>\n",
       "    <tr>\n",
       "      <th>0</th>\n",
       "      <td>britishproblems</td>\n",
       "      <td>01/11/22 23:40:37</td>\n",
       "      <td>Carbon Footprint. I hate the name, I hate the ...</td>\n",
       "      <td>Carbon isn't the problem, carbon, in it's blac...</td>\n",
       "    </tr>\n",
       "    <tr>\n",
       "      <th>1</th>\n",
       "      <td>britishproblems</td>\n",
       "      <td>01/11/22 23:35:42</td>\n",
       "      <td>Seeing women consistently being overlooked or ...</td>\n",
       "      <td>So my wife has just started going back to work...</td>\n",
       "    </tr>\n",
       "    <tr>\n",
       "      <th>2</th>\n",
       "      <td>britishproblems</td>\n",
       "      <td>01/11/22 22:15:09</td>\n",
       "      <td>Asking strangers to buy you a £900+ pet cage &amp;...</td>\n",
       "      <td>Boils my piss seeing this online!</td>\n",
       "    </tr>\n",
       "    <tr>\n",
       "      <th>3</th>\n",
       "      <td>britishproblems</td>\n",
       "      <td>01/11/22 21:46:08</td>\n",
       "      <td>Co op self checkout machines being so loud whi...</td>\n",
       "      <td>Plus you’re halfway through scanning your item...</td>\n",
       "    </tr>\n",
       "    <tr>\n",
       "      <th>4</th>\n",
       "      <td>britishproblems</td>\n",
       "      <td>01/11/22 21:40:25</td>\n",
       "      <td>Why Mobile Apps Will Play a Crucial Role in Ba...</td>\n",
       "      <td>With the rise of smartphones, mobile apps have...</td>\n",
       "    </tr>\n",
       "  </tbody>\n",
       "</table>\n",
       "</div>"
      ],
      "text/plain": [
       "         subreddit        created_utc  \\\n",
       "0  britishproblems  01/11/22 23:40:37   \n",
       "1  britishproblems  01/11/22 23:35:42   \n",
       "2  britishproblems  01/11/22 22:15:09   \n",
       "3  britishproblems  01/11/22 21:46:08   \n",
       "4  britishproblems  01/11/22 21:40:25   \n",
       "\n",
       "                                               title  \\\n",
       "0  Carbon Footprint. I hate the name, I hate the ...   \n",
       "1  Seeing women consistently being overlooked or ...   \n",
       "2  Asking strangers to buy you a £900+ pet cage &...   \n",
       "3  Co op self checkout machines being so loud whi...   \n",
       "4  Why Mobile Apps Will Play a Crucial Role in Ba...   \n",
       "\n",
       "                                            selftext  \n",
       "0  Carbon isn't the problem, carbon, in it's blac...  \n",
       "1  So my wife has just started going back to work...  \n",
       "2                  Boils my piss seeing this online!  \n",
       "3  Plus you’re halfway through scanning your item...  \n",
       "4  With the rise of smartphones, mobile apps have...  "
      ]
     },
     "metadata": {},
     "output_type": "display_data"
    }
   ],
   "source": [
    "#print top rows of dfs\n",
    "display(mental.head())\n",
    "display(problems.head())"
   ]
  },
  {
   "cell_type": "code",
   "execution_count": 8,
   "id": "eb467e4d-bcdb-4d6d-9f16-311be316735b",
   "metadata": {
    "execution": {
     "iopub.execute_input": "2022-01-16T05:36:04.883583Z",
     "iopub.status.busy": "2022-01-16T05:36:04.883499Z",
     "iopub.status.idle": "2022-01-16T05:36:04.891830Z",
     "shell.execute_reply": "2022-01-16T05:36:04.891531Z",
     "shell.execute_reply.started": "2022-01-16T05:36:04.883572Z"
    },
    "tags": []
   },
   "outputs": [
    {
     "data": {
      "text/html": [
       "<div>\n",
       "<style scoped>\n",
       "    .dataframe tbody tr th:only-of-type {\n",
       "        vertical-align: middle;\n",
       "    }\n",
       "\n",
       "    .dataframe tbody tr th {\n",
       "        vertical-align: top;\n",
       "    }\n",
       "\n",
       "    .dataframe thead th {\n",
       "        text-align: right;\n",
       "    }\n",
       "</style>\n",
       "<table border=\"1\" class=\"dataframe\">\n",
       "  <thead>\n",
       "    <tr style=\"text-align: right;\">\n",
       "      <th></th>\n",
       "      <th>subreddit</th>\n",
       "      <th>created_utc</th>\n",
       "      <th>title</th>\n",
       "      <th>selftext</th>\n",
       "    </tr>\n",
       "  </thead>\n",
       "  <tbody>\n",
       "    <tr>\n",
       "      <th>1009</th>\n",
       "      <td>MentalHealthUK</td>\n",
       "      <td>08/04/21 21:35:37</td>\n",
       "      <td>It's me again! (emergency appt in 3 weeks lady)</td>\n",
       "      <td>Feeling utterly, utterly awful. Bad tummy for...</td>\n",
       "    </tr>\n",
       "    <tr>\n",
       "      <th>1010</th>\n",
       "      <td>MentalHealthUK</td>\n",
       "      <td>08/04/21 14:58:18</td>\n",
       "      <td>Voice Hearing Experiences during the Menstrual...</td>\n",
       "      <td>&amp;amp;#x200B;\\n\\nhttps://preview.redd.it/vfwkj7...</td>\n",
       "    </tr>\n",
       "    <tr>\n",
       "      <th>1011</th>\n",
       "      <td>MentalHealthUK</td>\n",
       "      <td>08/04/21 05:21:41</td>\n",
       "      <td>Brain at the end of its tether with stress (pt...</td>\n",
       "      <td>Worn out in mental anguish. Thing is no matter...</td>\n",
       "    </tr>\n",
       "    <tr>\n",
       "      <th>1012</th>\n",
       "      <td>MentalHealthUK</td>\n",
       "      <td>08/04/21 04:35:10</td>\n",
       "      <td>Failed at therapy</td>\n",
       "      <td>I've now completed a six week course of CBT. I...</td>\n",
       "    </tr>\n",
       "    <tr>\n",
       "      <th>1013</th>\n",
       "      <td>MentalHealthUK</td>\n",
       "      <td>08/04/21 04:01:32</td>\n",
       "      <td>I’m in my head again</td>\n",
       "      <td>I’m here again! I don’t want to be here, I nee...</td>\n",
       "    </tr>\n",
       "  </tbody>\n",
       "</table>\n",
       "</div>"
      ],
      "text/plain": [
       "           subreddit        created_utc  \\\n",
       "1009  MentalHealthUK  08/04/21 21:35:37   \n",
       "1010  MentalHealthUK  08/04/21 14:58:18   \n",
       "1011  MentalHealthUK  08/04/21 05:21:41   \n",
       "1012  MentalHealthUK  08/04/21 04:35:10   \n",
       "1013  MentalHealthUK  08/04/21 04:01:32   \n",
       "\n",
       "                                                  title  \\\n",
       "1009    It's me again! (emergency appt in 3 weeks lady)   \n",
       "1010  Voice Hearing Experiences during the Menstrual...   \n",
       "1011  Brain at the end of its tether with stress (pt...   \n",
       "1012                                  Failed at therapy   \n",
       "1013                               I’m in my head again   \n",
       "\n",
       "                                               selftext  \n",
       "1009   Feeling utterly, utterly awful. Bad tummy for...  \n",
       "1010  &amp;#x200B;\\n\\nhttps://preview.redd.it/vfwkj7...  \n",
       "1011  Worn out in mental anguish. Thing is no matter...  \n",
       "1012  I've now completed a six week course of CBT. I...  \n",
       "1013  I’m here again! I don’t want to be here, I nee...  "
      ]
     },
     "metadata": {},
     "output_type": "display_data"
    },
    {
     "data": {
      "text/html": [
       "<div>\n",
       "<style scoped>\n",
       "    .dataframe tbody tr th:only-of-type {\n",
       "        vertical-align: middle;\n",
       "    }\n",
       "\n",
       "    .dataframe tbody tr th {\n",
       "        vertical-align: top;\n",
       "    }\n",
       "\n",
       "    .dataframe thead th {\n",
       "        text-align: right;\n",
       "    }\n",
       "</style>\n",
       "<table border=\"1\" class=\"dataframe\">\n",
       "  <thead>\n",
       "    <tr style=\"text-align: right;\">\n",
       "      <th></th>\n",
       "      <th>subreddit</th>\n",
       "      <th>created_utc</th>\n",
       "      <th>title</th>\n",
       "      <th>selftext</th>\n",
       "    </tr>\n",
       "  </thead>\n",
       "  <tbody>\n",
       "    <tr>\n",
       "      <th>1008</th>\n",
       "      <td>britishproblems</td>\n",
       "      <td>12/21/21 06:00:22</td>\n",
       "      <td>Sick and tired of working in hospitality when ...</td>\n",
       "      <td>Granted poop has kinda hit the fan, but trying...</td>\n",
       "    </tr>\n",
       "    <tr>\n",
       "      <th>1009</th>\n",
       "      <td>britishproblems</td>\n",
       "      <td>12/21/21 05:23:58</td>\n",
       "      <td>Greggs having the most unreliable QR code scan...</td>\n",
       "      <td>Trying to get a free sugar strand donut from O...</td>\n",
       "    </tr>\n",
       "    <tr>\n",
       "      <th>1010</th>\n",
       "      <td>britishproblems</td>\n",
       "      <td>12/21/21 05:18:33</td>\n",
       "      <td>The Beeb filming of the Household Cavalry ride...</td>\n",
       "      <td>The whole thing about the ride is how riders a...</td>\n",
       "    </tr>\n",
       "    <tr>\n",
       "      <th>1011</th>\n",
       "      <td>britishproblems</td>\n",
       "      <td>12/21/21 04:22:52</td>\n",
       "      <td>Just had to drive through Bradford because Goo...</td>\n",
       "      <td>Would gladly follow signs to my destination if...</td>\n",
       "    </tr>\n",
       "    <tr>\n",
       "      <th>1012</th>\n",
       "      <td>britishproblems</td>\n",
       "      <td>12/21/21 04:15:58</td>\n",
       "      <td>The postman you'd hitherto never spoken more t...</td>\n",
       "      <td>Now I'm agonising over whether he's expecting ...</td>\n",
       "    </tr>\n",
       "  </tbody>\n",
       "</table>\n",
       "</div>"
      ],
      "text/plain": [
       "            subreddit        created_utc  \\\n",
       "1008  britishproblems  12/21/21 06:00:22   \n",
       "1009  britishproblems  12/21/21 05:23:58   \n",
       "1010  britishproblems  12/21/21 05:18:33   \n",
       "1011  britishproblems  12/21/21 04:22:52   \n",
       "1012  britishproblems  12/21/21 04:15:58   \n",
       "\n",
       "                                                  title  \\\n",
       "1008  Sick and tired of working in hospitality when ...   \n",
       "1009  Greggs having the most unreliable QR code scan...   \n",
       "1010  The Beeb filming of the Household Cavalry ride...   \n",
       "1011  Just had to drive through Bradford because Goo...   \n",
       "1012  The postman you'd hitherto never spoken more t...   \n",
       "\n",
       "                                               selftext  \n",
       "1008  Granted poop has kinda hit the fan, but trying...  \n",
       "1009  Trying to get a free sugar strand donut from O...  \n",
       "1010  The whole thing about the ride is how riders a...  \n",
       "1011  Would gladly follow signs to my destination if...  \n",
       "1012  Now I'm agonising over whether he's expecting ...  "
      ]
     },
     "metadata": {},
     "output_type": "display_data"
    }
   ],
   "source": [
    "#print last rows of dfs\n",
    "display(mental.tail())\n",
    "display(problems.tail())"
   ]
  },
  {
   "cell_type": "code",
   "execution_count": 9,
   "id": "f52a58e3-0fd4-4fd3-976a-f2f82fa8e0dd",
   "metadata": {
    "execution": {
     "iopub.execute_input": "2022-01-16T05:36:04.892491Z",
     "iopub.status.busy": "2022-01-16T05:36:04.892397Z",
     "iopub.status.idle": "2022-01-16T05:36:04.895572Z",
     "shell.execute_reply": "2022-01-16T05:36:04.895288Z",
     "shell.execute_reply.started": "2022-01-16T05:36:04.892479Z"
    },
    "tags": []
   },
   "outputs": [
    {
     "name": "stdout",
     "output_type": "stream",
     "text": [
      "shape of mental df : (1014, 4)\n",
      "shape of problem df: (1013, 4)\n"
     ]
    }
   ],
   "source": [
    "#check the shape of dataframes\n",
    "print(f\"shape of mental df : {mental.shape}\")\n",
    "print(f\"shape of problem df: {problems.shape}\")"
   ]
  },
  {
   "cell_type": "code",
   "execution_count": 10,
   "id": "39bf4d64-f9a4-490a-9cf6-7a225f880bf1",
   "metadata": {
    "execution": {
     "iopub.execute_input": "2022-01-16T05:36:04.896181Z",
     "iopub.status.busy": "2022-01-16T05:36:04.896033Z",
     "iopub.status.idle": "2022-01-16T05:36:04.901962Z",
     "shell.execute_reply": "2022-01-16T05:36:04.901645Z",
     "shell.execute_reply.started": "2022-01-16T05:36:04.896168Z"
    },
    "tags": []
   },
   "outputs": [
    {
     "name": "stdout",
     "output_type": "stream",
     "text": [
      "Number of NaN in mental df : 0\n",
      "Number of NaN in problem df: 0\n"
     ]
    }
   ],
   "source": [
    "#check for NaN \n",
    "print(f'Number of NaN in mental df : {mental.isna().sum().sum()}')\n",
    "print(f'Number of NaN in problem df: {problems.isna().sum().sum()}')"
   ]
  },
  {
   "cell_type": "markdown",
   "id": "6b8efb9a-2130-49e6-b1c4-8cf8dbb2ec66",
   "metadata": {},
   "source": [
    "### Check for removed or deleted posts"
   ]
  },
  {
   "cell_type": "code",
   "execution_count": 11,
   "id": "3250f46f-f442-46fa-8824-6f350087d27b",
   "metadata": {
    "execution": {
     "iopub.execute_input": "2022-01-16T05:36:04.902611Z",
     "iopub.status.busy": "2022-01-16T05:36:04.902526Z",
     "iopub.status.idle": "2022-01-16T05:36:04.910021Z",
     "shell.execute_reply": "2022-01-16T05:36:04.909712Z",
     "shell.execute_reply.started": "2022-01-16T05:36:04.902599Z"
    },
    "tags": []
   },
   "outputs": [
    {
     "name": "stdout",
     "output_type": "stream",
     "text": [
      "Number of deleted in mental df:   0\n",
      "Number of removed in mental df:   0\n",
      "Number of deleted in problems df: 0\n",
      "Number of removed in problems df: 0\n"
     ]
    }
   ],
   "source": [
    "#check for '[removed]' and '[deleted]' posts in selftext\n",
    "print(f\"Number of deleted in mental df:   {len(mental[mental['selftext']=='[deleted]'])}\")\n",
    "print(f\"Number of removed in mental df:   {len(mental[mental['selftext']=='[removed]'])}\")\n",
    "\n",
    "print(f\"Number of deleted in problems df: {len(problems[problems['selftext']=='[deleted]'])}\")\n",
    "print(f\"Number of removed in problems df: {len(problems[problems['selftext']=='[removed]'])}\")"
   ]
  },
  {
   "cell_type": "markdown",
   "id": "b74788b0-a113-4c4e-b661-daa1491361cd",
   "metadata": {},
   "source": [
    "### Check for duplicates "
   ]
  },
  {
   "cell_type": "code",
   "execution_count": 12,
   "id": "1a9e3950-db8a-4dc2-8bff-5171d9ca4673",
   "metadata": {
    "execution": {
     "iopub.execute_input": "2022-01-16T05:36:04.913424Z",
     "iopub.status.busy": "2022-01-16T05:36:04.913268Z",
     "iopub.status.idle": "2022-01-16T05:36:04.926742Z",
     "shell.execute_reply": "2022-01-16T05:36:04.926392Z",
     "shell.execute_reply.started": "2022-01-16T05:36:04.913407Z"
    },
    "tags": []
   },
   "outputs": [
    {
     "name": "stdout",
     "output_type": "stream",
     "text": [
      "Number of duplicated posts in mental df:   29\n",
      "Number of duplicated posts in problems df: 5\n"
     ]
    }
   ],
   "source": [
    "#check for duplication \n",
    "print(f\"Number of duplicated posts in mental df:   {len(mental[mental.duplicated(subset='title')]) + len(mental[mental.duplicated(subset='selftext')])}\")\n",
    "print(f\"Number of duplicated posts in problems df: {len(problems[problems.duplicated(subset='title')]) + len(problems[problems.duplicated(subset='selftext')])}\")"
   ]
  },
  {
   "cell_type": "code",
   "execution_count": 13,
   "id": "a2be7d1c-2628-4306-9951-66b11fd38613",
   "metadata": {
    "execution": {
     "iopub.execute_input": "2022-01-16T05:36:04.927376Z",
     "iopub.status.busy": "2022-01-16T05:36:04.927278Z",
     "iopub.status.idle": "2022-01-16T05:36:04.938242Z",
     "shell.execute_reply": "2022-01-16T05:36:04.937823Z",
     "shell.execute_reply.started": "2022-01-16T05:36:04.927364Z"
    },
    "tags": []
   },
   "outputs": [],
   "source": [
    "#remove duplicates\n",
    "mental.drop_duplicates(subset='title', inplace=True)\n",
    "mental.drop_duplicates(subset='selftext', inplace=True)\n",
    "problems.drop_duplicates(subset='title', inplace=True)\n",
    "problems.drop_duplicates(subset='selftext', inplace=True)"
   ]
  },
  {
   "cell_type": "code",
   "execution_count": 14,
   "id": "aa788e9b-8d54-435d-aea9-275c1c8966a9",
   "metadata": {
    "execution": {
     "iopub.execute_input": "2022-01-16T05:36:04.939215Z",
     "iopub.status.busy": "2022-01-16T05:36:04.939109Z",
     "iopub.status.idle": "2022-01-16T05:36:04.949107Z",
     "shell.execute_reply": "2022-01-16T05:36:04.948741Z",
     "shell.execute_reply.started": "2022-01-16T05:36:04.939201Z"
    },
    "tags": []
   },
   "outputs": [
    {
     "name": "stdout",
     "output_type": "stream",
     "text": [
      "Number of duplicated posts in mental df:   0\n",
      "Number of duplicated posts in problems df: 0\n"
     ]
    }
   ],
   "source": [
    "#check for duplication \n",
    "print(f\"Number of duplicated posts in mental df:   {len(mental[mental.duplicated(subset='title')]) + len(mental[mental.duplicated(subset='selftext')])}\")\n",
    "print(f\"Number of duplicated posts in problems df: {len(problems[problems.duplicated(subset='title')]) + len(problems[problems.duplicated(subset='selftext')])}\")"
   ]
  },
  {
   "cell_type": "code",
   "execution_count": 15,
   "id": "930b5fcd-9c5f-46ee-b7bc-d39dfb459d13",
   "metadata": {
    "execution": {
     "iopub.execute_input": "2022-01-16T05:36:04.949871Z",
     "iopub.status.busy": "2022-01-16T05:36:04.949750Z",
     "iopub.status.idle": "2022-01-16T05:36:04.952308Z",
     "shell.execute_reply": "2022-01-16T05:36:04.951808Z",
     "shell.execute_reply.started": "2022-01-16T05:36:04.949858Z"
    },
    "tags": []
   },
   "outputs": [
    {
     "name": "stdout",
     "output_type": "stream",
     "text": [
      "shape of mental df:  (993, 4)\n",
      "shape of problem df: (1009, 4)\n"
     ]
    }
   ],
   "source": [
    "#check the shape of dataframes\n",
    "print(f\"shape of mental df:  {mental.shape}\")\n",
    "print(f\"shape of problem df: {problems.shape}\")"
   ]
  },
  {
   "cell_type": "markdown",
   "id": "fd6dee50-55b9-478b-a876-e361e8db435b",
   "metadata": {
    "execution": {
     "iopub.execute_input": "2022-01-14T08:12:20.722706Z",
     "iopub.status.busy": "2022-01-14T08:12:20.720159Z",
     "iopub.status.idle": "2022-01-14T08:12:20.738725Z",
     "shell.execute_reply": "2022-01-14T08:12:20.737597Z",
     "shell.execute_reply.started": "2022-01-14T08:12:20.722614Z"
    }
   },
   "source": [
    "### Remove URLs text"
   ]
  },
  {
   "cell_type": "code",
   "execution_count": 16,
   "id": "b2fd12c5-c069-4035-9dc7-f5b228786907",
   "metadata": {
    "execution": {
     "iopub.execute_input": "2022-01-16T05:36:04.953002Z",
     "iopub.status.busy": "2022-01-16T05:36:04.952908Z",
     "iopub.status.idle": "2022-01-16T05:36:04.963340Z",
     "shell.execute_reply": "2022-01-16T05:36:04.962982Z",
     "shell.execute_reply.started": "2022-01-16T05:36:04.952989Z"
    },
    "tags": []
   },
   "outputs": [],
   "source": [
    "#remove string that is basically a URL link\n",
    "mental['title'] = mental['title'].apply(lambda x: re.sub(r'http\\S+', '', x))\n",
    "mental['selftext'] = mental['selftext'].apply(lambda x: re.sub(r'http\\S+', '', x))\n",
    "\n",
    "problems['title'] = problems['title'].apply(lambda x: re.sub(r'http\\S+', '', x))\n",
    "problems['selftext'] = problems['selftext'].apply(lambda x: re.sub(r'http\\S+', '', x))"
   ]
  },
  {
   "cell_type": "markdown",
   "id": "1807abb9-2227-49bc-954e-be94b457258f",
   "metadata": {},
   "source": [
    "### Remove subreddit topic from title and selftext"
   ]
  },
  {
   "cell_type": "code",
   "execution_count": 17,
   "id": "8521571c-841a-4e09-8d1c-d9acb34f85a8",
   "metadata": {
    "execution": {
     "iopub.execute_input": "2022-01-16T05:36:04.964059Z",
     "iopub.status.busy": "2022-01-16T05:36:04.963958Z",
     "iopub.status.idle": "2022-01-16T05:36:05.015385Z",
     "shell.execute_reply": "2022-01-16T05:36:05.015032Z",
     "shell.execute_reply.started": "2022-01-16T05:36:04.964047Z"
    },
    "tags": []
   },
   "outputs": [],
   "source": [
    "#remove subreddit topic from title and selftext\n",
    "mental['title'] = mental['title'].apply(lambda x: re.sub(r'mental|health|uk', '', x, flags=re.IGNORECASE))\n",
    "mental['selftext'] = mental['selftext'].apply(lambda x: re.sub(r'mental|health|uk', '', x, flags=re.IGNORECASE))\n",
    "\n",
    "problems['title'] = problems['title'].apply(lambda x: re.sub(r'british|problems', '', x, flags=re.IGNORECASE))\n",
    "problems['selftext'] = problems['selftext'].apply(lambda x: re.sub(r'british|problems', '', x, flags=re.IGNORECASE))"
   ]
  },
  {
   "cell_type": "markdown",
   "id": "7ed0fc55-cfbc-4ecc-a675-2502313c8066",
   "metadata": {},
   "source": [
    "### Data wrangling"
   ]
  },
  {
   "cell_type": "code",
   "execution_count": 18,
   "id": "6c8787bd-c74a-471c-a9e9-60fa68aff548",
   "metadata": {
    "execution": {
     "iopub.execute_input": "2022-01-16T05:36:05.016008Z",
     "iopub.status.busy": "2022-01-16T05:36:05.015921Z",
     "iopub.status.idle": "2022-01-16T05:36:05.024859Z",
     "shell.execute_reply": "2022-01-16T05:36:05.024449Z",
     "shell.execute_reply.started": "2022-01-16T05:36:05.015996Z"
    },
    "tags": []
   },
   "outputs": [],
   "source": [
    "#merge title and selftext\n",
    "mental['combined_text'] = mental['title'] + ' ' + mental['selftext']\n",
    "problems['combined_text'] = problems['title'] + ' ' + problems['selftext']\n",
    "\n",
    "#merge both dataframes and drop irrelavant columns\n",
    "mental_prob = pd.concat([mental, problems])\n",
    "mental_prob = mental_prob[['subreddit', 'combined_text']]\n",
    "mental_prob.reset_index(drop=True, inplace=True)"
   ]
  },
  {
   "cell_type": "code",
   "execution_count": 19,
   "id": "12557319-cbf6-427a-aa6e-7d31ae38e2a5",
   "metadata": {
    "execution": {
     "iopub.execute_input": "2022-01-16T05:36:05.025613Z",
     "iopub.status.busy": "2022-01-16T05:36:05.025510Z",
     "iopub.status.idle": "2022-01-16T05:36:05.029261Z",
     "shell.execute_reply": "2022-01-16T05:36:05.028934Z",
     "shell.execute_reply.started": "2022-01-16T05:36:05.025600Z"
    },
    "tags": []
   },
   "outputs": [
    {
     "data": {
      "text/plain": [
       "(2002, 2)"
      ]
     },
     "execution_count": 19,
     "metadata": {},
     "output_type": "execute_result"
    }
   ],
   "source": [
    "#check shape of dataframe\n",
    "mental_prob.shape"
   ]
  },
  {
   "cell_type": "code",
   "execution_count": 20,
   "id": "64ad54e7-03e3-4576-9a39-cd7b23fad6ea",
   "metadata": {
    "execution": {
     "iopub.execute_input": "2022-01-16T05:36:05.030051Z",
     "iopub.status.busy": "2022-01-16T05:36:05.029836Z",
     "iopub.status.idle": "2022-01-16T05:36:05.058726Z",
     "shell.execute_reply": "2022-01-16T05:36:05.058389Z",
     "shell.execute_reply.started": "2022-01-16T05:36:05.030037Z"
    },
    "tags": []
   },
   "outputs": [],
   "source": [
    "#export df as csv\n",
    "mental_prob.to_csv('../data/mental_prob.csv', index=False)"
   ]
  },
  {
   "cell_type": "markdown",
   "id": "887a3367-2d7c-4ecd-bffe-c47cc459ed8e",
   "metadata": {
    "tags": []
   },
   "source": [
    "# 4. EDA"
   ]
  },
  {
   "cell_type": "markdown",
   "id": "e1785b3e-df3d-489e-ad1b-94bede0269c0",
   "metadata": {},
   "source": [
    "### Word frequency exploration"
   ]
  },
  {
   "cell_type": "code",
   "execution_count": 21,
   "id": "a3a012cf-f8e8-4f6f-95d5-64587431f9ec",
   "metadata": {
    "execution": {
     "iopub.execute_input": "2022-01-16T05:36:05.059347Z",
     "iopub.status.busy": "2022-01-16T05:36:05.059261Z",
     "iopub.status.idle": "2022-01-16T05:36:05.064037Z",
     "shell.execute_reply": "2022-01-16T05:36:05.063622Z",
     "shell.execute_reply.started": "2022-01-16T05:36:05.059334Z"
    },
    "tags": []
   },
   "outputs": [],
   "source": [
    "#compute word frequency\n",
    "def word_freq(series, top_nrow):\n",
    "    \"\"\"Compute the frequency word and return as dataframe. Function lematize\n",
    "    and exclude stopwords.\n",
    "\n",
    "    Keyword arguments:\n",
    "    series -- input as pd series e.g. df['column']\n",
    "    top_nrow -- set number of rows to be return\n",
    "    \"\"\"\n",
    "    #instantiate word lemmatizer and tokenizer\n",
    "    \n",
    "    lemmatizer = WordNetLemmatizer()\n",
    "    tokenizer = RegexpTokenizer(r'\\w+') \n",
    "    \n",
    "    #create empty dic to hold result\n",
    "    dic = {}\n",
    "    \n",
    "    #loop through each string text in the dataframe/ series and store the\n",
    "    #count in the empty dic\n",
    "    for string in series:\n",
    "        for word in tokenizer.tokenize(string.lower()):\n",
    "            word = lemmatizer.lemmatize(word)\n",
    "            if word not in dic:\n",
    "                if word not in stopwords.words('english'):\n",
    "                    dic[word] = 1\n",
    "            if word in dic:\n",
    "                dic[word] += 1\n",
    "                \n",
    "    #store result in dataframe and sort highest occuring word first \n",
    "    df = pd.DataFrame(data= list(dic.items()),columns=['word', 'frequency'])\n",
    "    df = df.sort_values(by='frequency', ascending=False)\n",
    "    df.reset_index(drop=True, inplace=True)\n",
    "    return df.head(top_nrow)"
   ]
  },
  {
   "cell_type": "code",
   "execution_count": 22,
   "id": "de1873bc-c760-47a0-909e-84707a9ec845",
   "metadata": {
    "execution": {
     "iopub.execute_input": "2022-01-16T05:36:05.064720Z",
     "iopub.status.busy": "2022-01-16T05:36:05.064630Z",
     "iopub.status.idle": "2022-01-16T05:36:19.764979Z",
     "shell.execute_reply": "2022-01-16T05:36:19.764677Z",
     "shell.execute_reply.started": "2022-01-16T05:36:05.064708Z"
    },
    "scrolled": true,
    "tags": []
   },
   "outputs": [
    {
     "data": {
      "image/png": "[encoded data removed]",
      "text/plain": [
       "<Figure size 864x1440 with 2 Axes>"
      ]
     },
     "metadata": {
      "needs_background": "light"
     },
     "output_type": "display_data"
    }
   ],
   "source": [
    "#plot word frequency distribution\n",
    "fig, ax = plt.subplots(nrows=1, ncols=2, figsize=(12, 20))\n",
    "sns.barplot(x='frequency',y='word', data=word_freq(mental['combined_text'], 88), ax=ax[0])\n",
    "sns.barplot(x='frequency',y='word', data=word_freq(problems['combined_text'], 88), ax=ax[1])\n",
    "ax[0].set_title('r/MentalHealthUK')\n",
    "ax[1].set_title('r/britishproblems')\n",
    "plt.tight_layout();"
   ]
  },
  {
   "cell_type": "markdown",
   "id": "232eeeb5-5010-4c72-9d40-325d0631b877",
   "metadata": {
    "tags": []
   },
   "source": [
    "### Sentiment analysis"
   ]
  },
  {
   "cell_type": "code",
   "execution_count": 23,
   "id": "77370e90-afbe-4575-98cf-6af8fa7d94e7",
   "metadata": {
    "execution": {
     "iopub.execute_input": "2022-01-16T05:36:19.765643Z",
     "iopub.status.busy": "2022-01-16T05:36:19.765561Z",
     "iopub.status.idle": "2022-01-16T05:36:27.647989Z",
     "shell.execute_reply": "2022-01-16T05:36:27.647694Z",
     "shell.execute_reply.started": "2022-01-16T05:36:19.765632Z"
    },
    "tags": []
   },
   "outputs": [],
   "source": [
    "# Instantiate Sentiment Intensity Analyzer\n",
    "sent = SentimentIntensityAnalyzer()\n",
    "\n",
    "#compute sentiment score and append to dataframe\n",
    "for senti in ['neg', 'neu', 'pos', 'compound']:\n",
    "    mental[senti] = mental['combined_text'].apply(lambda x: sent.polarity_scores(x)[senti])\n",
    "    problems[senti] = problems['combined_text'].apply(lambda x: sent.polarity_scores(x)[senti])"
   ]
  },
  {
   "cell_type": "code",
   "execution_count": 24,
   "id": "e557945c-869c-4a14-a8e7-9901df91c4b1",
   "metadata": {
    "execution": {
     "iopub.execute_input": "2022-01-16T05:36:27.648601Z",
     "iopub.status.busy": "2022-01-16T05:36:27.648512Z",
     "iopub.status.idle": "2022-01-16T05:36:27.654043Z",
     "shell.execute_reply": "2022-01-16T05:36:27.653739Z",
     "shell.execute_reply.started": "2022-01-16T05:36:27.648590Z"
    },
    "tags": []
   },
   "outputs": [
    {
     "name": "stdout",
     "output_type": "stream",
     "text": [
      "mental mean neg sentiment score : 0.11765861027190333\n",
      "problem mean neg sentiment score: 0.09087512388503469\n",
      "==========================\n",
      "mental mean neu sentiment score : 0.7733544813695872\n",
      "problem mean neu sentiment score: 0.8251080277502477\n",
      "==========================\n",
      "mental mean pos sentiment score : 0.10898791540785498\n",
      "problem mean pos sentiment score: 0.08402180376610505\n",
      "==========================\n",
      "mental mean compound sentiment score : -0.11797432024169185\n",
      "problem mean compound sentiment score: -0.03179910802775025\n",
      "==========================\n",
      "\n",
      "\n",
      "mental std for neg sentiment score : 0.07955242279568538\n",
      "problem std for neg sentiment score: 0.08151087098601222\n",
      "==========================\n",
      "mental std for neu sentiment score : 0.09004614197193651\n",
      "problem std for neu sentiment score: 0.10505565052540815\n",
      "==========================\n",
      "mental std for pos sentiment score : 0.06796994306505656\n",
      "problem std for pos sentiment score: 0.08015826062450691\n",
      "==========================\n",
      "mental std for compound sentiment score : 0.8036303591630385\n",
      "problem std for compound sentiment score: 0.5588304805229446\n",
      "==========================\n"
     ]
    }
   ],
   "source": [
    "#print mean sentiment scores and standard deviation \n",
    "for senti in ['neg', 'neu', 'pos', 'compound']:\n",
    "    print(f'mental mean {senti} sentiment score : {mental[senti].mean()}')\n",
    "    print(f'problem mean {senti} sentiment score: {problems[senti].mean()}')\n",
    "    print('==========================')\n",
    "print('\\n')\n",
    "for senti in ['neg', 'neu', 'pos', 'compound']:\n",
    "    print(f'mental std for {senti} sentiment score : {mental[senti].std()}')\n",
    "    print(f'problem std for {senti} sentiment score: {problems[senti].std()}')\n",
    "    print('==========================')"
   ]
  },
  {
   "cell_type": "markdown",
   "id": "5549ed21-e9af-4da2-80e5-e1e29785e3e9",
   "metadata": {},
   "source": [
    "# 5. Preprocessing"
   ]
  },
  {
   "cell_type": "code",
   "execution_count": 25,
   "id": "36ff3514-3453-4218-9b17-fd12074bf061",
   "metadata": {
    "execution": {
     "iopub.execute_input": "2022-01-16T05:36:27.654617Z",
     "iopub.status.busy": "2022-01-16T05:36:27.654538Z",
     "iopub.status.idle": "2022-01-16T05:36:27.657990Z",
     "shell.execute_reply": "2022-01-16T05:36:27.657733Z",
     "shell.execute_reply.started": "2022-01-16T05:36:27.654606Z"
    },
    "tags": []
   },
   "outputs": [],
   "source": [
    "#encode subreddit column\n",
    "mental_prob['subreddit'].replace({'MentalHealthUK':1, 'britishproblems':0}, inplace=True)"
   ]
  },
  {
   "cell_type": "code",
   "execution_count": 26,
   "id": "447058d6-7721-4c3f-b85b-f446dcf3d771",
   "metadata": {
    "execution": {
     "iopub.execute_input": "2022-01-16T05:36:27.658592Z",
     "iopub.status.busy": "2022-01-16T05:36:27.658510Z",
     "iopub.status.idle": "2022-01-16T05:36:27.660526Z",
     "shell.execute_reply": "2022-01-16T05:36:27.660113Z",
     "shell.execute_reply.started": "2022-01-16T05:36:27.658581Z"
    },
    "tags": []
   },
   "outputs": [],
   "source": [
    "#create target vector and feature vector\n",
    "X = mental_prob['combined_text']\n",
    "y = mental_prob['subreddit']"
   ]
  },
  {
   "cell_type": "code",
   "execution_count": 27,
   "id": "8ed4b7b2-128b-4de3-9597-cdf016ba01b3",
   "metadata": {
    "execution": {
     "iopub.execute_input": "2022-01-16T05:36:27.661189Z",
     "iopub.status.busy": "2022-01-16T05:36:27.661073Z",
     "iopub.status.idle": "2022-01-16T05:36:27.667971Z",
     "shell.execute_reply": "2022-01-16T05:36:27.667236Z",
     "shell.execute_reply.started": "2022-01-16T05:36:27.661171Z"
    },
    "tags": []
   },
   "outputs": [
    {
     "data": {
      "text/plain": [
       "0    0.503996\n",
       "1    0.496004\n",
       "Name: subreddit, dtype: float64"
      ]
     },
     "execution_count": 27,
     "metadata": {},
     "output_type": "execute_result"
    }
   ],
   "source": [
    "#check baseline score\n",
    "y.value_counts(normalize=True)"
   ]
  },
  {
   "cell_type": "code",
   "execution_count": 28,
   "id": "a298ad2e-1f82-4ffc-a927-0052827c9804",
   "metadata": {
    "execution": {
     "iopub.execute_input": "2022-01-16T05:36:27.669032Z",
     "iopub.status.busy": "2022-01-16T05:36:27.668919Z",
     "iopub.status.idle": "2022-01-16T05:36:27.676107Z",
     "shell.execute_reply": "2022-01-16T05:36:27.675649Z",
     "shell.execute_reply.started": "2022-01-16T05:36:27.669019Z"
    },
    "tags": []
   },
   "outputs": [],
   "source": [
    "#split the training and test data\n",
    "X_train, X_test, y_train, y_test = train_test_split(X,\n",
    "                                                    y,\n",
    "                                                    stratify=y,\n",
    "                                                    random_state=42)"
   ]
  },
  {
   "cell_type": "code",
   "execution_count": 29,
   "id": "b5da5282-fee9-4f02-af4a-cef1f7e74667",
   "metadata": {
    "execution": {
     "iopub.execute_input": "2022-01-16T05:36:27.676845Z",
     "iopub.status.busy": "2022-01-16T05:36:27.676744Z",
     "iopub.status.idle": "2022-01-16T05:36:27.680040Z",
     "shell.execute_reply": "2022-01-16T05:36:27.679417Z",
     "shell.execute_reply.started": "2022-01-16T05:36:27.676832Z"
    },
    "tags": []
   },
   "outputs": [],
   "source": [
    "# Instantiate a CountVectorizer.\n",
    "cvec = CountVectorizer(stop_words='english')"
   ]
  },
  {
   "cell_type": "code",
   "execution_count": 30,
   "id": "f6d7f719-96a1-4527-9759-c698e1f1b330",
   "metadata": {
    "execution": {
     "iopub.execute_input": "2022-01-16T05:36:27.680774Z",
     "iopub.status.busy": "2022-01-16T05:36:27.680628Z",
     "iopub.status.idle": "2022-01-16T05:36:27.815862Z",
     "shell.execute_reply": "2022-01-16T05:36:27.815467Z",
     "shell.execute_reply.started": "2022-01-16T05:36:27.680760Z"
    }
   },
   "outputs": [],
   "source": [
    "# Fit the vectorizer\n",
    "X_train_t = cvec.fit_transform(X_train)\n",
    "X_test_t = cvec.transform(X_test)"
   ]
  },
  {
   "cell_type": "code",
   "execution_count": 31,
   "id": "849bd045-f992-46f2-9189-ad45307cc14e",
   "metadata": {
    "execution": {
     "iopub.execute_input": "2022-01-16T05:36:27.816637Z",
     "iopub.status.busy": "2022-01-16T05:36:27.816542Z",
     "iopub.status.idle": "2022-01-16T05:36:28.021508Z",
     "shell.execute_reply": "2022-01-16T05:36:28.021002Z",
     "shell.execute_reply.started": "2022-01-16T05:36:27.816625Z"
    },
    "tags": []
   },
   "outputs": [
    {
     "data": {
      "image/png": "[encoded data removed]",
      "text/plain": [
       "<Figure size 576x288 with 1 Axes>"
      ]
     },
     "metadata": {
      "needs_background": "light"
     },
     "output_type": "display_data"
    }
   ],
   "source": [
    "X_train_df_t = pd.DataFrame(X_train_t.todense(), columns=cvec.get_feature_names_out())\n",
    "\n",
    "\n",
    "fig, ax = plt.subplots(figsize=(8, 4))\n",
    "sns.barplot(x=X_train_df_t.sum().sort_values(ascending=False).head(20).values, \n",
    "            y=X_train_df_t.sum().sort_values(ascending=False).head(20).index)\n",
    "ax.set_title('frequent words in testing df')\n",
    "plt.tight_layout();"
   ]
  },
  {
   "cell_type": "code",
   "execution_count": 32,
   "id": "b85286e1-8116-43b2-92ba-f37153982d21",
   "metadata": {
    "execution": {
     "iopub.execute_input": "2022-01-16T05:36:28.022219Z",
     "iopub.status.busy": "2022-01-16T05:36:28.022129Z",
     "iopub.status.idle": "2022-01-16T05:36:28.026073Z",
     "shell.execute_reply": "2022-01-16T05:36:28.025342Z",
     "shell.execute_reply.started": "2022-01-16T05:36:28.022207Z"
    },
    "tags": []
   },
   "outputs": [
    {
     "data": {
      "text/plain": [
       "(1501, 10535)"
      ]
     },
     "execution_count": 32,
     "metadata": {},
     "output_type": "execute_result"
    }
   ],
   "source": [
    "X_train_t.shape"
   ]
  },
  {
   "cell_type": "code",
   "execution_count": 33,
   "id": "d3063c8c-bfe1-4e71-b725-327cc67a72a2",
   "metadata": {
    "execution": {
     "iopub.execute_input": "2022-01-16T05:36:28.027240Z",
     "iopub.status.busy": "2022-01-16T05:36:28.027124Z",
     "iopub.status.idle": "2022-01-16T05:36:28.030261Z",
     "shell.execute_reply": "2022-01-16T05:36:28.029884Z",
     "shell.execute_reply.started": "2022-01-16T05:36:28.027226Z"
    },
    "tags": []
   },
   "outputs": [
    {
     "data": {
      "text/plain": [
       "(501, 10535)"
      ]
     },
     "execution_count": 33,
     "metadata": {},
     "output_type": "execute_result"
    }
   ],
   "source": [
    "X_test_t.shape"
   ]
  },
  {
   "cell_type": "markdown",
   "id": "b195d923-63c1-413d-931f-c86630ae3784",
   "metadata": {},
   "source": [
    "# Modelling"
   ]
  },
  {
   "cell_type": "markdown",
   "id": "53767a2a-6427-4bcd-84c9-2c54b38ed307",
   "metadata": {},
   "source": [
    "#### Grid search"
   ]
  },
  {
   "cell_type": "markdown",
   "id": "db97366a-5847-4cfb-9665-e439bef4626f",
   "metadata": {},
   "source": [
    "Count vectorizer, \n",
    "Multinomial Naive Bayes "
   ]
  },
  {
   "cell_type": "code",
   "execution_count": 34,
   "id": "a57e31fb-f74d-4f29-8578-f96ede38903d",
   "metadata": {
    "execution": {
     "iopub.execute_input": "2022-01-16T05:36:28.031236Z",
     "iopub.status.busy": "2022-01-16T05:36:28.031106Z",
     "iopub.status.idle": "2022-01-16T05:38:55.454137Z",
     "shell.execute_reply": "2022-01-16T05:38:55.453811Z",
     "shell.execute_reply.started": "2022-01-16T05:36:28.031220Z"
    },
    "tags": []
   },
   "outputs": [
    {
     "name": "stderr",
     "output_type": "stream",
     "text": [
      "/opt/anaconda3/lib/python3.8/site-packages/joblib/externals/loky/process_executor.py:702: UserWarning: A worker stopped while some jobs were given to the executor. This can be caused by a too short worker timeout or by a memory leak.\n",
      "  warnings.warn(\n"
     ]
    },
    {
     "data": {
      "text/plain": [
       "GridSearchCV(cv=10,\n",
       "             estimator=Pipeline(steps=[('cvec', CountVectorizer()),\n",
       "                                       ('nb', MultinomialNB())]),\n",
       "             n_jobs=2,\n",
       "             param_grid={'cvec__max_df': [0.9, 0.95],\n",
       "                         'cvec__max_features': [2000, 3000, 4000, 5000],\n",
       "                         'cvec__min_df': [2, 3],\n",
       "                         'cvec__ngram_range': [(1, 1), (1, 2)],\n",
       "                         'cvec__stop_words': [None, 'english'],\n",
       "                         'nb__fit_prior': [False, True]},\n",
       "             scoring='recall')"
      ]
     },
     "execution_count": 34,
     "metadata": {},
     "output_type": "execute_result"
    }
   ],
   "source": [
    "#create pipeline\n",
    "pipe = Pipeline([\n",
    "    ('cvec', CountVectorizer()),\n",
    "    ('nb', MultinomialNB())\n",
    "])\n",
    "\n",
    "#setup pipeline parameters\n",
    "pipe_params = {\n",
    "    'cvec__max_features': [2000, 3000, 4000, 5000],\n",
    "    'cvec__stop_words': [None, 'english'],\n",
    "    'cvec__min_df': [2,3],\n",
    "    'cvec__max_df': [.9,.95],\n",
    "    'cvec__ngram_range': [(1,1), (1,2)],\n",
    "    'nb__fit_prior': [False, True]\n",
    "}\n",
    "\n",
    "#instantiate grid search cross validation \n",
    "gs = GridSearchCV(pipe, pipe_params, cv=10, scoring='recall', n_jobs=2)\n",
    "\n",
    "#fit grid search\n",
    "gs.fit(X_train, y_train)"
   ]
  },
  {
   "cell_type": "code",
   "execution_count": 35,
   "id": "d53e0df3-56ed-4281-8d09-a4765669549b",
   "metadata": {
    "execution": {
     "iopub.execute_input": "2022-01-16T05:38:55.455102Z",
     "iopub.status.busy": "2022-01-16T05:38:55.454970Z",
     "iopub.status.idle": "2022-01-16T05:38:55.457611Z",
     "shell.execute_reply": "2022-01-16T05:38:55.457288Z",
     "shell.execute_reply.started": "2022-01-16T05:38:55.455086Z"
    },
    "tags": []
   },
   "outputs": [
    {
     "name": "stdout",
     "output_type": "stream",
     "text": [
      "best parameters through grid search:\n",
      "cvec__max_df: 0.9\n",
      "cvec__max_features: 5000\n",
      "cvec__min_df: 2\n",
      "cvec__ngram_range: (1, 1)\n",
      "cvec__stop_words: None\n",
      "nb__fit_prior: False\n"
     ]
    }
   ],
   "source": [
    "#print the best parameters \n",
    "print(\"best parameters through grid search:\")\n",
    "for i, j in gs.best_params_.items(): \n",
    "    print(f\"{i}: {j}\") "
   ]
  },
  {
   "cell_type": "code",
   "execution_count": 36,
   "id": "4b2a2077-9979-4f24-ac85-160dbf20685c",
   "metadata": {
    "execution": {
     "iopub.execute_input": "2022-01-16T05:38:55.458416Z",
     "iopub.status.busy": "2022-01-16T05:38:55.458231Z",
     "iopub.status.idle": "2022-01-16T05:38:55.465330Z",
     "shell.execute_reply": "2022-01-16T05:38:55.465017Z",
     "shell.execute_reply.started": "2022-01-16T05:38:55.458403Z"
    },
    "scrolled": true,
    "tags": []
   },
   "outputs": [
    {
     "data": {
      "text/plain": [
       "0      {'cvec__max_df': 0.9, 'cvec__max_features': 20...\n",
       "1      {'cvec__max_df': 0.9, 'cvec__max_features': 20...\n",
       "2      {'cvec__max_df': 0.9, 'cvec__max_features': 20...\n",
       "3      {'cvec__max_df': 0.9, 'cvec__max_features': 20...\n",
       "4      {'cvec__max_df': 0.9, 'cvec__max_features': 20...\n",
       "                             ...                        \n",
       "123    {'cvec__max_df': 0.95, 'cvec__max_features': 5...\n",
       "124    {'cvec__max_df': 0.95, 'cvec__max_features': 5...\n",
       "125    {'cvec__max_df': 0.95, 'cvec__max_features': 5...\n",
       "126    {'cvec__max_df': 0.95, 'cvec__max_features': 5...\n",
       "127    {'cvec__max_df': 0.95, 'cvec__max_features': 5...\n",
       "Name: params, Length: 128, dtype: object"
      ]
     },
     "execution_count": 36,
     "metadata": {},
     "output_type": "execute_result"
    }
   ],
   "source": [
    "result = pd.DataFrame(gs.cv_results_)\n",
    "result['params']"
   ]
  },
  {
   "cell_type": "code",
   "execution_count": 37,
   "id": "8c40eb6c-99e5-4554-a896-6dc13d1d38da",
   "metadata": {
    "execution": {
     "iopub.execute_input": "2022-01-16T05:38:55.466172Z",
     "iopub.status.busy": "2022-01-16T05:38:55.466078Z",
     "iopub.status.idle": "2022-01-16T05:38:55.468474Z",
     "shell.execute_reply": "2022-01-16T05:38:55.468175Z",
     "shell.execute_reply.started": "2022-01-16T05:38:55.466160Z"
    },
    "tags": []
   },
   "outputs": [
    {
     "name": "stdout",
     "output_type": "stream",
     "text": [
      "best score through grid search: 0.9879099099099099\n"
     ]
    }
   ],
   "source": [
    "#print grid search best score\n",
    "print(f'best score through grid search: {gs.best_score_}')"
   ]
  },
  {
   "cell_type": "code",
   "execution_count": 38,
   "id": "8bacde25-a3c8-4937-868a-13fecfcda086",
   "metadata": {
    "execution": {
     "iopub.execute_input": "2022-01-16T05:38:55.469231Z",
     "iopub.status.busy": "2022-01-16T05:38:55.469138Z",
     "iopub.status.idle": "2022-01-16T05:38:55.615157Z",
     "shell.execute_reply": "2022-01-16T05:38:55.614774Z",
     "shell.execute_reply.started": "2022-01-16T05:38:55.469218Z"
    },
    "tags": []
   },
   "outputs": [
    {
     "name": "stdout",
     "output_type": "stream",
     "text": [
      "score from training: 0.9932885906040269\n",
      "score from testing:  0.9879032258064516\n"
     ]
    }
   ],
   "source": [
    "#print score from training and testing data \n",
    "print(f'score from training: {gs.score(X_train, y_train)}')\n",
    "print(f'score from testing:  {gs.score(X_test, y_test)}')"
   ]
  },
  {
   "cell_type": "code",
   "execution_count": 39,
   "id": "1519af81-7b3c-42cd-a20c-f14023154e72",
   "metadata": {
    "execution": {
     "iopub.execute_input": "2022-01-16T05:38:55.621343Z",
     "iopub.status.busy": "2022-01-16T05:38:55.621166Z",
     "iopub.status.idle": "2022-01-16T05:38:55.661794Z",
     "shell.execute_reply": "2022-01-16T05:38:55.661382Z",
     "shell.execute_reply.started": "2022-01-16T05:38:55.621327Z"
    },
    "tags": []
   },
   "outputs": [],
   "source": [
    "#compute predicted values with testing set\n",
    "y_pred = gs.predict(X_test)\n",
    "\n",
    "#compute confusion matrix from testing set\n",
    "cm = confusion_matrix(y_test, y_pred)\n",
    "tn, fp, fn, tp = cm.ravel()"
   ]
  },
  {
   "cell_type": "code",
   "execution_count": 40,
   "id": "6ba4c9f2-6ae0-4967-934d-dafde563e7c3",
   "metadata": {
    "execution": {
     "iopub.execute_input": "2022-01-16T05:38:55.662477Z",
     "iopub.status.busy": "2022-01-16T05:38:55.662390Z",
     "iopub.status.idle": "2022-01-16T05:38:55.666380Z",
     "shell.execute_reply": "2022-01-16T05:38:55.666020Z",
     "shell.execute_reply.started": "2022-01-16T05:38:55.662465Z"
    },
    "tags": []
   },
   "outputs": [
    {
     "data": {
      "text/plain": [
       "0.9301397205588823"
      ]
     },
     "execution_count": 40,
     "metadata": {},
     "output_type": "execute_result"
    }
   ],
   "source": [
    "accuracy_score(y_test, y_pred)"
   ]
  },
  {
   "cell_type": "code",
   "execution_count": 41,
   "id": "6ee8cce6-7f48-4d07-aacc-8b4fd3642616",
   "metadata": {
    "execution": {
     "iopub.execute_input": "2022-01-16T05:38:55.667570Z",
     "iopub.status.busy": "2022-01-16T05:38:55.667120Z",
     "iopub.status.idle": "2022-01-16T05:38:55.745685Z",
     "shell.execute_reply": "2022-01-16T05:38:55.745349Z",
     "shell.execute_reply.started": "2022-01-16T05:38:55.667552Z"
    },
    "tags": []
   },
   "outputs": [
    {
     "data": {
      "image/png": "[encoded data removed]",
      "text/plain": [
       "<Figure size 360x360 with 2 Axes>"
      ]
     },
     "metadata": {
      "needs_background": "light"
     },
     "output_type": "display_data"
    }
   ],
   "source": [
    "#print confusion matrix\n",
    "disp = ConfusionMatrixDisplay(confusion_matrix=cm, display_labels=gs.classes_)\n",
    "fig, ax = plt.subplots(figsize=(5, 5))\n",
    "ax.set_title('confusion matrix')\n",
    "disp.plot(cmap='Blues', ax=ax);"
   ]
  },
  {
   "cell_type": "code",
   "execution_count": 42,
   "id": "13aefcbb-2d58-4321-819e-3757cf722707",
   "metadata": {
    "execution": {
     "iopub.execute_input": "2022-01-16T05:38:55.746650Z",
     "iopub.status.busy": "2022-01-16T05:38:55.746291Z",
     "iopub.status.idle": "2022-01-16T05:38:55.749160Z",
     "shell.execute_reply": "2022-01-16T05:38:55.748720Z",
     "shell.execute_reply.started": "2022-01-16T05:38:55.746635Z"
    },
    "tags": []
   },
   "outputs": [
    {
     "name": "stdout",
     "output_type": "stream",
     "text": [
      "sensitivity : 0.9879032258064516\n",
      "specificity:  0.8735177865612648\n"
     ]
    }
   ],
   "source": [
    "#compute sensitivity and specificity\n",
    "sensitivity = tp / (tp+fn)\n",
    "specificity = tn / (tn+fp)\n",
    "\n",
    "print(f'sensitivity : {sensitivity}')\n",
    "print(f'specificity:  {specificity}')"
   ]
  },
  {
   "cell_type": "code",
   "execution_count": 43,
   "id": "e4ed44af-cc1f-4675-adc1-c29a229c0e91",
   "metadata": {
    "execution": {
     "iopub.execute_input": "2022-01-16T05:38:55.750074Z",
     "iopub.status.busy": "2022-01-16T05:38:55.749905Z",
     "iopub.status.idle": "2022-01-16T05:38:55.755062Z",
     "shell.execute_reply": "2022-01-16T05:38:55.754759Z",
     "shell.execute_reply.started": "2022-01-16T05:38:55.750061Z"
    },
    "tags": []
   },
   "outputs": [
    {
     "name": "stdout",
     "output_type": "stream",
     "text": [
      "              precision    recall  f1-score   support\n",
      "\n",
      "           0       0.99      0.87      0.93       253\n",
      "           1       0.88      0.99      0.93       248\n",
      "\n",
      "    accuracy                           0.93       501\n",
      "   macro avg       0.94      0.93      0.93       501\n",
      "weighted avg       0.94      0.93      0.93       501\n",
      "\n"
     ]
    }
   ],
   "source": [
    "print(classification_report(y_test, y_pred))"
   ]
  },
  {
   "cell_type": "markdown",
   "id": "13b45f86-865c-4207-9dc1-05c0b840cce2",
   "metadata": {},
   "source": [
    "TF-IDF,\n",
    "Multinomial Naive Bayes"
   ]
  },
  {
   "cell_type": "code",
   "execution_count": 44,
   "id": "c0df0ce1-25fa-4c21-8b8d-f96bfe4aceb6",
   "metadata": {
    "execution": {
     "iopub.execute_input": "2022-01-16T05:38:55.755713Z",
     "iopub.status.busy": "2022-01-16T05:38:55.755632Z",
     "iopub.status.idle": "2022-01-16T05:41:32.966295Z",
     "shell.execute_reply": "2022-01-16T05:41:32.965907Z",
     "shell.execute_reply.started": "2022-01-16T05:38:55.755702Z"
    },
    "tags": []
   },
   "outputs": [
    {
     "name": "stderr",
     "output_type": "stream",
     "text": [
      "/opt/anaconda3/lib/python3.8/site-packages/joblib/externals/loky/process_executor.py:702: UserWarning: A worker stopped while some jobs were given to the executor. This can be caused by a too short worker timeout or by a memory leak.\n",
      "  warnings.warn(\n"
     ]
    },
    {
     "data": {
      "text/plain": [
       "GridSearchCV(cv=10,\n",
       "             estimator=Pipeline(steps=[('tvec', TfidfVectorizer()),\n",
       "                                       ('nb', MultinomialNB())]),\n",
       "             n_jobs=2,\n",
       "             param_grid={'nb__fit_prior': [False, True],\n",
       "                         'tvec__max_df': [0.9, 0.95],\n",
       "                         'tvec__max_features': [2000, 3000, 4000, 5000],\n",
       "                         'tvec__min_df': [2, 3],\n",
       "                         'tvec__ngram_range': [(1, 1), (1, 2)],\n",
       "                         'tvec__stop_words': [None, 'english']},\n",
       "             scoring='recall')"
      ]
     },
     "execution_count": 44,
     "metadata": {},
     "output_type": "execute_result"
    }
   ],
   "source": [
    "#create pipeline\n",
    "pipe = Pipeline([\n",
    "    ('tvec', TfidfVectorizer()),\n",
    "    ('nb', MultinomialNB())\n",
    "])\n",
    "\n",
    "#setup pipeline parameters\n",
    "pipe_params = {\n",
    "    'tvec__max_features': [2000, 3000, 4000, 5000],\n",
    "    'tvec__stop_words': [None, 'english'],\n",
    "    'tvec__min_df': [2,3],\n",
    "    'tvec__max_df': [.9,.95],\n",
    "    'tvec__ngram_range': [(1,1), (1,2)],\n",
    "    'nb__fit_prior': [False, True]\n",
    "}\n",
    "\n",
    "#instantiate grid search cross validation \n",
    "gs = GridSearchCV(pipe, pipe_params, cv=10, scoring='recall', n_jobs=2)\n",
    "\n",
    "#fit grid search\n",
    "gs.fit(X_train, y_train)"
   ]
  },
  {
   "cell_type": "code",
   "execution_count": 45,
   "id": "235d980e-2823-4aa6-a291-c0da61178180",
   "metadata": {
    "execution": {
     "iopub.execute_input": "2022-01-16T05:41:32.967619Z",
     "iopub.status.busy": "2022-01-16T05:41:32.967382Z",
     "iopub.status.idle": "2022-01-16T05:41:32.970388Z",
     "shell.execute_reply": "2022-01-16T05:41:32.970132Z",
     "shell.execute_reply.started": "2022-01-16T05:41:32.967599Z"
    },
    "tags": []
   },
   "outputs": [
    {
     "name": "stdout",
     "output_type": "stream",
     "text": [
      "best parameters through grid search:\n",
      "nb__fit_prior: False\n",
      "tvec__max_df: 0.9\n",
      "tvec__max_features: 5000\n",
      "tvec__min_df: 2\n",
      "tvec__ngram_range: (1, 1)\n",
      "tvec__stop_words: None\n"
     ]
    }
   ],
   "source": [
    "#print the best parameters \n",
    "print(\"best parameters through grid search:\")\n",
    "for i, j in gs.best_params_.items(): \n",
    "    print(f\"{i}: {j}\") "
   ]
  },
  {
   "cell_type": "code",
   "execution_count": 46,
   "id": "431be513-4cb2-48af-b834-13effcf3957e",
   "metadata": {
    "execution": {
     "iopub.execute_input": "2022-01-16T05:41:32.971167Z",
     "iopub.status.busy": "2022-01-16T05:41:32.971092Z",
     "iopub.status.idle": "2022-01-16T05:41:32.972948Z",
     "shell.execute_reply": "2022-01-16T05:41:32.972715Z",
     "shell.execute_reply.started": "2022-01-16T05:41:32.971157Z"
    },
    "tags": []
   },
   "outputs": [
    {
     "name": "stdout",
     "output_type": "stream",
     "text": [
      "best score through grid search: 0.9973153153153153\n"
     ]
    }
   ],
   "source": [
    "#print grid search best score\n",
    "print(f'best score through grid search: {gs.best_score_}')"
   ]
  },
  {
   "cell_type": "code",
   "execution_count": 47,
   "id": "502351e6-5980-49b2-9c2a-56b46855a739",
   "metadata": {
    "execution": {
     "iopub.execute_input": "2022-01-16T05:41:32.973429Z",
     "iopub.status.busy": "2022-01-16T05:41:32.973354Z",
     "iopub.status.idle": "2022-01-16T05:41:33.120510Z",
     "shell.execute_reply": "2022-01-16T05:41:33.120177Z",
     "shell.execute_reply.started": "2022-01-16T05:41:32.973419Z"
    },
    "tags": []
   },
   "outputs": [
    {
     "name": "stdout",
     "output_type": "stream",
     "text": [
      "score from training: 0.9987\n",
      "score from testing:  0.996\n"
     ]
    }
   ],
   "source": [
    "#print score from training and testing data \n",
    "print(f'score from training: {round(gs.score(X_train, y_train),4)}')\n",
    "print(f'score from testing:  {round(gs.score(X_test, y_test),4)}')"
   ]
  },
  {
   "cell_type": "code",
   "execution_count": 48,
   "id": "5c25929d-3e87-40f2-968a-a968f5b90424",
   "metadata": {
    "execution": {
     "iopub.execute_input": "2022-01-16T05:41:33.121256Z",
     "iopub.status.busy": "2022-01-16T05:41:33.121164Z",
     "iopub.status.idle": "2022-01-16T05:41:33.162101Z",
     "shell.execute_reply": "2022-01-16T05:41:33.161737Z",
     "shell.execute_reply.started": "2022-01-16T05:41:33.121244Z"
    },
    "tags": []
   },
   "outputs": [],
   "source": [
    "#compute predicted values with testing set\n",
    "y_pred = gs.predict(X_test)\n",
    "\n",
    "#compute confusion matrix from testing set\n",
    "cm = confusion_matrix(y_test, y_pred)\n",
    "tn, fp, fn, tp = cm.ravel()"
   ]
  },
  {
   "cell_type": "code",
   "execution_count": 49,
   "id": "2ec4d0eb-7eae-4f86-9cd9-4411bbb9d1bf",
   "metadata": {
    "execution": {
     "iopub.execute_input": "2022-01-16T05:41:33.162738Z",
     "iopub.status.busy": "2022-01-16T05:41:33.162645Z",
     "iopub.status.idle": "2022-01-16T05:41:33.241496Z",
     "shell.execute_reply": "2022-01-16T05:41:33.241021Z",
     "shell.execute_reply.started": "2022-01-16T05:41:33.162725Z"
    },
    "tags": []
   },
   "outputs": [
    {
     "data": {
      "image/png": "[encoded data removed]",
      "text/plain": [
       "<Figure size 360x360 with 2 Axes>"
      ]
     },
     "metadata": {
      "needs_background": "light"
     },
     "output_type": "display_data"
    }
   ],
   "source": [
    "#print confusion matrix\n",
    "disp = ConfusionMatrixDisplay(confusion_matrix=cm, display_labels=gs.classes_)\n",
    "fig, ax = plt.subplots(figsize=(5, 5))\n",
    "ax.set_title('confusion matrix')\n",
    "disp.plot(cmap='Blues', ax=ax);"
   ]
  },
  {
   "cell_type": "code",
   "execution_count": 50,
   "id": "9433dc29-389a-4b4c-a69d-1c0bca191511",
   "metadata": {
    "execution": {
     "iopub.execute_input": "2022-01-16T05:41:33.242254Z",
     "iopub.status.busy": "2022-01-16T05:41:33.242063Z",
     "iopub.status.idle": "2022-01-16T05:41:33.245359Z",
     "shell.execute_reply": "2022-01-16T05:41:33.244873Z",
     "shell.execute_reply.started": "2022-01-16T05:41:33.242240Z"
    },
    "tags": []
   },
   "outputs": [
    {
     "name": "stdout",
     "output_type": "stream",
     "text": [
      "sensitivity : 0.9959677419354839\n",
      "specificity:  0.766798418972332\n"
     ]
    }
   ],
   "source": [
    "#compute sensitivity and specificity\n",
    "sensitivity = tp / (tp+fn)\n",
    "specificity = tn / (tn+fp)\n",
    "\n",
    "print(f'sensitivity : {sensitivity}')\n",
    "print(f'specificity:  {specificity}')"
   ]
  },
  {
   "cell_type": "code",
   "execution_count": 51,
   "id": "92c8dc10-bf7c-49a8-8342-d3c7222ee29c",
   "metadata": {
    "execution": {
     "iopub.execute_input": "2022-01-16T05:41:33.246309Z",
     "iopub.status.busy": "2022-01-16T05:41:33.246215Z",
     "iopub.status.idle": "2022-01-16T05:41:33.253638Z",
     "shell.execute_reply": "2022-01-16T05:41:33.253226Z",
     "shell.execute_reply.started": "2022-01-16T05:41:33.246296Z"
    },
    "tags": []
   },
   "outputs": [
    {
     "name": "stdout",
     "output_type": "stream",
     "text": [
      "              precision    recall  f1-score   support\n",
      "\n",
      "           0       0.99      0.77      0.87       253\n",
      "           1       0.81      1.00      0.89       248\n",
      "\n",
      "    accuracy                           0.88       501\n",
      "   macro avg       0.90      0.88      0.88       501\n",
      "weighted avg       0.90      0.88      0.88       501\n",
      "\n"
     ]
    }
   ],
   "source": [
    "print(classification_report(y_test, y_pred))"
   ]
  },
  {
   "cell_type": "code",
   "execution_count": null,
   "id": "10fcc278-7a43-4d64-aed2-4771bdd67277",
   "metadata": {},
   "outputs": [],
   "source": []
  },
  {
   "cell_type": "code",
   "execution_count": null,
   "id": "189ea81f-ec26-439c-8bcb-548a0904eeb3",
   "metadata": {},
   "outputs": [],
   "source": []
  },
  {
   "cell_type": "code",
   "execution_count": null,
   "id": "ca508f23-0323-47bf-8331-4f2a4bce6c26",
   "metadata": {},
   "outputs": [],
   "source": []
  }
 ],
 "metadata": {
  "kernelspec": {
   "display_name": "Python 3 (ipykernel)",
   "language": "python",
   "name": "python3"
  },
  "language_info": {
   "codemirror_mode": {
    "name": "ipython",
    "version": 3
   },
   "file_extension": ".py",
   "mimetype": "text/x-python",
   "name": "python",
   "nbconvert_exporter": "python",
   "pygments_lexer": "ipython3",
   "version": "3.8.12"
  },
  "toc-autonumbering": false,
  "toc-showcode": false,
  "toc-showmarkdowntxt": false,
  "toc-showtags": false
 },
 "nbformat": 4,
 "nbformat_minor": 5
}
